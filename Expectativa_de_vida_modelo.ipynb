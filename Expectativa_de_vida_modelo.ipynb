{
 "cells": [
  {
   "attachments": {},
   "cell_type": "markdown",
   "metadata": {},
   "source": [
    "### Projeto Final Para Conclusão do Curso de Cientista de Dados"
   ]
  },
  {
   "attachments": {},
   "cell_type": "markdown",
   "metadata": {},
   "source": [
    "Instituição: Infnet"
   ]
  },
  {
   "attachments": {},
   "cell_type": "markdown",
   "metadata": {},
   "source": [
    "Aluno: Marcio Carvalho"
   ]
  },
  {
   "attachments": {},
   "cell_type": "markdown",
   "metadata": {},
   "source": [
    "Projeto: Predição da expectativa de vida no mundo de acordo diversos fatores de saúde e sócio econômicos."
   ]
  },
  {
   "attachments": {},
   "cell_type": "markdown",
   "metadata": {},
   "source": [
    "Dados: O repositório de dados é da Global Health Observatory (GHO), portal de conjunto de dados da Organização Mundial da Saúde (OMS) para estatísticas relacionadas à saúde de 183 Estados Membros. Os dados econômicos correspondentes foram coletados do site das Nações Unidas. Inicialmente os respectivos dados foram coletados e organizados no Site: https://www.kaggle.com/datasets/kumarajarshi/life-expectancy-who. pelo responsável KumarRajarshi.\n",
    "             \n"
   ]
  },
  {
   "attachments": {},
   "cell_type": "markdown",
   "metadata": {},
   "source": [
    "Período: 2000-2015"
   ]
  },
  {
   "attachments": {},
   "cell_type": "markdown",
   "metadata": {},
   "source": [
    "As colunas a seguir estão incluídas no conjunto de dados:\n",
    "\n",
    "• Country: país - 193 países\n",
    "\n",
    "• year: Anos (2000 - 2015)\n",
    "\n",
    "• Status: país desenvolvido ou em desenvolvimento\n",
    "\n",
    "• Adult Mortality: Taxas de mortalidade adulta de ambos os sexos (probabilidade de morrer entre 15 e 60 anos por 1000 habitantes)\n",
    "\n",
    "• infant Deaths: Número de óbitos infantis por 1.000 habitantes\n",
    "\n",
    "• Alcohol: Álcool, consumo registrado per capita (15+) (em litros de álcool puro)\n",
    "\n",
    "• percentage expenditure: Despesa percentual - Gastos com saúde como porcentagem do Produto Interno Bruto per capita (%)\n",
    "\n",
    "• Hepatitis B: Cobertura vacinal contra hepatite B (HepB) em crianças de 1 ano (%)\n",
    "\n",
    "• Measles: Sarampo - número de casos notificados por 1000 habitantes\n",
    "\n",
    "• BMI: Índice de Massa Corporal Médio de toda a população\n",
    "\n",
    "• under-five deathes: Número de mortes de menores de cinco anos por 1000 habitantes\n",
    "\n",
    "• Polio: Cobertura vacinal contra pólio (Pol3) em crianças de 1 ano (%)\n",
    "\n",
    "• Total expenditure: Despesas totais - Gastos do governo geral com saúde como porcentagem do gasto total do governo (%)\n",
    "\n",
    "• Polio: Cobertura vacinal contra pólio (Pol3) em crianças de 1 ano (%)\n",
    "\n",
    "• Diphtheria: Difteria - Cobertura vacinal contra difteria, tétano e coqueluche (DTP3) em crianças de 1 ano de idade (%)\n",
    "\n",
    "• HIV/AIDS: Mortes por 1000 nascidos vivos HIV/AIDS (0-4 anos)\n",
    "\n",
    "• GDP: Produto Interno Bruto per capita (em USD)\n",
    "\n",
    "• Population: População do país\n",
    "\n",
    "• thinness 1-19 years: Prevalência de magreza em crianças e adolescentes de 1 a 19 anos (%)\n",
    "\n",
    "• thinness 5-9 years: Prevalência de magreza em crianças de 5 a 9 anos (%)\n",
    "\n",
    "• Income composition of resources: Índice de Desenvolvimento Humano em termos de composição de renda dos recursos (índice variando de 0 a 1)\n",
    "\n",
    "• Schooling: Número de anos de escolaridade (anos)\n",
    "\n",
    "• Life Expectancy: Expectativa de vida em anos (coluna Alvo)\n"
   ]
  },
  {
   "attachments": {},
   "cell_type": "markdown",
   "metadata": {},
   "source": [
    "### Criação do Modelo de Predição"
   ]
  },
  {
   "cell_type": "code",
   "execution_count": 10,
   "metadata": {},
   "outputs": [],
   "source": [
    "import pandas as pd\n",
    "import numpy as np\n",
    "from sklearn.model_selection import train_test_split\n",
    "from sklearn.preprocessing import StandardScaler\n",
    "from sklearn.dummy import DummyRegressor\n",
    "from sklearn.svm import SVR\n",
    "from sklearn.tree import DecisionTreeRegressor\n",
    "from sklearn.ensemble import RandomForestRegressor\n",
    "from sklearn.ensemble import GradientBoostingRegressor\n",
    "from sklearn.neural_network import MLPRegressor\n",
    "from sklearn.model_selection import GridSearchCV\n",
    "from sklearn.model_selection import KFold\n",
    "from sklearn.metrics import mean_squared_error\n",
    "from sklearn.model_selection import cross_val_score\n",
    "import seaborn as sns\n",
    "import matplotlib.pyplot as plt\n",
    "import warnings\n",
    "warnings.filterwarnings('ignore')\n"
   ]
  },
  {
   "cell_type": "code",
   "execution_count": 11,
   "metadata": {},
   "outputs": [],
   "source": [
    "df_completo = pd.read_csv('Expectativa_de_vida_tratado.csv')"
   ]
  },
  {
   "cell_type": "code",
   "execution_count": 12,
   "metadata": {},
   "outputs": [
    {
     "data": {
      "text/html": [
       "<div>\n",
       "<style scoped>\n",
       "    .dataframe tbody tr th:only-of-type {\n",
       "        vertical-align: middle;\n",
       "    }\n",
       "\n",
       "    .dataframe tbody tr th {\n",
       "        vertical-align: top;\n",
       "    }\n",
       "\n",
       "    .dataframe thead th {\n",
       "        text-align: right;\n",
       "    }\n",
       "</style>\n",
       "<table border=\"1\" class=\"dataframe\">\n",
       "  <thead>\n",
       "    <tr style=\"text-align: right;\">\n",
       "      <th></th>\n",
       "      <th>PaIs</th>\n",
       "      <th>Ano</th>\n",
       "      <th>Classificacao</th>\n",
       "      <th>Expectativa_de_Vida</th>\n",
       "      <th>Taxa_Mortalidade_Adulto</th>\n",
       "      <th>Numero_Obito_Infantil</th>\n",
       "      <th>Consumo_Alcool</th>\n",
       "      <th>Gastos_Com_Saude</th>\n",
       "      <th>Hepatite_B</th>\n",
       "      <th>Sarampo</th>\n",
       "      <th>...</th>\n",
       "      <th>Cobertura_Polio</th>\n",
       "      <th>Relacao_GastosSaude/despesasTotais</th>\n",
       "      <th>Cobertura_Difeteria</th>\n",
       "      <th>Mortes_criancas_0-4a_Hiv_aids</th>\n",
       "      <th>PIB</th>\n",
       "      <th>Populacao</th>\n",
       "      <th>Magreza_1-19anos</th>\n",
       "      <th>Magreza_5-9anos</th>\n",
       "      <th>IDH</th>\n",
       "      <th>Anos_de_Escolaridade</th>\n",
       "    </tr>\n",
       "  </thead>\n",
       "  <tbody>\n",
       "    <tr>\n",
       "      <th>0</th>\n",
       "      <td>Afghanistan</td>\n",
       "      <td>2015</td>\n",
       "      <td>Developing</td>\n",
       "      <td>65.0</td>\n",
       "      <td>263.0</td>\n",
       "      <td>62</td>\n",
       "      <td>0.01</td>\n",
       "      <td>71.279624</td>\n",
       "      <td>65.0</td>\n",
       "      <td>1154</td>\n",
       "      <td>...</td>\n",
       "      <td>6.0</td>\n",
       "      <td>8.16</td>\n",
       "      <td>65.0</td>\n",
       "      <td>0.1</td>\n",
       "      <td>584.259210</td>\n",
       "      <td>33736494.0</td>\n",
       "      <td>17.2</td>\n",
       "      <td>17.3</td>\n",
       "      <td>0.479</td>\n",
       "      <td>10.1</td>\n",
       "    </tr>\n",
       "    <tr>\n",
       "      <th>1</th>\n",
       "      <td>Afghanistan</td>\n",
       "      <td>2014</td>\n",
       "      <td>Developing</td>\n",
       "      <td>59.9</td>\n",
       "      <td>271.0</td>\n",
       "      <td>64</td>\n",
       "      <td>0.01</td>\n",
       "      <td>73.523582</td>\n",
       "      <td>62.0</td>\n",
       "      <td>492</td>\n",
       "      <td>...</td>\n",
       "      <td>58.0</td>\n",
       "      <td>8.18</td>\n",
       "      <td>62.0</td>\n",
       "      <td>0.1</td>\n",
       "      <td>612.696514</td>\n",
       "      <td>327582.0</td>\n",
       "      <td>17.5</td>\n",
       "      <td>17.5</td>\n",
       "      <td>0.476</td>\n",
       "      <td>10.0</td>\n",
       "    </tr>\n",
       "    <tr>\n",
       "      <th>2</th>\n",
       "      <td>Afghanistan</td>\n",
       "      <td>2013</td>\n",
       "      <td>Developing</td>\n",
       "      <td>59.9</td>\n",
       "      <td>268.0</td>\n",
       "      <td>66</td>\n",
       "      <td>0.01</td>\n",
       "      <td>73.219243</td>\n",
       "      <td>64.0</td>\n",
       "      <td>430</td>\n",
       "      <td>...</td>\n",
       "      <td>62.0</td>\n",
       "      <td>8.13</td>\n",
       "      <td>64.0</td>\n",
       "      <td>0.1</td>\n",
       "      <td>631.744976</td>\n",
       "      <td>31731688.0</td>\n",
       "      <td>17.7</td>\n",
       "      <td>17.7</td>\n",
       "      <td>0.470</td>\n",
       "      <td>9.9</td>\n",
       "    </tr>\n",
       "  </tbody>\n",
       "</table>\n",
       "<p>3 rows × 22 columns</p>\n",
       "</div>"
      ],
      "text/plain": [
       "          PaIs   Ano Classificacao  Expectativa_de_Vida  \\\n",
       "0  Afghanistan  2015    Developing                 65.0   \n",
       "1  Afghanistan  2014    Developing                 59.9   \n",
       "2  Afghanistan  2013    Developing                 59.9   \n",
       "\n",
       "   Taxa_Mortalidade_Adulto  Numero_Obito_Infantil  Consumo_Alcool  \\\n",
       "0                    263.0                     62            0.01   \n",
       "1                    271.0                     64            0.01   \n",
       "2                    268.0                     66            0.01   \n",
       "\n",
       "   Gastos_Com_Saude  Hepatite_B  Sarampo  ...  Cobertura_Polio  \\\n",
       "0         71.279624        65.0     1154  ...              6.0   \n",
       "1         73.523582        62.0      492  ...             58.0   \n",
       "2         73.219243        64.0      430  ...             62.0   \n",
       "\n",
       "   Relacao_GastosSaude/despesasTotais  Cobertura_Difeteria  \\\n",
       "0                                8.16                 65.0   \n",
       "1                                8.18                 62.0   \n",
       "2                                8.13                 64.0   \n",
       "\n",
       "   Mortes_criancas_0-4a_Hiv_aids         PIB   Populacao  Magreza_1-19anos  \\\n",
       "0                            0.1  584.259210  33736494.0              17.2   \n",
       "1                            0.1  612.696514    327582.0              17.5   \n",
       "2                            0.1  631.744976  31731688.0              17.7   \n",
       "\n",
       "   Magreza_5-9anos    IDH  Anos_de_Escolaridade  \n",
       "0             17.3  0.479                  10.1  \n",
       "1             17.5  0.476                  10.0  \n",
       "2             17.7  0.470                   9.9  \n",
       "\n",
       "[3 rows x 22 columns]"
      ]
     },
     "execution_count": 12,
     "metadata": {},
     "output_type": "execute_result"
    }
   ],
   "source": [
    "df_completo.head(3)"
   ]
  },
  {
   "cell_type": "code",
   "execution_count": 13,
   "metadata": {},
   "outputs": [
    {
     "data": {
      "text/html": [
       "<div>\n",
       "<style scoped>\n",
       "    .dataframe tbody tr th:only-of-type {\n",
       "        vertical-align: middle;\n",
       "    }\n",
       "\n",
       "    .dataframe tbody tr th {\n",
       "        vertical-align: top;\n",
       "    }\n",
       "\n",
       "    .dataframe thead th {\n",
       "        text-align: right;\n",
       "    }\n",
       "</style>\n",
       "<table border=\"1\" class=\"dataframe\">\n",
       "  <thead>\n",
       "    <tr style=\"text-align: right;\">\n",
       "      <th></th>\n",
       "      <th>PaIs</th>\n",
       "      <th>Ano</th>\n",
       "      <th>Classificacao</th>\n",
       "      <th>Expectativa_de_Vida</th>\n",
       "      <th>Taxa_Mortalidade_Adulto</th>\n",
       "      <th>Numero_Obito_Infantil</th>\n",
       "      <th>Consumo_Alcool</th>\n",
       "      <th>Gastos_Com_Saude</th>\n",
       "      <th>Hepatite_B</th>\n",
       "      <th>Sarampo</th>\n",
       "      <th>...</th>\n",
       "      <th>Cobertura_Polio</th>\n",
       "      <th>Relacao_GastosSaude/despesasTotais</th>\n",
       "      <th>Cobertura_Difeteria</th>\n",
       "      <th>Mortes_criancas_0-4a_Hiv_aids</th>\n",
       "      <th>PIB</th>\n",
       "      <th>Populacao</th>\n",
       "      <th>Magreza_1-19anos</th>\n",
       "      <th>Magreza_5-9anos</th>\n",
       "      <th>IDH</th>\n",
       "      <th>Anos_de_Escolaridade</th>\n",
       "    </tr>\n",
       "  </thead>\n",
       "  <tbody>\n",
       "    <tr>\n",
       "      <th>112</th>\n",
       "      <td>Australia</td>\n",
       "      <td>2015</td>\n",
       "      <td>Developed</td>\n",
       "      <td>82.8</td>\n",
       "      <td>59.0</td>\n",
       "      <td>1</td>\n",
       "      <td>10.155333</td>\n",
       "      <td>0.00000</td>\n",
       "      <td>93.0</td>\n",
       "      <td>74</td>\n",
       "      <td>...</td>\n",
       "      <td>93.0</td>\n",
       "      <td>8.836667</td>\n",
       "      <td>93.0</td>\n",
       "      <td>0.1</td>\n",
       "      <td>56554.3876</td>\n",
       "      <td>23789338.0</td>\n",
       "      <td>0.6</td>\n",
       "      <td>0.6</td>\n",
       "      <td>0.937</td>\n",
       "      <td>20.4</td>\n",
       "    </tr>\n",
       "    <tr>\n",
       "      <th>113</th>\n",
       "      <td>Australia</td>\n",
       "      <td>2014</td>\n",
       "      <td>Developed</td>\n",
       "      <td>82.7</td>\n",
       "      <td>6.0</td>\n",
       "      <td>1</td>\n",
       "      <td>9.710000</td>\n",
       "      <td>10769.36305</td>\n",
       "      <td>91.0</td>\n",
       "      <td>340</td>\n",
       "      <td>...</td>\n",
       "      <td>92.0</td>\n",
       "      <td>9.420000</td>\n",
       "      <td>92.0</td>\n",
       "      <td>0.1</td>\n",
       "      <td>62214.6912</td>\n",
       "      <td>2346694.0</td>\n",
       "      <td>0.6</td>\n",
       "      <td>0.6</td>\n",
       "      <td>0.936</td>\n",
       "      <td>20.4</td>\n",
       "    </tr>\n",
       "    <tr>\n",
       "      <th>114</th>\n",
       "      <td>Australia</td>\n",
       "      <td>2013</td>\n",
       "      <td>Developed</td>\n",
       "      <td>82.5</td>\n",
       "      <td>61.0</td>\n",
       "      <td>1</td>\n",
       "      <td>9.870000</td>\n",
       "      <td>11734.85381</td>\n",
       "      <td>91.0</td>\n",
       "      <td>158</td>\n",
       "      <td>...</td>\n",
       "      <td>91.0</td>\n",
       "      <td>9.360000</td>\n",
       "      <td>91.0</td>\n",
       "      <td>0.1</td>\n",
       "      <td>67792.3386</td>\n",
       "      <td>23117353.0</td>\n",
       "      <td>0.6</td>\n",
       "      <td>0.6</td>\n",
       "      <td>0.933</td>\n",
       "      <td>20.3</td>\n",
       "    </tr>\n",
       "  </tbody>\n",
       "</table>\n",
       "<p>3 rows × 22 columns</p>\n",
       "</div>"
      ],
      "text/plain": [
       "          PaIs   Ano Classificacao  Expectativa_de_Vida  \\\n",
       "112  Australia  2015     Developed                 82.8   \n",
       "113  Australia  2014     Developed                 82.7   \n",
       "114  Australia  2013     Developed                 82.5   \n",
       "\n",
       "     Taxa_Mortalidade_Adulto  Numero_Obito_Infantil  Consumo_Alcool  \\\n",
       "112                     59.0                      1       10.155333   \n",
       "113                      6.0                      1        9.710000   \n",
       "114                     61.0                      1        9.870000   \n",
       "\n",
       "     Gastos_Com_Saude  Hepatite_B  Sarampo  ...  Cobertura_Polio  \\\n",
       "112           0.00000        93.0       74  ...             93.0   \n",
       "113       10769.36305        91.0      340  ...             92.0   \n",
       "114       11734.85381        91.0      158  ...             91.0   \n",
       "\n",
       "     Relacao_GastosSaude/despesasTotais  Cobertura_Difeteria  \\\n",
       "112                            8.836667                 93.0   \n",
       "113                            9.420000                 92.0   \n",
       "114                            9.360000                 91.0   \n",
       "\n",
       "     Mortes_criancas_0-4a_Hiv_aids         PIB   Populacao  Magreza_1-19anos  \\\n",
       "112                            0.1  56554.3876  23789338.0               0.6   \n",
       "113                            0.1  62214.6912   2346694.0               0.6   \n",
       "114                            0.1  67792.3386  23117353.0               0.6   \n",
       "\n",
       "     Magreza_5-9anos    IDH  Anos_de_Escolaridade  \n",
       "112              0.6  0.937                  20.4  \n",
       "113              0.6  0.936                  20.4  \n",
       "114              0.6  0.933                  20.3  \n",
       "\n",
       "[3 rows x 22 columns]"
      ]
     },
     "execution_count": 13,
     "metadata": {},
     "output_type": "execute_result"
    }
   ],
   "source": [
    "df_des = df_completo[df_completo['Classificacao']=='Developed']\n",
    "df_des.head(3)"
   ]
  },
  {
   "cell_type": "code",
   "execution_count": 14,
   "metadata": {},
   "outputs": [
    {
     "data": {
      "text/html": [
       "<div>\n",
       "<style scoped>\n",
       "    .dataframe tbody tr th:only-of-type {\n",
       "        vertical-align: middle;\n",
       "    }\n",
       "\n",
       "    .dataframe tbody tr th {\n",
       "        vertical-align: top;\n",
       "    }\n",
       "\n",
       "    .dataframe thead th {\n",
       "        text-align: right;\n",
       "    }\n",
       "</style>\n",
       "<table border=\"1\" class=\"dataframe\">\n",
       "  <thead>\n",
       "    <tr style=\"text-align: right;\">\n",
       "      <th></th>\n",
       "      <th>PaIs</th>\n",
       "      <th>Ano</th>\n",
       "      <th>Classificacao</th>\n",
       "      <th>Expectativa_de_Vida</th>\n",
       "      <th>Taxa_Mortalidade_Adulto</th>\n",
       "      <th>Numero_Obito_Infantil</th>\n",
       "      <th>Consumo_Alcool</th>\n",
       "      <th>Gastos_Com_Saude</th>\n",
       "      <th>Hepatite_B</th>\n",
       "      <th>Sarampo</th>\n",
       "      <th>...</th>\n",
       "      <th>Cobertura_Polio</th>\n",
       "      <th>Relacao_GastosSaude/despesasTotais</th>\n",
       "      <th>Cobertura_Difeteria</th>\n",
       "      <th>Mortes_criancas_0-4a_Hiv_aids</th>\n",
       "      <th>PIB</th>\n",
       "      <th>Populacao</th>\n",
       "      <th>Magreza_1-19anos</th>\n",
       "      <th>Magreza_5-9anos</th>\n",
       "      <th>IDH</th>\n",
       "      <th>Anos_de_Escolaridade</th>\n",
       "    </tr>\n",
       "  </thead>\n",
       "  <tbody>\n",
       "    <tr>\n",
       "      <th>0</th>\n",
       "      <td>Afghanistan</td>\n",
       "      <td>2015</td>\n",
       "      <td>Developing</td>\n",
       "      <td>65.0</td>\n",
       "      <td>263.0</td>\n",
       "      <td>62</td>\n",
       "      <td>0.01</td>\n",
       "      <td>71.279624</td>\n",
       "      <td>65.0</td>\n",
       "      <td>1154</td>\n",
       "      <td>...</td>\n",
       "      <td>6.0</td>\n",
       "      <td>8.16</td>\n",
       "      <td>65.0</td>\n",
       "      <td>0.1</td>\n",
       "      <td>584.259210</td>\n",
       "      <td>33736494.0</td>\n",
       "      <td>17.2</td>\n",
       "      <td>17.3</td>\n",
       "      <td>0.479</td>\n",
       "      <td>10.1</td>\n",
       "    </tr>\n",
       "    <tr>\n",
       "      <th>1</th>\n",
       "      <td>Afghanistan</td>\n",
       "      <td>2014</td>\n",
       "      <td>Developing</td>\n",
       "      <td>59.9</td>\n",
       "      <td>271.0</td>\n",
       "      <td>64</td>\n",
       "      <td>0.01</td>\n",
       "      <td>73.523582</td>\n",
       "      <td>62.0</td>\n",
       "      <td>492</td>\n",
       "      <td>...</td>\n",
       "      <td>58.0</td>\n",
       "      <td>8.18</td>\n",
       "      <td>62.0</td>\n",
       "      <td>0.1</td>\n",
       "      <td>612.696514</td>\n",
       "      <td>327582.0</td>\n",
       "      <td>17.5</td>\n",
       "      <td>17.5</td>\n",
       "      <td>0.476</td>\n",
       "      <td>10.0</td>\n",
       "    </tr>\n",
       "    <tr>\n",
       "      <th>2</th>\n",
       "      <td>Afghanistan</td>\n",
       "      <td>2013</td>\n",
       "      <td>Developing</td>\n",
       "      <td>59.9</td>\n",
       "      <td>268.0</td>\n",
       "      <td>66</td>\n",
       "      <td>0.01</td>\n",
       "      <td>73.219243</td>\n",
       "      <td>64.0</td>\n",
       "      <td>430</td>\n",
       "      <td>...</td>\n",
       "      <td>62.0</td>\n",
       "      <td>8.13</td>\n",
       "      <td>64.0</td>\n",
       "      <td>0.1</td>\n",
       "      <td>631.744976</td>\n",
       "      <td>31731688.0</td>\n",
       "      <td>17.7</td>\n",
       "      <td>17.7</td>\n",
       "      <td>0.470</td>\n",
       "      <td>9.9</td>\n",
       "    </tr>\n",
       "  </tbody>\n",
       "</table>\n",
       "<p>3 rows × 22 columns</p>\n",
       "</div>"
      ],
      "text/plain": [
       "          PaIs   Ano Classificacao  Expectativa_de_Vida  \\\n",
       "0  Afghanistan  2015    Developing                 65.0   \n",
       "1  Afghanistan  2014    Developing                 59.9   \n",
       "2  Afghanistan  2013    Developing                 59.9   \n",
       "\n",
       "   Taxa_Mortalidade_Adulto  Numero_Obito_Infantil  Consumo_Alcool  \\\n",
       "0                    263.0                     62            0.01   \n",
       "1                    271.0                     64            0.01   \n",
       "2                    268.0                     66            0.01   \n",
       "\n",
       "   Gastos_Com_Saude  Hepatite_B  Sarampo  ...  Cobertura_Polio  \\\n",
       "0         71.279624        65.0     1154  ...              6.0   \n",
       "1         73.523582        62.0      492  ...             58.0   \n",
       "2         73.219243        64.0      430  ...             62.0   \n",
       "\n",
       "   Relacao_GastosSaude/despesasTotais  Cobertura_Difeteria  \\\n",
       "0                                8.16                 65.0   \n",
       "1                                8.18                 62.0   \n",
       "2                                8.13                 64.0   \n",
       "\n",
       "   Mortes_criancas_0-4a_Hiv_aids         PIB   Populacao  Magreza_1-19anos  \\\n",
       "0                            0.1  584.259210  33736494.0              17.2   \n",
       "1                            0.1  612.696514    327582.0              17.5   \n",
       "2                            0.1  631.744976  31731688.0              17.7   \n",
       "\n",
       "   Magreza_5-9anos    IDH  Anos_de_Escolaridade  \n",
       "0             17.3  0.479                  10.1  \n",
       "1             17.5  0.476                  10.0  \n",
       "2             17.7  0.470                   9.9  \n",
       "\n",
       "[3 rows x 22 columns]"
      ]
     },
     "execution_count": 14,
     "metadata": {},
     "output_type": "execute_result"
    }
   ],
   "source": [
    "df_emdes = df_completo[df_completo['Classificacao']=='Developing']\n",
    "df_emdes.head(3)"
   ]
  },
  {
   "cell_type": "code",
   "execution_count": 15,
   "metadata": {},
   "outputs": [
    {
     "name": "stdout",
     "output_type": "stream",
     "text": [
      "(2928, 22)\n",
      "(512, 22)\n",
      "(2416, 22)\n"
     ]
    }
   ],
   "source": [
    "print(df_completo.shape)\n",
    "print (df_des.shape)\n",
    "print (df_emdes.shape)"
   ]
  },
  {
   "cell_type": "code",
   "execution_count": 16,
   "metadata": {},
   "outputs": [],
   "source": [
    "def preparacao(def_model):\n",
    "   df_model = def_model.drop(columns=['PaIs','Ano'])\n",
    "   df_model = pd.get_dummies(df_model,columns=['Classificacao'])\n",
    "   x = df_model.drop(columns='Expectativa_de_Vida')\n",
    "   y = df_model.Expectativa_de_Vida\n",
    "   return x , y"
   ]
  },
  {
   "cell_type": "code",
   "execution_count": 17,
   "metadata": {},
   "outputs": [],
   "source": [
    "def treino_teste (X,Y):\n",
    "    X_train, X_test, Y_train, Y_test = train_test_split(X, Y, test_size=0.2, random_state=10) \n",
    "    return X_train, X_test, Y_train, Y_test"
   ]
  },
  {
   "cell_type": "code",
   "execution_count": 18,
   "metadata": {},
   "outputs": [],
   "source": [
    "def normalizacao(X_train, X_test):\n",
    "    scaler = StandardScaler()\n",
    "    scaler_fit = scaler.fit(X_train)\n",
    "    X_train_norm = scaler_fit.transform(X_train)\n",
    "    X_train_dfnorm = pd.DataFrame(X_train_norm,columns=X_train.columns)\n",
    "    X_test_norm = scaler_fit.transform(X_test)\n",
    "    X_test_dfnorm = pd.DataFrame(X_test_norm,columns=X_train.columns)\n",
    "    return X_train_norm , X_train_dfnorm , X_test_norm , X_test_dfnorm, scaler_fit"
   ]
  },
  {
   "cell_type": "code",
   "execution_count": 19,
   "metadata": {},
   "outputs": [],
   "source": [
    "def selecao(X_train , X_test , Y_train , Y_test): \n",
    "    X_rank = pd.concat([X_train, X_test])\n",
    "    Y_rank = pd.concat([Y_train, Y_test])\n",
    "    for model in [DummyRegressor,SVR,DecisionTreeRegressor,RandomForestRegressor,GradientBoostingRegressor,MLPRegressor]:\n",
    "      cls = model()\n",
    "      kfold = KFold(n_splits=10,shuffle=True, random_state=10 )\n",
    "      s = cross_val_score(cls, X_rank, Y_rank, scoring=\"neg_mean_squared_error\", cv=kfold)\n",
    "      print(f\"{model.__name__:22} MSE: \"f\"{s.mean():.3f} STD: {s.std():.2f}\")"
   ]
  },
  {
   "cell_type": "code",
   "execution_count": 20,
   "metadata": {},
   "outputs": [],
   "source": [
    "def modelo (x_train , y_train):\n",
    "   param_grid = {\n",
    "    'bootstrap': [True],\n",
    "    'max_depth': [20],\n",
    "    'max_features': [0.4],\n",
    "    'min_samples_leaf': [1],\n",
    "    'min_samples_split': [2,3],\n",
    "    'n_estimators': [700,800],\n",
    "    'random_state': [20],\n",
    "   }\n",
    "   rf = RandomForestRegressor()\n",
    "   grid_search = GridSearchCV(estimator = rf, param_grid = param_grid, \n",
    "                           cv = 10, n_jobs = -1, verbose = 3,scoring='neg_mean_squared_error',return_train_score=True)\n",
    "   grid_search.fit(x_train, y_train)\n",
    "   return grid_search"
   ]
  },
  {
   "cell_type": "code",
   "execution_count": 21,
   "metadata": {},
   "outputs": [],
   "source": [
    "def metrica(y_test,x_test,model):\n",
    "    metrica = mean_squared_error(y_test,model.predict(x_test),squared=False)\n",
    "    return metrica"
   ]
  },
  {
   "cell_type": "code",
   "execution_count": 22,
   "metadata": {},
   "outputs": [],
   "source": [
    "def importante (x_train,feature):\n",
    "    imp = pd.DataFrame({\"Variáveis\": x_train.columns,\"importantes\": feature})\n",
    "    var_imp = imp.sort_values(by='importantes',ascending=False).reset_index(drop=True)\n",
    "    return var_imp"
   ]
  },
  {
   "cell_type": "code",
   "execution_count": 23,
   "metadata": {},
   "outputs": [],
   "source": [
    "def completo(X,modelo):\n",
    "    scaler = StandardScaler()\n",
    "    X_completo = scaler.fit_transform(X)\n",
    "    yhat = modelo.predict(X_completo)\n",
    "    return yhat , X_completo"
   ]
  },
  {
   "cell_type": "code",
   "execution_count": 24,
   "metadata": {},
   "outputs": [],
   "source": [
    "# Preparação dos 3 dataframes\n",
    "x_full , y_full = preparacao (df_completo)\n",
    "x_des , y_des = preparacao (df_des)\n",
    "x_emdes , y_emdes = preparacao (df_emdes)"
   ]
  },
  {
   "cell_type": "code",
   "execution_count": 25,
   "metadata": {},
   "outputs": [
    {
     "name": "stdout",
     "output_type": "stream",
     "text": [
      "(2342, 20)\n",
      "(409, 19)\n",
      "(1932, 19)\n"
     ]
    }
   ],
   "source": [
    "X_train_full, X_test_full, Y_train_full, Y_test_full = treino_teste (x_full , y_full)\n",
    "X_train_des, X_test_des, Y_train_des, Y_test_des = treino_teste (x_des , y_des)\n",
    "X_train_emdes, X_test_emdes, Y_train_emdes, Y_test_emdes = treino_teste (x_emdes , y_emdes)\n",
    "print(X_train_full.shape)\n",
    "print (X_train_des.shape)\n",
    "print (X_train_emdes.shape)"
   ]
  },
  {
   "cell_type": "code",
   "execution_count": 71,
   "metadata": {},
   "outputs": [
    {
     "data": {
      "text/plain": [
       "Text(0.5, 1.0, 'Distribuição de Dados de Treinamento por Dataframe')"
      ]
     },
     "execution_count": 71,
     "metadata": {},
     "output_type": "execute_result"
    },
    {
     "data": {
      "image/png": "[encoded data removed]",
      "text/plain": [
       "<Figure size 1000x800 with 1 Axes>"
      ]
     },
     "metadata": {},
     "output_type": "display_data"
    }
   ],
   "source": [
    "fig, ax = plt.subplots (figsize=(10,8))\n",
    "tamanho = [ X_train_full.shape[0],X_train_emdes.shape[0],X_train_des.shape[0]]\n",
    "dataframe = ['Completo','Em desenvolvimento', 'Desenvolvido']\n",
    "ax1 = ax.bar (dataframe, tamanho, width=-0.4)\n",
    "ax.bar_label(ax1, fmt=\"%.0f\", size=15)\n",
    "plt.ylabel('Quantidade de Dados')\n",
    "plt.xlabel('Grupo de Países')\n",
    "plt.title('Distribuição de Dados de Treinamento por Dataframe')"
   ]
  },
  {
   "cell_type": "code",
   "execution_count": 70,
   "metadata": {},
   "outputs": [
    {
     "data": {
      "text/plain": [
       "Text(0.5, 1.0, 'Distribuição de Dados de Teste por Dataframe')"
      ]
     },
     "execution_count": 70,
     "metadata": {},
     "output_type": "execute_result"
    },
    {
     "data": {
      "image/png": "[encoded data removed]",
      "text/plain": [
       "<Figure size 1000x800 with 1 Axes>"
      ]
     },
     "metadata": {},
     "output_type": "display_data"
    }
   ],
   "source": [
    "fig, ax = plt.subplots (figsize=(10,8))\n",
    "tamanho = [ X_test_full.shape[0],X_test_emdes.shape[0],X_test_des.shape[0]]\n",
    "dataframe = ['Completo','Em desenvolvimento', 'Desenvolvido']\n",
    "ax1 = ax.bar (dataframe, tamanho, width=-0.4)\n",
    "ax.bar_label(ax1, fmt=\"%.0f\", size=15)\n",
    "plt.ylabel('Quantidade de Dados')\n",
    "plt.xlabel('Grupo de Países')\n",
    "plt.title('Distribuição de Dados de Teste por Dataframe')\n"
   ]
  },
  {
   "cell_type": "code",
   "execution_count": 28,
   "metadata": {},
   "outputs": [],
   "source": [
    "X_train_norm_full , X_train_dfnorm_full , X_test_norm_full , X_test_dfnorm_full, scaler_full = normalizacao(X_train_full, X_test_full)\n",
    "X_train_norm_des , X_train_dfnorm_des , X_test_norm_des , X_test_dfnorm_des,scaler_full = normalizacao(X_train_des, X_test_des)\n",
    "X_train_norm_emdes, X_train_dfnorm_emdes, X_test_norm_emdes, X_test_dfnorm_emdes,scaler_full = normalizacao(X_train_emdes, X_test_emdes)"
   ]
  },
  {
   "cell_type": "code",
   "execution_count": 29,
   "metadata": {},
   "outputs": [
    {
     "name": "stdout",
     "output_type": "stream",
     "text": [
      "Dataset todos os países:\n",
      "DummyRegressor         MSE: -90.809 STD: 6.17\n"
     ]
    },
    {
     "name": "stdout",
     "output_type": "stream",
     "text": [
      "SVR                    MSE: -12.107 STD: 1.35\n",
      "DecisionTreeRegressor  MSE: -7.063 STD: 0.90\n",
      "RandomForestRegressor  MSE: -3.163 STD: 0.63\n",
      "GradientBoostingRegressor MSE: -4.993 STD: 0.90\n",
      "MLPRegressor           MSE: -15.407 STD: 1.72\n",
      " Dataset países desenvolvidos:\n",
      "DummyRegressor         MSE: -15.441 STD: 3.53\n",
      "SVR                    MSE: -5.352 STD: 1.14\n",
      "DecisionTreeRegressor  MSE: -6.311 STD: 2.12\n",
      "RandomForestRegressor  MSE: -3.051 STD: 0.56\n",
      "GradientBoostingRegressor MSE: -3.571 STD: 0.73\n",
      "MLPRegressor           MSE: -421.634 STD: 80.28\n",
      " Dataset países em desenvolvimento:\n",
      "DummyRegressor         MSE: -81.117 STD: 6.41\n",
      "SVR                    MSE: -13.051 STD: 3.07\n",
      "DecisionTreeRegressor  MSE: -6.582 STD: 1.30\n",
      "RandomForestRegressor  MSE: -3.328 STD: 0.78\n",
      "GradientBoostingRegressor MSE: -4.853 STD: 0.64\n",
      "MLPRegressor           MSE: -35.031 STD: 5.80\n"
     ]
    }
   ],
   "source": [
    "# Seleção dos melhores modelos configurado como padrão.\n",
    "print(\"Dataset todos os países:\")\n",
    "selecao (X_train_dfnorm_full , X_test_dfnorm_full, Y_train_full, Y_test_full)\n",
    "print(f\" Dataset países desenvolvidos:\")\n",
    "selecao (X_train_dfnorm_des, X_test_dfnorm_des,Y_train_des, Y_test_des)\n",
    "print(f\" Dataset países em desenvolvimento:\")\n",
    "selecao(X_train_dfnorm_emdes, X_test_dfnorm_emdes,Y_train_emdes, Y_test_emdes)"
   ]
  },
  {
   "cell_type": "code",
   "execution_count": 30,
   "metadata": {},
   "outputs": [
    {
     "name": "stdout",
     "output_type": "stream",
     "text": [
      "Fitting 10 folds for each of 4 candidates, totalling 40 fits\n",
      "Fitting 10 folds for each of 4 candidates, totalling 40 fits\n",
      "Fitting 10 folds for each of 4 candidates, totalling 40 fits\n"
     ]
    }
   ],
   "source": [
    "modelo_full = modelo (X_train_dfnorm_full,Y_train_full)\n",
    "modelo_des = modelo (X_train_dfnorm_des,Y_train_des)\n",
    "modelo_emdes = modelo (X_train_dfnorm_emdes,Y_train_emdes)"
   ]
  },
  {
   "cell_type": "code",
   "execution_count": 31,
   "metadata": {},
   "outputs": [
    {
     "name": "stdout",
     "output_type": "stream",
     "text": [
      "Melhores parâmetros dataset todos os países: \n",
      " {'bootstrap': True, 'max_depth': 20, 'max_features': 0.4, 'min_samples_leaf': 1, 'min_samples_split': 3, 'n_estimators': 800, 'random_state': 20}\n",
      "Melhores parâmetros dataset países desenvolvidos: \n",
      " {'bootstrap': True, 'max_depth': 20, 'max_features': 0.4, 'min_samples_leaf': 1, 'min_samples_split': 2, 'n_estimators': 700, 'random_state': 20}\n",
      "Melhores parâmetros dataset países emdesenvolvimento: \n",
      " {'bootstrap': True, 'max_depth': 20, 'max_features': 0.4, 'min_samples_leaf': 1, 'min_samples_split': 2, 'n_estimators': 800, 'random_state': 20}\n"
     ]
    }
   ],
   "source": [
    "print ('Melhores parâmetros dataset todos os países: \\n', modelo_full.best_params_)\n",
    "print('Melhores parâmetros dataset países desenvolvidos: \\n' ,modelo_des.best_params_)\n",
    "print('Melhores parâmetros dataset países emdesenvolvimento: \\n' ,modelo_emdes.best_params_)"
   ]
  },
  {
   "cell_type": "code",
   "execution_count": 32,
   "metadata": {},
   "outputs": [
    {
     "data": {
      "text/plain": [
       "3"
      ]
     },
     "execution_count": 32,
     "metadata": {},
     "output_type": "execute_result"
    }
   ],
   "source": [
    "modelo_full.best_index_"
   ]
  },
  {
   "cell_type": "code",
   "execution_count": 33,
   "metadata": {},
   "outputs": [
    {
     "data": {
      "text/plain": [
       "{'mean_fit_time': array([29.17667222, 33.66618726, 21.60741503, 22.19823501]),\n",
       " 'std_fit_time': array([3.64724492, 6.35093221, 1.04282205, 1.74000682]),\n",
       " 'mean_score_time': array([0.23463924, 0.2516921 , 0.15714288, 0.13474865]),\n",
       " 'std_score_time': array([0.0306931 , 0.06658773, 0.01129743, 0.03355155]),\n",
       " 'param_bootstrap': masked_array(data=[True, True, True, True],\n",
       "              mask=[False, False, False, False],\n",
       "        fill_value='?',\n",
       "             dtype=object),\n",
       " 'param_max_depth': masked_array(data=[20, 20, 20, 20],\n",
       "              mask=[False, False, False, False],\n",
       "        fill_value='?',\n",
       "             dtype=object),\n",
       " 'param_max_features': masked_array(data=[0.4, 0.4, 0.4, 0.4],\n",
       "              mask=[False, False, False, False],\n",
       "        fill_value='?',\n",
       "             dtype=object),\n",
       " 'param_min_samples_leaf': masked_array(data=[1, 1, 1, 1],\n",
       "              mask=[False, False, False, False],\n",
       "        fill_value='?',\n",
       "             dtype=object),\n",
       " 'param_min_samples_split': masked_array(data=[2, 2, 3, 3],\n",
       "              mask=[False, False, False, False],\n",
       "        fill_value='?',\n",
       "             dtype=object),\n",
       " 'param_n_estimators': masked_array(data=[700, 800, 700, 800],\n",
       "              mask=[False, False, False, False],\n",
       "        fill_value='?',\n",
       "             dtype=object),\n",
       " 'param_random_state': masked_array(data=[20, 20, 20, 20],\n",
       "              mask=[False, False, False, False],\n",
       "        fill_value='?',\n",
       "             dtype=object),\n",
       " 'params': [{'bootstrap': True,\n",
       "   'max_depth': 20,\n",
       "   'max_features': 0.4,\n",
       "   'min_samples_leaf': 1,\n",
       "   'min_samples_split': 2,\n",
       "   'n_estimators': 700,\n",
       "   'random_state': 20},\n",
       "  {'bootstrap': True,\n",
       "   'max_depth': 20,\n",
       "   'max_features': 0.4,\n",
       "   'min_samples_leaf': 1,\n",
       "   'min_samples_split': 2,\n",
       "   'n_estimators': 800,\n",
       "   'random_state': 20},\n",
       "  {'bootstrap': True,\n",
       "   'max_depth': 20,\n",
       "   'max_features': 0.4,\n",
       "   'min_samples_leaf': 1,\n",
       "   'min_samples_split': 3,\n",
       "   'n_estimators': 700,\n",
       "   'random_state': 20},\n",
       "  {'bootstrap': True,\n",
       "   'max_depth': 20,\n",
       "   'max_features': 0.4,\n",
       "   'min_samples_leaf': 1,\n",
       "   'min_samples_split': 3,\n",
       "   'n_estimators': 800,\n",
       "   'random_state': 20}],\n",
       " 'split0_test_score': array([-3.6406559 , -3.63338106, -3.6804518 , -3.67255687]),\n",
       " 'split1_test_score': array([-2.61766449, -2.62353805, -2.57625652, -2.57866746]),\n",
       " 'split2_test_score': array([-3.28494422, -3.28634526, -3.2814697 , -3.29303302]),\n",
       " 'split3_test_score': array([-3.94289981, -3.93923961, -3.93962347, -3.92370241]),\n",
       " 'split4_test_score': array([-2.98874438, -2.98131402, -2.96448076, -2.96355453]),\n",
       " 'split5_test_score': array([-3.57764924, -3.56520653, -3.54732097, -3.53328578]),\n",
       " 'split6_test_score': array([-3.06286861, -3.06279002, -3.01162924, -3.03795249]),\n",
       " 'split7_test_score': array([-2.58930846, -2.58353774, -2.58760503, -2.5891314 ]),\n",
       " 'split8_test_score': array([-5.08615119, -5.09019312, -5.12806128, -5.12762714]),\n",
       " 'split9_test_score': array([-3.24094604, -3.2481536 , -3.19398837, -3.18682255]),\n",
       " 'mean_test_score': array([-3.40318323, -3.4013699 , -3.39108872, -3.39063337]),\n",
       " 'std_test_score': array([0.69410472, 0.69453296, 0.71501677, 0.71138452]),\n",
       " 'rank_test_score': array([4, 3, 2, 1]),\n",
       " 'split0_train_score': array([-0.46932433, -0.47023374, -0.52227299, -0.52297496]),\n",
       " 'split1_train_score': array([-0.47521273, -0.47534357, -0.52416047, -0.52793658]),\n",
       " 'split2_train_score': array([-0.47363549, -0.47332779, -0.51901907, -0.51937243]),\n",
       " 'split3_train_score': array([-0.45532416, -0.45624721, -0.50512659, -0.50389841]),\n",
       " 'split4_train_score': array([-0.47957863, -0.47869644, -0.53127213, -0.53149538]),\n",
       " 'split5_train_score': array([-0.47446657, -0.47480979, -0.5231087 , -0.52375567]),\n",
       " 'split6_train_score': array([-0.47248181, -0.47273426, -0.52869281, -0.52811505]),\n",
       " 'split7_train_score': array([-0.47757285, -0.47749597, -0.52813932, -0.5299073 ]),\n",
       " 'split8_train_score': array([-0.44906407, -0.44658516, -0.50008468, -0.49853882]),\n",
       " 'split9_train_score': array([-0.4665427 , -0.46739024, -0.52343316, -0.52288893]),\n",
       " 'mean_train_score': array([-0.46932033, -0.46928642, -0.52053099, -0.52088835]),\n",
       " 'std_train_score': array([0.00936526, 0.00970167, 0.00963733, 0.01050137])}"
      ]
     },
     "execution_count": 33,
     "metadata": {},
     "output_type": "execute_result"
    }
   ],
   "source": [
    "modelo_full.cv_results_"
   ]
  },
  {
   "cell_type": "code",
   "execution_count": 34,
   "metadata": {},
   "outputs": [
    {
     "name": "stdout",
     "output_type": "stream",
     "text": [
      "Melhor pontuação para dataset de validação todos os países: \n",
      " 3.3906333652412157\n",
      "Melhor pontuação para dataset de validação países desenvolvidos: \n",
      " 3.0108994789200314\n",
      "Melhor pontuação para dataset de validação países em desenvolvimento: \n",
      " 3.529271214242621\n"
     ]
    }
   ],
   "source": [
    "print ('Melhor pontuação para dataset de validação todos os países: \\n', abs(modelo_full.best_score_))\n",
    "print('Melhor pontuação para dataset de validação países desenvolvidos: \\n', abs(modelo_des.best_score_))\n",
    "print('Melhor pontuação para dataset de validação países em desenvolvimento: \\n', abs(modelo_emdes.best_score_))"
   ]
  },
  {
   "cell_type": "code",
   "execution_count": 35,
   "metadata": {},
   "outputs": [],
   "source": [
    "metrica_full = metrica (Y_test_full,X_test_norm_full,modelo_full)\n",
    "metrica_des = metrica (Y_test_des,X_test_norm_des,modelo_des)\n",
    "metrica_emdes = metrica (Y_test_emdes,X_test_norm_emdes,modelo_emdes)"
   ]
  },
  {
   "cell_type": "code",
   "execution_count": 36,
   "metadata": {},
   "outputs": [
    {
     "name": "stdout",
     "output_type": "stream",
     "text": [
      "Erro médio quadrático dataset todos os países: \n",
      " 1.7723259557068862\n",
      "Erro médio quadrático países desenvolvidos: \n",
      " 1.9631546280801404\n",
      "Erro médio quadrático países em desenvolvimento: \n",
      " 1.7779255567466337\n"
     ]
    }
   ],
   "source": [
    "print ('Erro médio quadrático dataset todos os países: \\n', metrica_full)\n",
    "print('Erro médio quadrático países desenvolvidos: \\n', metrica_des)\n",
    "print('Erro médio quadrático países em desenvolvimento: \\n', metrica_emdes)"
   ]
  },
  {
   "cell_type": "code",
   "execution_count": 37,
   "metadata": {},
   "outputs": [
    {
     "data": {
      "text/plain": [
       "Text(0.5, 1.0, 'Erro Médio Quadrático')"
      ]
     },
     "execution_count": 37,
     "metadata": {},
     "output_type": "execute_result"
    },
    {
     "data": {
      "image/png": "[encoded data removed]",
      "text/plain": [
       "<Figure size 1000x800 with 1 Axes>"
      ]
     },
     "metadata": {},
     "output_type": "display_data"
    }
   ],
   "source": [
    "fig, ax = plt.subplots (figsize=(10,8))\n",
    "tamanho = [ metrica_full,metrica_emdes,metrica_des]\n",
    "dataframe = ['Completo','Em desenvolvimento', 'Desenvolvido']\n",
    "ax1 = ax.bar (dataframe, tamanho, width=-0.4)\n",
    "ax.bar_label(ax1, fmt=\"%.2f\", size=20)\n",
    "plt.xlabel('Conjunto de Dados')\n",
    "plt.title('Erro Médio Quadrático')"
   ]
  },
  {
   "cell_type": "code",
   "execution_count": 38,
   "metadata": {},
   "outputs": [],
   "source": [
    "yhat_completo_full, X_completo_full = completo(x_full, modelo_full)\n",
    "yhat_completo_des, X_completo_des = completo(x_des, modelo_des)\n",
    "yhat_completo_emdes, X_completo_emdes = completo(x_emdes, modelo_emdes)"
   ]
  },
  {
   "cell_type": "code",
   "execution_count": 39,
   "metadata": {},
   "outputs": [
    {
     "data": {
      "text/html": [
       "<div>\n",
       "<style scoped>\n",
       "    .dataframe tbody tr th:only-of-type {\n",
       "        vertical-align: middle;\n",
       "    }\n",
       "\n",
       "    .dataframe tbody tr th {\n",
       "        vertical-align: top;\n",
       "    }\n",
       "\n",
       "    .dataframe thead th {\n",
       "        text-align: right;\n",
       "    }\n",
       "</style>\n",
       "<table border=\"1\" class=\"dataframe\">\n",
       "  <thead>\n",
       "    <tr style=\"text-align: right;\">\n",
       "      <th></th>\n",
       "      <th>PaIs</th>\n",
       "      <th>Ano</th>\n",
       "      <th>Classificacao</th>\n",
       "      <th>Expectativa_Vida_real</th>\n",
       "      <th>Expectativa_Vida_previsto</th>\n",
       "      <th>Erro</th>\n",
       "    </tr>\n",
       "  </thead>\n",
       "  <tbody>\n",
       "    <tr>\n",
       "      <th>0</th>\n",
       "      <td>Afghanistan</td>\n",
       "      <td>2015</td>\n",
       "      <td>Developing</td>\n",
       "      <td>65.0</td>\n",
       "      <td>62.080795</td>\n",
       "      <td>2.919205</td>\n",
       "    </tr>\n",
       "    <tr>\n",
       "      <th>20</th>\n",
       "      <td>Albania</td>\n",
       "      <td>2011</td>\n",
       "      <td>Developing</td>\n",
       "      <td>76.6</td>\n",
       "      <td>75.881441</td>\n",
       "      <td>0.718559</td>\n",
       "    </tr>\n",
       "    <tr>\n",
       "      <th>40</th>\n",
       "      <td>Algeria</td>\n",
       "      <td>2007</td>\n",
       "      <td>Developing</td>\n",
       "      <td>73.8</td>\n",
       "      <td>73.540950</td>\n",
       "      <td>0.259050</td>\n",
       "    </tr>\n",
       "    <tr>\n",
       "      <th>60</th>\n",
       "      <td>Angola</td>\n",
       "      <td>2003</td>\n",
       "      <td>Developing</td>\n",
       "      <td>46.8</td>\n",
       "      <td>47.498953</td>\n",
       "      <td>-0.698953</td>\n",
       "    </tr>\n",
       "    <tr>\n",
       "      <th>80</th>\n",
       "      <td>Argentina</td>\n",
       "      <td>2015</td>\n",
       "      <td>Developing</td>\n",
       "      <td>76.3</td>\n",
       "      <td>76.787778</td>\n",
       "      <td>-0.487778</td>\n",
       "    </tr>\n",
       "    <tr>\n",
       "      <th>...</th>\n",
       "      <td>...</td>\n",
       "      <td>...</td>\n",
       "      <td>...</td>\n",
       "      <td>...</td>\n",
       "      <td>...</td>\n",
       "      <td>...</td>\n",
       "    </tr>\n",
       "    <tr>\n",
       "      <th>2840</th>\n",
       "      <td>Vanuatu</td>\n",
       "      <td>2007</td>\n",
       "      <td>Developing</td>\n",
       "      <td>73.0</td>\n",
       "      <td>71.719982</td>\n",
       "      <td>1.280018</td>\n",
       "    </tr>\n",
       "    <tr>\n",
       "      <th>2860</th>\n",
       "      <td>Venezuela (Bolivarian Republic of)</td>\n",
       "      <td>2003</td>\n",
       "      <td>Developing</td>\n",
       "      <td>72.4</td>\n",
       "      <td>72.731682</td>\n",
       "      <td>-0.331682</td>\n",
       "    </tr>\n",
       "    <tr>\n",
       "      <th>2880</th>\n",
       "      <td>Yemen</td>\n",
       "      <td>2015</td>\n",
       "      <td>Developing</td>\n",
       "      <td>65.7</td>\n",
       "      <td>65.057824</td>\n",
       "      <td>0.642176</td>\n",
       "    </tr>\n",
       "    <tr>\n",
       "      <th>2900</th>\n",
       "      <td>Zambia</td>\n",
       "      <td>2011</td>\n",
       "      <td>Developing</td>\n",
       "      <td>58.2</td>\n",
       "      <td>57.738715</td>\n",
       "      <td>0.461285</td>\n",
       "    </tr>\n",
       "    <tr>\n",
       "      <th>2920</th>\n",
       "      <td>Zimbabwe</td>\n",
       "      <td>2007</td>\n",
       "      <td>Developing</td>\n",
       "      <td>46.6</td>\n",
       "      <td>47.084253</td>\n",
       "      <td>-0.484253</td>\n",
       "    </tr>\n",
       "  </tbody>\n",
       "</table>\n",
       "<p>147 rows × 6 columns</p>\n",
       "</div>"
      ],
      "text/plain": [
       "                                    PaIs   Ano Classificacao  \\\n",
       "0                            Afghanistan  2015    Developing   \n",
       "20                               Albania  2011    Developing   \n",
       "40                               Algeria  2007    Developing   \n",
       "60                                Angola  2003    Developing   \n",
       "80                             Argentina  2015    Developing   \n",
       "...                                  ...   ...           ...   \n",
       "2840                             Vanuatu  2007    Developing   \n",
       "2860  Venezuela (Bolivarian Republic of)  2003    Developing   \n",
       "2880                               Yemen  2015    Developing   \n",
       "2900                              Zambia  2011    Developing   \n",
       "2920                            Zimbabwe  2007    Developing   \n",
       "\n",
       "      Expectativa_Vida_real  Expectativa_Vida_previsto      Erro  \n",
       "0                      65.0                  62.080795  2.919205  \n",
       "20                     76.6                  75.881441  0.718559  \n",
       "40                     73.8                  73.540950  0.259050  \n",
       "60                     46.8                  47.498953 -0.698953  \n",
       "80                     76.3                  76.787778 -0.487778  \n",
       "...                     ...                        ...       ...  \n",
       "2840                   73.0                  71.719982  1.280018  \n",
       "2860                   72.4                  72.731682 -0.331682  \n",
       "2880                   65.7                  65.057824  0.642176  \n",
       "2900                   58.2                  57.738715  0.461285  \n",
       "2920                   46.6                  47.084253 -0.484253  \n",
       "\n",
       "[147 rows x 6 columns]"
      ]
     },
     "execution_count": 39,
     "metadata": {},
     "output_type": "execute_result"
    }
   ],
   "source": [
    "results_full = pd.DataFrame(zip(df_completo['PaIs'],df_completo['Ano'],df_completo['Classificacao'],y_full, yhat_completo_full, y_full - yhat_completo_full), columns = ['PaIs','Ano','Classificacao','Expectativa_Vida_real', 'Expectativa_Vida_previsto', 'Erro'])\n",
    "results_full[::20]"
   ]
  },
  {
   "cell_type": "code",
   "execution_count": 40,
   "metadata": {},
   "outputs": [],
   "source": [
    "results_full.to_csv('results_full_tratado.csv', index=False,encoding=\"utf-8\")\n",
    "results_des.to_csv('results_des_tratado.csv', index=False,encoding=\"utf-8\")\n",
    "results_emdes.to_csv('results_emdes_tratado.csv', index=False,encoding=\"utf-8\")"
   ]
  },
  {
   "cell_type": "code",
   "execution_count": 41,
   "metadata": {},
   "outputs": [],
   "source": [
    "results_full = pd.read_csv ('results_full_tratado.csv')\n",
    "results_des = pd.read_csv ('results_des_tratado.csv')\n",
    "results_emdes = pd.read_csv ('results_emdes_tratado.csv')"
   ]
  },
  {
   "cell_type": "code",
   "execution_count": 42,
   "metadata": {},
   "outputs": [
    {
     "data": {
      "text/plain": [
       "<Axes: xlabel='Erro', ylabel='Count'>"
      ]
     },
     "execution_count": 42,
     "metadata": {},
     "output_type": "execute_result"
    },
    {
     "data": {
      "image/png": "[encoded data removed]",
      "text/plain": [
       "<Figure size 640x480 with 1 Axes>"
      ]
     },
     "metadata": {},
     "output_type": "display_data"
    }
   ],
   "source": [
    "sns.histplot(data=results_full, x=\"Erro\", bins=50, kde=True)"
   ]
  },
  {
   "cell_type": "code",
   "execution_count": 43,
   "metadata": {},
   "outputs": [
    {
     "data": {
      "text/plain": [
       "<Axes: xlabel='Erro', ylabel='Count'>"
      ]
     },
     "execution_count": 43,
     "metadata": {},
     "output_type": "execute_result"
    },
    {
     "data": {
      "image/png": "[encoded data removed]",
      "text/plain": [
       "<Figure size 640x480 with 1 Axes>"
      ]
     },
     "metadata": {},
     "output_type": "display_data"
    }
   ],
   "source": [
    "sns.histplot(data=results_des, x=\"Erro\", bins=50,kde=True)"
   ]
  },
  {
   "cell_type": "code",
   "execution_count": 44,
   "metadata": {},
   "outputs": [
    {
     "data": {
      "text/plain": [
       "<Axes: xlabel='Erro', ylabel='Count'>"
      ]
     },
     "execution_count": 44,
     "metadata": {},
     "output_type": "execute_result"
    },
    {
     "data": {
      "image/png": "[encoded data removed]",
      "text/plain": [
       "<Figure size 640x480 with 1 Axes>"
      ]
     },
     "metadata": {},
     "output_type": "display_data"
    }
   ],
   "source": [
    "sns.histplot(data=results_emdes, x=\"Erro\", bins=50,kde=True)"
   ]
  },
  {
   "cell_type": "code",
   "execution_count": 45,
   "metadata": {},
   "outputs": [
    {
     "data": {
      "text/html": [
       "<div>\n",
       "<style scoped>\n",
       "    .dataframe tbody tr th:only-of-type {\n",
       "        vertical-align: middle;\n",
       "    }\n",
       "\n",
       "    .dataframe tbody tr th {\n",
       "        vertical-align: top;\n",
       "    }\n",
       "\n",
       "    .dataframe thead th {\n",
       "        text-align: right;\n",
       "    }\n",
       "</style>\n",
       "<table border=\"1\" class=\"dataframe\">\n",
       "  <thead>\n",
       "    <tr style=\"text-align: right;\">\n",
       "      <th></th>\n",
       "      <th>PaIs</th>\n",
       "      <th>Ano</th>\n",
       "      <th>Classificacao</th>\n",
       "      <th>Expectativa_Vida_real</th>\n",
       "      <th>Expectativa_Vida_previsto</th>\n",
       "      <th>Erro</th>\n",
       "    </tr>\n",
       "  </thead>\n",
       "  <tbody>\n",
       "    <tr>\n",
       "      <th>0</th>\n",
       "      <td>Australia</td>\n",
       "      <td>2015</td>\n",
       "      <td>Developed</td>\n",
       "      <td>82.8</td>\n",
       "      <td>82.625232</td>\n",
       "      <td>0.174768</td>\n",
       "    </tr>\n",
       "    <tr>\n",
       "      <th>50</th>\n",
       "      <td>Bulgaria</td>\n",
       "      <td>2013</td>\n",
       "      <td>Developed</td>\n",
       "      <td>74.1</td>\n",
       "      <td>74.773714</td>\n",
       "      <td>-0.673714</td>\n",
       "    </tr>\n",
       "    <tr>\n",
       "      <th>100</th>\n",
       "      <td>Czechia</td>\n",
       "      <td>2011</td>\n",
       "      <td>Developed</td>\n",
       "      <td>77.8</td>\n",
       "      <td>77.798143</td>\n",
       "      <td>0.001857</td>\n",
       "    </tr>\n",
       "    <tr>\n",
       "      <th>150</th>\n",
       "      <td>Hungary</td>\n",
       "      <td>2009</td>\n",
       "      <td>Developed</td>\n",
       "      <td>74.2</td>\n",
       "      <td>74.291429</td>\n",
       "      <td>-0.091429</td>\n",
       "    </tr>\n",
       "    <tr>\n",
       "      <th>200</th>\n",
       "      <td>Italy</td>\n",
       "      <td>2007</td>\n",
       "      <td>Developed</td>\n",
       "      <td>81.3</td>\n",
       "      <td>81.945392</td>\n",
       "      <td>-0.645392</td>\n",
       "    </tr>\n",
       "    <tr>\n",
       "      <th>250</th>\n",
       "      <td>Lithuania</td>\n",
       "      <td>2005</td>\n",
       "      <td>Developed</td>\n",
       "      <td>78.0</td>\n",
       "      <td>75.627571</td>\n",
       "      <td>2.372429</td>\n",
       "    </tr>\n",
       "    <tr>\n",
       "      <th>300</th>\n",
       "      <td>Netherlands</td>\n",
       "      <td>2003</td>\n",
       "      <td>Developed</td>\n",
       "      <td>78.7</td>\n",
       "      <td>79.700857</td>\n",
       "      <td>-1.000857</td>\n",
       "    </tr>\n",
       "    <tr>\n",
       "      <th>350</th>\n",
       "      <td>Poland</td>\n",
       "      <td>2001</td>\n",
       "      <td>Developed</td>\n",
       "      <td>74.2</td>\n",
       "      <td>73.882000</td>\n",
       "      <td>0.318000</td>\n",
       "    </tr>\n",
       "    <tr>\n",
       "      <th>400</th>\n",
       "      <td>Slovakia</td>\n",
       "      <td>2015</td>\n",
       "      <td>Developed</td>\n",
       "      <td>76.7</td>\n",
       "      <td>77.592500</td>\n",
       "      <td>-0.892500</td>\n",
       "    </tr>\n",
       "    <tr>\n",
       "      <th>450</th>\n",
       "      <td>Sweden</td>\n",
       "      <td>2013</td>\n",
       "      <td>Developed</td>\n",
       "      <td>81.9</td>\n",
       "      <td>82.077040</td>\n",
       "      <td>-0.177040</td>\n",
       "    </tr>\n",
       "    <tr>\n",
       "      <th>500</th>\n",
       "      <td>United States of America</td>\n",
       "      <td>2011</td>\n",
       "      <td>Developed</td>\n",
       "      <td>78.7</td>\n",
       "      <td>78.863286</td>\n",
       "      <td>-0.163286</td>\n",
       "    </tr>\n",
       "  </tbody>\n",
       "</table>\n",
       "</div>"
      ],
      "text/plain": [
       "                         PaIs   Ano Classificacao  Expectativa_Vida_real  \\\n",
       "0                   Australia  2015     Developed                   82.8   \n",
       "50                   Bulgaria  2013     Developed                   74.1   \n",
       "100                   Czechia  2011     Developed                   77.8   \n",
       "150                   Hungary  2009     Developed                   74.2   \n",
       "200                     Italy  2007     Developed                   81.3   \n",
       "250                 Lithuania  2005     Developed                   78.0   \n",
       "300               Netherlands  2003     Developed                   78.7   \n",
       "350                    Poland  2001     Developed                   74.2   \n",
       "400                  Slovakia  2015     Developed                   76.7   \n",
       "450                    Sweden  2013     Developed                   81.9   \n",
       "500  United States of America  2011     Developed                   78.7   \n",
       "\n",
       "     Expectativa_Vida_previsto      Erro  \n",
       "0                    82.625232  0.174768  \n",
       "50                   74.773714 -0.673714  \n",
       "100                  77.798143  0.001857  \n",
       "150                  74.291429 -0.091429  \n",
       "200                  81.945392 -0.645392  \n",
       "250                  75.627571  2.372429  \n",
       "300                  79.700857 -1.000857  \n",
       "350                  73.882000  0.318000  \n",
       "400                  77.592500 -0.892500  \n",
       "450                  82.077040 -0.177040  \n",
       "500                  78.863286 -0.163286  "
      ]
     },
     "execution_count": 45,
     "metadata": {},
     "output_type": "execute_result"
    }
   ],
   "source": [
    "results_des = pd.DataFrame(zip(df_des['PaIs'],df_des['Ano'],df_des['Classificacao'],y_des, yhat_completo_des, y_des - yhat_completo_des), columns = ['PaIs','Ano','Classificacao','Expectativa_Vida_real', 'Expectativa_Vida_previsto', 'Erro'])\n",
    "results_des[::50]"
   ]
  },
  {
   "cell_type": "code",
   "execution_count": 46,
   "metadata": {},
   "outputs": [
    {
     "data": {
      "text/html": [
       "<div>\n",
       "<style scoped>\n",
       "    .dataframe tbody tr th:only-of-type {\n",
       "        vertical-align: middle;\n",
       "    }\n",
       "\n",
       "    .dataframe tbody tr th {\n",
       "        vertical-align: top;\n",
       "    }\n",
       "\n",
       "    .dataframe thead th {\n",
       "        text-align: right;\n",
       "    }\n",
       "</style>\n",
       "<table border=\"1\" class=\"dataframe\">\n",
       "  <thead>\n",
       "    <tr style=\"text-align: right;\">\n",
       "      <th></th>\n",
       "      <th>PaIs</th>\n",
       "      <th>Ano</th>\n",
       "      <th>Classificacao</th>\n",
       "      <th>Expectativa_Vida_real</th>\n",
       "      <th>Expectativa_Vida_previsto</th>\n",
       "      <th>Erro</th>\n",
       "    </tr>\n",
       "  </thead>\n",
       "  <tbody>\n",
       "    <tr>\n",
       "      <th>0</th>\n",
       "      <td>Afghanistan</td>\n",
       "      <td>2015</td>\n",
       "      <td>Developing</td>\n",
       "      <td>65.0</td>\n",
       "      <td>63.460719</td>\n",
       "      <td>1.539281</td>\n",
       "    </tr>\n",
       "    <tr>\n",
       "      <th>15</th>\n",
       "      <td>Afghanistan</td>\n",
       "      <td>2000</td>\n",
       "      <td>Developing</td>\n",
       "      <td>54.8</td>\n",
       "      <td>55.132625</td>\n",
       "      <td>-0.332625</td>\n",
       "    </tr>\n",
       "    <tr>\n",
       "      <th>30</th>\n",
       "      <td>Albania</td>\n",
       "      <td>2001</td>\n",
       "      <td>Developing</td>\n",
       "      <td>73.6</td>\n",
       "      <td>73.086811</td>\n",
       "      <td>0.513189</td>\n",
       "    </tr>\n",
       "    <tr>\n",
       "      <th>45</th>\n",
       "      <td>Algeria</td>\n",
       "      <td>2002</td>\n",
       "      <td>Developing</td>\n",
       "      <td>71.6</td>\n",
       "      <td>71.957052</td>\n",
       "      <td>-0.357052</td>\n",
       "    </tr>\n",
       "    <tr>\n",
       "      <th>60</th>\n",
       "      <td>Angola</td>\n",
       "      <td>2003</td>\n",
       "      <td>Developing</td>\n",
       "      <td>46.8</td>\n",
       "      <td>47.578875</td>\n",
       "      <td>-0.778875</td>\n",
       "    </tr>\n",
       "    <tr>\n",
       "      <th>...</th>\n",
       "      <td>...</td>\n",
       "      <td>...</td>\n",
       "      <td>...</td>\n",
       "      <td>...</td>\n",
       "      <td>...</td>\n",
       "      <td>...</td>\n",
       "    </tr>\n",
       "    <tr>\n",
       "      <th>2355</th>\n",
       "      <td>Viet Nam</td>\n",
       "      <td>2012</td>\n",
       "      <td>Developing</td>\n",
       "      <td>75.6</td>\n",
       "      <td>75.265565</td>\n",
       "      <td>0.334435</td>\n",
       "    </tr>\n",
       "    <tr>\n",
       "      <th>2370</th>\n",
       "      <td>Yemen</td>\n",
       "      <td>2013</td>\n",
       "      <td>Developing</td>\n",
       "      <td>65.4</td>\n",
       "      <td>65.147193</td>\n",
       "      <td>0.252807</td>\n",
       "    </tr>\n",
       "    <tr>\n",
       "      <th>2385</th>\n",
       "      <td>Zambia</td>\n",
       "      <td>2014</td>\n",
       "      <td>Developing</td>\n",
       "      <td>61.1</td>\n",
       "      <td>60.975000</td>\n",
       "      <td>0.125000</td>\n",
       "    </tr>\n",
       "    <tr>\n",
       "      <th>2400</th>\n",
       "      <td>Zimbabwe</td>\n",
       "      <td>2015</td>\n",
       "      <td>Developing</td>\n",
       "      <td>67.0</td>\n",
       "      <td>62.692800</td>\n",
       "      <td>4.307200</td>\n",
       "    </tr>\n",
       "    <tr>\n",
       "      <th>2415</th>\n",
       "      <td>Zimbabwe</td>\n",
       "      <td>2000</td>\n",
       "      <td>Developing</td>\n",
       "      <td>46.0</td>\n",
       "      <td>46.086625</td>\n",
       "      <td>-0.086625</td>\n",
       "    </tr>\n",
       "  </tbody>\n",
       "</table>\n",
       "<p>162 rows × 6 columns</p>\n",
       "</div>"
      ],
      "text/plain": [
       "             PaIs   Ano Classificacao  Expectativa_Vida_real  \\\n",
       "0     Afghanistan  2015    Developing                   65.0   \n",
       "15    Afghanistan  2000    Developing                   54.8   \n",
       "30        Albania  2001    Developing                   73.6   \n",
       "45        Algeria  2002    Developing                   71.6   \n",
       "60         Angola  2003    Developing                   46.8   \n",
       "...           ...   ...           ...                    ...   \n",
       "2355     Viet Nam  2012    Developing                   75.6   \n",
       "2370        Yemen  2013    Developing                   65.4   \n",
       "2385       Zambia  2014    Developing                   61.1   \n",
       "2400     Zimbabwe  2015    Developing                   67.0   \n",
       "2415     Zimbabwe  2000    Developing                   46.0   \n",
       "\n",
       "      Expectativa_Vida_previsto      Erro  \n",
       "0                     63.460719  1.539281  \n",
       "15                    55.132625 -0.332625  \n",
       "30                    73.086811  0.513189  \n",
       "45                    71.957052 -0.357052  \n",
       "60                    47.578875 -0.778875  \n",
       "...                         ...       ...  \n",
       "2355                  75.265565  0.334435  \n",
       "2370                  65.147193  0.252807  \n",
       "2385                  60.975000  0.125000  \n",
       "2400                  62.692800  4.307200  \n",
       "2415                  46.086625 -0.086625  \n",
       "\n",
       "[162 rows x 6 columns]"
      ]
     },
     "execution_count": 46,
     "metadata": {},
     "output_type": "execute_result"
    }
   ],
   "source": [
    "results_emdes = pd.DataFrame(zip(df_emdes['PaIs'],df_emdes['Ano'],df_emdes['Classificacao'],y_emdes, yhat_completo_emdes, y_emdes - yhat_completo_emdes), columns = ['PaIs','Ano','Classificacao','Expectativa_Vida_real', 'Expectativa_Vida_previsto', 'Erro'])\n",
    "results_emdes[::15]"
   ]
  },
  {
   "cell_type": "code",
   "execution_count": 47,
   "metadata": {},
   "outputs": [
    {
     "data": {
      "text/plain": [
       "0.807644226496571"
      ]
     },
     "execution_count": 47,
     "metadata": {},
     "output_type": "execute_result"
    }
   ],
   "source": [
    "\n",
    "results_full['Erro'].abs().mean() \n"
   ]
  },
  {
   "cell_type": "code",
   "execution_count": 48,
   "metadata": {},
   "outputs": [
    {
     "data": {
      "text/plain": [
       "0.8046646878525539"
      ]
     },
     "execution_count": 48,
     "metadata": {},
     "output_type": "execute_result"
    }
   ],
   "source": [
    "results_full_des = results_full[results_full['Classificacao']=='Developed']\n",
    "results_full_des['Erro'].abs().mean() "
   ]
  },
  {
   "cell_type": "code",
   "execution_count": 49,
   "metadata": {},
   "outputs": [
    {
     "data": {
      "text/plain": [
       "0.8082756519045745"
      ]
     },
     "execution_count": 49,
     "metadata": {},
     "output_type": "execute_result"
    }
   ],
   "source": [
    "results_full_emdes = results_full[results_full['Classificacao']=='Developing']\n",
    "results_full_emdes['Erro'].abs().mean() # resultado anos"
   ]
  },
  {
   "cell_type": "code",
   "execution_count": 50,
   "metadata": {},
   "outputs": [
    {
     "data": {
      "text/plain": [
       "0.6873300262139964"
      ]
     },
     "execution_count": 50,
     "metadata": {},
     "output_type": "execute_result"
    }
   ],
   "source": [
    "results_des['Erro'].abs().mean() "
   ]
  },
  {
   "cell_type": "code",
   "execution_count": 51,
   "metadata": {},
   "outputs": [
    {
     "data": {
      "text/plain": [
       "0.6659507631391565"
      ]
     },
     "execution_count": 51,
     "metadata": {},
     "output_type": "execute_result"
    }
   ],
   "source": [
    "results_emdes['Erro'].abs().mean() "
   ]
  },
  {
   "cell_type": "code",
   "execution_count": 52,
   "metadata": {},
   "outputs": [],
   "source": [
    "importante_full_grid_search = importante (X_train_full,modelo_full.best_estimator_.feature_importances_)\n",
    "importante_des_grid_search = importante (X_train_des,modelo_des.best_estimator_.feature_importances_)\n",
    "importante_emdes_grid_search = importante (X_train_emdes,modelo_emdes.best_estimator_.feature_importances_)"
   ]
  },
  {
   "cell_type": "code",
   "execution_count": 53,
   "metadata": {},
   "outputs": [
    {
     "data": {
      "text/plain": [
       "Text(0, 0.5, 'Principais Atributos')"
      ]
     },
     "execution_count": 53,
     "metadata": {},
     "output_type": "execute_result"
    },
    {
     "data": {
      "image/png": "[encoded data removed]",
      "text/plain": [
       "<Figure size 1000x800 with 1 Axes>"
      ]
     },
     "metadata": {},
     "output_type": "display_data"
    }
   ],
   "source": [
    "plt.figure (figsize=(10,8))\n",
    "sns.barplot(data=importante_full_grid_search.head(5), x='importantes', y='Variáveis')\n",
    "plt.title('Os 5 principais recursos de importância de atributos')\n",
    "plt.xlabel (\"Importância\", fontsize=16)\n",
    "plt.ylabel (\"Principais Atributos\", fontsize=16)\n",
    "\n"
   ]
  },
  {
   "cell_type": "code",
   "execution_count": 54,
   "metadata": {},
   "outputs": [
    {
     "data": {
      "text/plain": [
       "Text(0, 0.5, 'Principais Atributos')"
      ]
     },
     "execution_count": 54,
     "metadata": {},
     "output_type": "execute_result"
    },
    {
     "data": {
      "image/png": "[encoded data removed]",
      "text/plain": [
       "<Figure size 1000x800 with 1 Axes>"
      ]
     },
     "metadata": {},
     "output_type": "display_data"
    }
   ],
   "source": [
    "plt.figure (figsize=(10,8))\n",
    "sns.barplot(data=importante_emdes_grid_search.head(5), x='importantes', y='Variáveis')\n",
    "plt.title('Os 5 principais recursos de importância de atributos')\n",
    "plt.xlabel (\"Importância\", fontsize=16)\n",
    "plt.ylabel (\"Principais Atributos\", fontsize=16)"
   ]
  },
  {
   "cell_type": "code",
   "execution_count": 55,
   "metadata": {},
   "outputs": [
    {
     "data": {
      "text/plain": [
       "Text(0, 0.5, 'Principais Atributos')"
      ]
     },
     "execution_count": 55,
     "metadata": {},
     "output_type": "execute_result"
    },
    {
     "data": {
      "image/png": "[encoded data removed]",
      "text/plain": [
       "<Figure size 1000x800 with 1 Axes>"
      ]
     },
     "metadata": {},
     "output_type": "display_data"
    }
   ],
   "source": [
    "plt.figure (figsize=(10,8))\n",
    "sns.barplot(data=importante_des_grid_search.head(5), x='importantes', y='Variáveis')\n",
    "plt.title('Os 5 principais recursos de importância de atributos')\n",
    "plt.xlabel (\"Importância\", fontsize=16)\n",
    "plt.ylabel (\"Principais Atributos\", fontsize=16)"
   ]
  },
  {
   "cell_type": "code",
   "execution_count": 56,
   "metadata": {},
   "outputs": [
    {
     "name": "stdout",
     "output_type": "stream",
     "text": [
      "Fitting 10 folds for each of 4 candidates, totalling 40 fits\n"
     ]
    }
   ],
   "source": [
    "# Testando influência de colinearidade\n",
    "df_model = df_completo.drop(columns=['PaIs','Ano'])\n",
    "df_model = pd.get_dummies(df_model,columns=['Classificacao'],drop_first=True)\n",
    "x = df_model.drop(columns='Expectativa_de_Vida')\n",
    "y = df_model.Expectativa_de_Vida\n",
    "X_train1, X_test1, Y_train1, Y_test1 = treino_teste (x , y)\n",
    "X_train_norm , X_train_dfnorm , X_test_norm , X_test_dfnorm, sc_full = normalizacao(X_train1, X_test1)\n",
    "modelo1 = modelo (X_train_norm,Y_train1)\n",
    "importante1 = importante (X_train1,modelo1.best_estimator_.feature_importances_)\n",
    "metrica1 = metrica (Y_test1,X_test_norm,modelo1)\n",
    "\n"
   ]
  },
  {
   "cell_type": "code",
   "execution_count": 57,
   "metadata": {},
   "outputs": [
    {
     "data": {
      "text/html": [
       "<div>\n",
       "<style scoped>\n",
       "    .dataframe tbody tr th:only-of-type {\n",
       "        vertical-align: middle;\n",
       "    }\n",
       "\n",
       "    .dataframe tbody tr th {\n",
       "        vertical-align: top;\n",
       "    }\n",
       "\n",
       "    .dataframe thead th {\n",
       "        text-align: right;\n",
       "    }\n",
       "</style>\n",
       "<table border=\"1\" class=\"dataframe\">\n",
       "  <thead>\n",
       "    <tr style=\"text-align: right;\">\n",
       "      <th></th>\n",
       "      <th>Variáveis</th>\n",
       "      <th>importantes</th>\n",
       "    </tr>\n",
       "  </thead>\n",
       "  <tbody>\n",
       "    <tr>\n",
       "      <th>0</th>\n",
       "      <td>Mortes_criancas_0-4a_Hiv_aids</td>\n",
       "      <td>0.311714</td>\n",
       "    </tr>\n",
       "    <tr>\n",
       "      <th>1</th>\n",
       "      <td>IDH</td>\n",
       "      <td>0.233198</td>\n",
       "    </tr>\n",
       "    <tr>\n",
       "      <th>2</th>\n",
       "      <td>Taxa_Mortalidade_Adulto</td>\n",
       "      <td>0.172537</td>\n",
       "    </tr>\n",
       "    <tr>\n",
       "      <th>3</th>\n",
       "      <td>Anos_de_Escolaridade</td>\n",
       "      <td>0.093047</td>\n",
       "    </tr>\n",
       "    <tr>\n",
       "      <th>4</th>\n",
       "      <td>Indice_Massa_Corporal</td>\n",
       "      <td>0.031106</td>\n",
       "    </tr>\n",
       "    <tr>\n",
       "      <th>5</th>\n",
       "      <td>Mortes_Menores_5anos</td>\n",
       "      <td>0.025631</td>\n",
       "    </tr>\n",
       "    <tr>\n",
       "      <th>6</th>\n",
       "      <td>Cobertura_Difeteria</td>\n",
       "      <td>0.019461</td>\n",
       "    </tr>\n",
       "    <tr>\n",
       "      <th>7</th>\n",
       "      <td>Magreza_5-9anos</td>\n",
       "      <td>0.017429</td>\n",
       "    </tr>\n",
       "    <tr>\n",
       "      <th>8</th>\n",
       "      <td>Numero_Obito_Infantil</td>\n",
       "      <td>0.016127</td>\n",
       "    </tr>\n",
       "    <tr>\n",
       "      <th>9</th>\n",
       "      <td>Cobertura_Polio</td>\n",
       "      <td>0.015160</td>\n",
       "    </tr>\n",
       "    <tr>\n",
       "      <th>10</th>\n",
       "      <td>Magreza_1-19anos</td>\n",
       "      <td>0.014806</td>\n",
       "    </tr>\n",
       "    <tr>\n",
       "      <th>11</th>\n",
       "      <td>Consumo_Alcool</td>\n",
       "      <td>0.011307</td>\n",
       "    </tr>\n",
       "    <tr>\n",
       "      <th>12</th>\n",
       "      <td>PIB</td>\n",
       "      <td>0.008080</td>\n",
       "    </tr>\n",
       "    <tr>\n",
       "      <th>13</th>\n",
       "      <td>Relacao_GastosSaude/despesasTotais</td>\n",
       "      <td>0.007963</td>\n",
       "    </tr>\n",
       "    <tr>\n",
       "      <th>14</th>\n",
       "      <td>Classificacao_Developing</td>\n",
       "      <td>0.005756</td>\n",
       "    </tr>\n",
       "    <tr>\n",
       "      <th>15</th>\n",
       "      <td>Gastos_Com_Saude</td>\n",
       "      <td>0.004988</td>\n",
       "    </tr>\n",
       "    <tr>\n",
       "      <th>16</th>\n",
       "      <td>Hepatite_B</td>\n",
       "      <td>0.004060</td>\n",
       "    </tr>\n",
       "    <tr>\n",
       "      <th>17</th>\n",
       "      <td>Populacao</td>\n",
       "      <td>0.003846</td>\n",
       "    </tr>\n",
       "    <tr>\n",
       "      <th>18</th>\n",
       "      <td>Sarampo</td>\n",
       "      <td>0.003784</td>\n",
       "    </tr>\n",
       "  </tbody>\n",
       "</table>\n",
       "</div>"
      ],
      "text/plain": [
       "                             Variáveis  importantes\n",
       "0        Mortes_criancas_0-4a_Hiv_aids     0.311714\n",
       "1                                  IDH     0.233198\n",
       "2              Taxa_Mortalidade_Adulto     0.172537\n",
       "3                 Anos_de_Escolaridade     0.093047\n",
       "4                Indice_Massa_Corporal     0.031106\n",
       "5                 Mortes_Menores_5anos     0.025631\n",
       "6                  Cobertura_Difeteria     0.019461\n",
       "7                      Magreza_5-9anos     0.017429\n",
       "8                Numero_Obito_Infantil     0.016127\n",
       "9                      Cobertura_Polio     0.015160\n",
       "10                    Magreza_1-19anos     0.014806\n",
       "11                      Consumo_Alcool     0.011307\n",
       "12                                 PIB     0.008080\n",
       "13  Relacao_GastosSaude/despesasTotais     0.007963\n",
       "14            Classificacao_Developing     0.005756\n",
       "15                    Gastos_Com_Saude     0.004988\n",
       "16                          Hepatite_B     0.004060\n",
       "17                           Populacao     0.003846\n",
       "18                             Sarampo     0.003784"
      ]
     },
     "execution_count": 57,
     "metadata": {},
     "output_type": "execute_result"
    }
   ],
   "source": [
    "importante1 = importante (X_train1,modelo1.best_estimator_.feature_importances_)\n",
    "importante1"
   ]
  },
  {
   "cell_type": "code",
   "execution_count": 58,
   "metadata": {},
   "outputs": [
    {
     "data": {
      "text/plain": [
       "1.7778620655085795"
      ]
     },
     "execution_count": 58,
     "metadata": {},
     "output_type": "execute_result"
    }
   ],
   "source": [
    "metrica1"
   ]
  },
  {
   "cell_type": "code",
   "execution_count": 59,
   "metadata": {},
   "outputs": [],
   "source": [
    "X_test1_norm = sc_full.transform(X_test_emdes)\n",
    "#yhat = modelo1.predict(X_test1_norm)\n",
    "metrica_final = metrica (Y_test_emdes,X_test1_norm,modelo1)\n",
    "#Y_pred_full = modelo1.predict(X_test_norm_des)"
   ]
  },
  {
   "cell_type": "code",
   "execution_count": 60,
   "metadata": {},
   "outputs": [
    {
     "data": {
      "text/plain": [
       "0.8842067629964268"
      ]
     },
     "execution_count": 60,
     "metadata": {},
     "output_type": "execute_result"
    }
   ],
   "source": [
    "metrica_final"
   ]
  },
  {
   "cell_type": "code",
   "execution_count": 61,
   "metadata": {},
   "outputs": [
    {
     "name": "stdout",
     "output_type": "stream",
     "text": [
      "Fitting 10 folds for each of 4 candidates, totalling 40 fits\n",
      "                             Variáveis  importantes\n",
      "0        Mortes_criancas_0-4a_Hiv_aids     0.310599\n",
      "1                                  IDH     0.233324\n",
      "2              Taxa_Mortalidade_Adulto     0.171514\n",
      "3                 Anos_de_Escolaridade     0.093782\n",
      "4                Indice_Massa_Corporal     0.031138\n",
      "5                 Mortes_Menores_5anos     0.026552\n",
      "6                  Cobertura_Difeteria     0.019150\n",
      "7                      Magreza_5-9anos     0.017589\n",
      "8                Numero_Obito_Infantil     0.015856\n",
      "9                      Cobertura_Polio     0.015515\n",
      "10                    Magreza_1-19anos     0.014709\n",
      "11                      Consumo_Alcool     0.011451\n",
      "12                                 PIB     0.008249\n",
      "13  Relacao_GastosSaude/despesasTotais     0.007844\n",
      "14             Classificacao_Developed     0.005675\n",
      "15                    Gastos_Com_Saude     0.005034\n",
      "16                          Hepatite_B     0.004239\n",
      "17                             Sarampo     0.003905\n",
      "18                           Populacao     0.003874\n"
     ]
    }
   ],
   "source": [
    "df_model1 = df_completo.drop(columns=['PaIs','Ano'])\n",
    "df_model1 = pd.get_dummies(df_model1,columns=['Classificacao'])\n",
    "x1 = df_model1.drop(columns=['Expectativa_de_Vida','Classificacao_Developing'])\n",
    "y1 = df_model1.Expectativa_de_Vida\n",
    "X_train2, X_test2, Y_train2, Y_test2 = treino_teste (x1 , y1)\n",
    "X_train_norm1 , X_train_dfnorm1 , X_test_norm1 , X_test_dfnorm1, sc_full = normalizacao(X_train2, X_test2)\n",
    "modelo2 = modelo (X_train_norm1,Y_train2)\n",
    "importante2 = importante (X_train2,modelo2.best_estimator_.feature_importances_)\n",
    "metrica2 = metrica (Y_test2,X_test_norm1,modelo2)\n",
    "print (importante2)"
   ]
  },
  {
   "cell_type": "code",
   "execution_count": 62,
   "metadata": {},
   "outputs": [
    {
     "data": {
      "text/html": [
       "<div>\n",
       "<style scoped>\n",
       "    .dataframe tbody tr th:only-of-type {\n",
       "        vertical-align: middle;\n",
       "    }\n",
       "\n",
       "    .dataframe tbody tr th {\n",
       "        vertical-align: top;\n",
       "    }\n",
       "\n",
       "    .dataframe thead th {\n",
       "        text-align: right;\n",
       "    }\n",
       "</style>\n",
       "<table border=\"1\" class=\"dataframe\">\n",
       "  <thead>\n",
       "    <tr style=\"text-align: right;\">\n",
       "      <th></th>\n",
       "      <th>Variáveis</th>\n",
       "      <th>importantes</th>\n",
       "    </tr>\n",
       "  </thead>\n",
       "  <tbody>\n",
       "    <tr>\n",
       "      <th>0</th>\n",
       "      <td>Mortes_criancas_0-4a_Hiv_aids</td>\n",
       "      <td>0.310599</td>\n",
       "    </tr>\n",
       "    <tr>\n",
       "      <th>1</th>\n",
       "      <td>IDH</td>\n",
       "      <td>0.233324</td>\n",
       "    </tr>\n",
       "    <tr>\n",
       "      <th>2</th>\n",
       "      <td>Taxa_Mortalidade_Adulto</td>\n",
       "      <td>0.171514</td>\n",
       "    </tr>\n",
       "    <tr>\n",
       "      <th>3</th>\n",
       "      <td>Anos_de_Escolaridade</td>\n",
       "      <td>0.093782</td>\n",
       "    </tr>\n",
       "    <tr>\n",
       "      <th>4</th>\n",
       "      <td>Indice_Massa_Corporal</td>\n",
       "      <td>0.031138</td>\n",
       "    </tr>\n",
       "    <tr>\n",
       "      <th>5</th>\n",
       "      <td>Mortes_Menores_5anos</td>\n",
       "      <td>0.026552</td>\n",
       "    </tr>\n",
       "    <tr>\n",
       "      <th>6</th>\n",
       "      <td>Cobertura_Difeteria</td>\n",
       "      <td>0.019150</td>\n",
       "    </tr>\n",
       "    <tr>\n",
       "      <th>7</th>\n",
       "      <td>Magreza_5-9anos</td>\n",
       "      <td>0.017589</td>\n",
       "    </tr>\n",
       "    <tr>\n",
       "      <th>8</th>\n",
       "      <td>Numero_Obito_Infantil</td>\n",
       "      <td>0.015856</td>\n",
       "    </tr>\n",
       "    <tr>\n",
       "      <th>9</th>\n",
       "      <td>Cobertura_Polio</td>\n",
       "      <td>0.015515</td>\n",
       "    </tr>\n",
       "    <tr>\n",
       "      <th>10</th>\n",
       "      <td>Magreza_1-19anos</td>\n",
       "      <td>0.014709</td>\n",
       "    </tr>\n",
       "    <tr>\n",
       "      <th>11</th>\n",
       "      <td>Consumo_Alcool</td>\n",
       "      <td>0.011451</td>\n",
       "    </tr>\n",
       "    <tr>\n",
       "      <th>12</th>\n",
       "      <td>PIB</td>\n",
       "      <td>0.008249</td>\n",
       "    </tr>\n",
       "    <tr>\n",
       "      <th>13</th>\n",
       "      <td>Relacao_GastosSaude/despesasTotais</td>\n",
       "      <td>0.007844</td>\n",
       "    </tr>\n",
       "    <tr>\n",
       "      <th>14</th>\n",
       "      <td>Classificacao_Developed</td>\n",
       "      <td>0.005675</td>\n",
       "    </tr>\n",
       "    <tr>\n",
       "      <th>15</th>\n",
       "      <td>Gastos_Com_Saude</td>\n",
       "      <td>0.005034</td>\n",
       "    </tr>\n",
       "    <tr>\n",
       "      <th>16</th>\n",
       "      <td>Hepatite_B</td>\n",
       "      <td>0.004239</td>\n",
       "    </tr>\n",
       "    <tr>\n",
       "      <th>17</th>\n",
       "      <td>Sarampo</td>\n",
       "      <td>0.003905</td>\n",
       "    </tr>\n",
       "    <tr>\n",
       "      <th>18</th>\n",
       "      <td>Populacao</td>\n",
       "      <td>0.003874</td>\n",
       "    </tr>\n",
       "  </tbody>\n",
       "</table>\n",
       "</div>"
      ],
      "text/plain": [
       "                             Variáveis  importantes\n",
       "0        Mortes_criancas_0-4a_Hiv_aids     0.310599\n",
       "1                                  IDH     0.233324\n",
       "2              Taxa_Mortalidade_Adulto     0.171514\n",
       "3                 Anos_de_Escolaridade     0.093782\n",
       "4                Indice_Massa_Corporal     0.031138\n",
       "5                 Mortes_Menores_5anos     0.026552\n",
       "6                  Cobertura_Difeteria     0.019150\n",
       "7                      Magreza_5-9anos     0.017589\n",
       "8                Numero_Obito_Infantil     0.015856\n",
       "9                      Cobertura_Polio     0.015515\n",
       "10                    Magreza_1-19anos     0.014709\n",
       "11                      Consumo_Alcool     0.011451\n",
       "12                                 PIB     0.008249\n",
       "13  Relacao_GastosSaude/despesasTotais     0.007844\n",
       "14             Classificacao_Developed     0.005675\n",
       "15                    Gastos_Com_Saude     0.005034\n",
       "16                          Hepatite_B     0.004239\n",
       "17                             Sarampo     0.003905\n",
       "18                           Populacao     0.003874"
      ]
     },
     "execution_count": 62,
     "metadata": {},
     "output_type": "execute_result"
    }
   ],
   "source": [
    "importante2 = importante (X_train2,modelo2.best_estimator_.feature_importances_)\n",
    "importante2"
   ]
  },
  {
   "cell_type": "code",
   "execution_count": 63,
   "metadata": {},
   "outputs": [
    {
     "data": {
      "text/plain": [
       "1.7799958208033597"
      ]
     },
     "execution_count": 63,
     "metadata": {},
     "output_type": "execute_result"
    }
   ],
   "source": [
    "metrica2"
   ]
  },
  {
   "cell_type": "code",
   "execution_count": 64,
   "metadata": {},
   "outputs": [],
   "source": [
    "X_test2_norm = sc_full.transform(X_test_des)\n",
    "metrica_final = metrica (Y_test_des,X_test2_norm,modelo2)"
   ]
  },
  {
   "cell_type": "code",
   "execution_count": 65,
   "metadata": {},
   "outputs": [
    {
     "data": {
      "text/plain": [
       "1.2176242273457432"
      ]
     },
     "execution_count": 65,
     "metadata": {},
     "output_type": "execute_result"
    }
   ],
   "source": [
    "metrica_final"
   ]
  },
  {
   "cell_type": "code",
   "execution_count": 66,
   "metadata": {},
   "outputs": [
    {
     "data": {
      "text/html": [
       "<div>\n",
       "<style scoped>\n",
       "    .dataframe tbody tr th:only-of-type {\n",
       "        vertical-align: middle;\n",
       "    }\n",
       "\n",
       "    .dataframe tbody tr th {\n",
       "        vertical-align: top;\n",
       "    }\n",
       "\n",
       "    .dataframe thead th {\n",
       "        text-align: right;\n",
       "    }\n",
       "</style>\n",
       "<table border=\"1\" class=\"dataframe\">\n",
       "  <thead>\n",
       "    <tr style=\"text-align: right;\">\n",
       "      <th></th>\n",
       "      <th>PaIs</th>\n",
       "      <th>Ano</th>\n",
       "      <th>Classificacao</th>\n",
       "      <th>Expectativa_de_Vida</th>\n",
       "      <th>Expectativa_de_vida_prevista</th>\n",
       "      <th>Taxa_Mortalidade_Adulto</th>\n",
       "      <th>Numero_Obito_Infantil</th>\n",
       "      <th>Consumo_Alcool</th>\n",
       "      <th>Gastos_Com_Saude</th>\n",
       "      <th>Hepatite_B</th>\n",
       "      <th>...</th>\n",
       "      <th>Cobertura_Polio</th>\n",
       "      <th>Relacao_GastosSaude/despesasTotais</th>\n",
       "      <th>Cobertura_Difeteria</th>\n",
       "      <th>Mortes_criancas_0-4a_Hiv_aids</th>\n",
       "      <th>PIB</th>\n",
       "      <th>Populacao</th>\n",
       "      <th>Magreza_1-19anos</th>\n",
       "      <th>Magreza_5-9anos</th>\n",
       "      <th>IDH</th>\n",
       "      <th>Anos_de_Escolaridade</th>\n",
       "    </tr>\n",
       "  </thead>\n",
       "  <tbody>\n",
       "    <tr>\n",
       "      <th>0</th>\n",
       "      <td>Afghanistan</td>\n",
       "      <td>2015</td>\n",
       "      <td>Developing</td>\n",
       "      <td>65.0</td>\n",
       "      <td>62.080795</td>\n",
       "      <td>263.0</td>\n",
       "      <td>62</td>\n",
       "      <td>0.01</td>\n",
       "      <td>71.279624</td>\n",
       "      <td>65.0</td>\n",
       "      <td>...</td>\n",
       "      <td>6.0</td>\n",
       "      <td>8.16</td>\n",
       "      <td>65.0</td>\n",
       "      <td>0.1</td>\n",
       "      <td>584.259210</td>\n",
       "      <td>33736494.0</td>\n",
       "      <td>17.2</td>\n",
       "      <td>17.3</td>\n",
       "      <td>0.479</td>\n",
       "      <td>10.1</td>\n",
       "    </tr>\n",
       "    <tr>\n",
       "      <th>1</th>\n",
       "      <td>Afghanistan</td>\n",
       "      <td>2014</td>\n",
       "      <td>Developing</td>\n",
       "      <td>59.9</td>\n",
       "      <td>59.905819</td>\n",
       "      <td>271.0</td>\n",
       "      <td>64</td>\n",
       "      <td>0.01</td>\n",
       "      <td>73.523582</td>\n",
       "      <td>62.0</td>\n",
       "      <td>...</td>\n",
       "      <td>58.0</td>\n",
       "      <td>8.18</td>\n",
       "      <td>62.0</td>\n",
       "      <td>0.1</td>\n",
       "      <td>612.696514</td>\n",
       "      <td>327582.0</td>\n",
       "      <td>17.5</td>\n",
       "      <td>17.5</td>\n",
       "      <td>0.476</td>\n",
       "      <td>10.0</td>\n",
       "    </tr>\n",
       "    <tr>\n",
       "      <th>2</th>\n",
       "      <td>Afghanistan</td>\n",
       "      <td>2013</td>\n",
       "      <td>Developing</td>\n",
       "      <td>59.9</td>\n",
       "      <td>59.936153</td>\n",
       "      <td>268.0</td>\n",
       "      <td>66</td>\n",
       "      <td>0.01</td>\n",
       "      <td>73.219243</td>\n",
       "      <td>64.0</td>\n",
       "      <td>...</td>\n",
       "      <td>62.0</td>\n",
       "      <td>8.13</td>\n",
       "      <td>64.0</td>\n",
       "      <td>0.1</td>\n",
       "      <td>631.744976</td>\n",
       "      <td>31731688.0</td>\n",
       "      <td>17.7</td>\n",
       "      <td>17.7</td>\n",
       "      <td>0.470</td>\n",
       "      <td>9.9</td>\n",
       "    </tr>\n",
       "    <tr>\n",
       "      <th>3</th>\n",
       "      <td>Afghanistan</td>\n",
       "      <td>2012</td>\n",
       "      <td>Developing</td>\n",
       "      <td>59.5</td>\n",
       "      <td>59.561535</td>\n",
       "      <td>272.0</td>\n",
       "      <td>69</td>\n",
       "      <td>0.01</td>\n",
       "      <td>78.184215</td>\n",
       "      <td>67.0</td>\n",
       "      <td>...</td>\n",
       "      <td>67.0</td>\n",
       "      <td>8.52</td>\n",
       "      <td>67.0</td>\n",
       "      <td>0.1</td>\n",
       "      <td>669.959000</td>\n",
       "      <td>3696958.0</td>\n",
       "      <td>17.9</td>\n",
       "      <td>18.0</td>\n",
       "      <td>0.463</td>\n",
       "      <td>9.8</td>\n",
       "    </tr>\n",
       "    <tr>\n",
       "      <th>4</th>\n",
       "      <td>Afghanistan</td>\n",
       "      <td>2011</td>\n",
       "      <td>Developing</td>\n",
       "      <td>59.2</td>\n",
       "      <td>59.033991</td>\n",
       "      <td>275.0</td>\n",
       "      <td>71</td>\n",
       "      <td>0.01</td>\n",
       "      <td>7.097109</td>\n",
       "      <td>68.0</td>\n",
       "      <td>...</td>\n",
       "      <td>68.0</td>\n",
       "      <td>7.87</td>\n",
       "      <td>68.0</td>\n",
       "      <td>0.1</td>\n",
       "      <td>63.537231</td>\n",
       "      <td>2978599.0</td>\n",
       "      <td>18.2</td>\n",
       "      <td>18.2</td>\n",
       "      <td>0.454</td>\n",
       "      <td>9.5</td>\n",
       "    </tr>\n",
       "    <tr>\n",
       "      <th>...</th>\n",
       "      <td>...</td>\n",
       "      <td>...</td>\n",
       "      <td>...</td>\n",
       "      <td>...</td>\n",
       "      <td>...</td>\n",
       "      <td>...</td>\n",
       "      <td>...</td>\n",
       "      <td>...</td>\n",
       "      <td>...</td>\n",
       "      <td>...</td>\n",
       "      <td>...</td>\n",
       "      <td>...</td>\n",
       "      <td>...</td>\n",
       "      <td>...</td>\n",
       "      <td>...</td>\n",
       "      <td>...</td>\n",
       "      <td>...</td>\n",
       "      <td>...</td>\n",
       "      <td>...</td>\n",
       "      <td>...</td>\n",
       "      <td>...</td>\n",
       "    </tr>\n",
       "    <tr>\n",
       "      <th>2923</th>\n",
       "      <td>Zimbabwe</td>\n",
       "      <td>2004</td>\n",
       "      <td>Developing</td>\n",
       "      <td>44.3</td>\n",
       "      <td>44.797353</td>\n",
       "      <td>723.0</td>\n",
       "      <td>27</td>\n",
       "      <td>4.36</td>\n",
       "      <td>0.000000</td>\n",
       "      <td>68.0</td>\n",
       "      <td>...</td>\n",
       "      <td>67.0</td>\n",
       "      <td>7.13</td>\n",
       "      <td>65.0</td>\n",
       "      <td>33.6</td>\n",
       "      <td>454.366654</td>\n",
       "      <td>12777511.0</td>\n",
       "      <td>9.4</td>\n",
       "      <td>9.4</td>\n",
       "      <td>0.407</td>\n",
       "      <td>9.2</td>\n",
       "    </tr>\n",
       "    <tr>\n",
       "      <th>2924</th>\n",
       "      <td>Zimbabwe</td>\n",
       "      <td>2003</td>\n",
       "      <td>Developing</td>\n",
       "      <td>44.5</td>\n",
       "      <td>44.922532</td>\n",
       "      <td>715.0</td>\n",
       "      <td>26</td>\n",
       "      <td>4.06</td>\n",
       "      <td>0.000000</td>\n",
       "      <td>7.0</td>\n",
       "      <td>...</td>\n",
       "      <td>7.0</td>\n",
       "      <td>6.52</td>\n",
       "      <td>68.0</td>\n",
       "      <td>36.7</td>\n",
       "      <td>453.351155</td>\n",
       "      <td>12633897.0</td>\n",
       "      <td>9.8</td>\n",
       "      <td>9.9</td>\n",
       "      <td>0.418</td>\n",
       "      <td>9.5</td>\n",
       "    </tr>\n",
       "    <tr>\n",
       "      <th>2925</th>\n",
       "      <td>Zimbabwe</td>\n",
       "      <td>2002</td>\n",
       "      <td>Developing</td>\n",
       "      <td>44.8</td>\n",
       "      <td>47.139873</td>\n",
       "      <td>73.0</td>\n",
       "      <td>25</td>\n",
       "      <td>4.43</td>\n",
       "      <td>0.000000</td>\n",
       "      <td>73.0</td>\n",
       "      <td>...</td>\n",
       "      <td>73.0</td>\n",
       "      <td>6.53</td>\n",
       "      <td>71.0</td>\n",
       "      <td>39.8</td>\n",
       "      <td>57.348340</td>\n",
       "      <td>125525.0</td>\n",
       "      <td>1.2</td>\n",
       "      <td>1.3</td>\n",
       "      <td>0.427</td>\n",
       "      <td>10.0</td>\n",
       "    </tr>\n",
       "    <tr>\n",
       "      <th>2926</th>\n",
       "      <td>Zimbabwe</td>\n",
       "      <td>2001</td>\n",
       "      <td>Developing</td>\n",
       "      <td>45.3</td>\n",
       "      <td>45.841115</td>\n",
       "      <td>686.0</td>\n",
       "      <td>25</td>\n",
       "      <td>1.72</td>\n",
       "      <td>0.000000</td>\n",
       "      <td>76.0</td>\n",
       "      <td>...</td>\n",
       "      <td>76.0</td>\n",
       "      <td>6.16</td>\n",
       "      <td>75.0</td>\n",
       "      <td>42.1</td>\n",
       "      <td>548.587312</td>\n",
       "      <td>12366165.0</td>\n",
       "      <td>1.6</td>\n",
       "      <td>1.7</td>\n",
       "      <td>0.427</td>\n",
       "      <td>9.8</td>\n",
       "    </tr>\n",
       "    <tr>\n",
       "      <th>2927</th>\n",
       "      <td>Zimbabwe</td>\n",
       "      <td>2000</td>\n",
       "      <td>Developing</td>\n",
       "      <td>46.0</td>\n",
       "      <td>45.598136</td>\n",
       "      <td>665.0</td>\n",
       "      <td>24</td>\n",
       "      <td>1.68</td>\n",
       "      <td>0.000000</td>\n",
       "      <td>79.0</td>\n",
       "      <td>...</td>\n",
       "      <td>78.0</td>\n",
       "      <td>7.10</td>\n",
       "      <td>78.0</td>\n",
       "      <td>43.5</td>\n",
       "      <td>547.358878</td>\n",
       "      <td>12222251.0</td>\n",
       "      <td>11.0</td>\n",
       "      <td>11.2</td>\n",
       "      <td>0.434</td>\n",
       "      <td>9.8</td>\n",
       "    </tr>\n",
       "  </tbody>\n",
       "</table>\n",
       "<p>2928 rows × 23 columns</p>\n",
       "</div>"
      ],
      "text/plain": [
       "             PaIs   Ano Classificacao  Expectativa_de_Vida  \\\n",
       "0     Afghanistan  2015    Developing                 65.0   \n",
       "1     Afghanistan  2014    Developing                 59.9   \n",
       "2     Afghanistan  2013    Developing                 59.9   \n",
       "3     Afghanistan  2012    Developing                 59.5   \n",
       "4     Afghanistan  2011    Developing                 59.2   \n",
       "...           ...   ...           ...                  ...   \n",
       "2923     Zimbabwe  2004    Developing                 44.3   \n",
       "2924     Zimbabwe  2003    Developing                 44.5   \n",
       "2925     Zimbabwe  2002    Developing                 44.8   \n",
       "2926     Zimbabwe  2001    Developing                 45.3   \n",
       "2927     Zimbabwe  2000    Developing                 46.0   \n",
       "\n",
       "      Expectativa_de_vida_prevista  Taxa_Mortalidade_Adulto  \\\n",
       "0                        62.080795                    263.0   \n",
       "1                        59.905819                    271.0   \n",
       "2                        59.936153                    268.0   \n",
       "3                        59.561535                    272.0   \n",
       "4                        59.033991                    275.0   \n",
       "...                            ...                      ...   \n",
       "2923                     44.797353                    723.0   \n",
       "2924                     44.922532                    715.0   \n",
       "2925                     47.139873                     73.0   \n",
       "2926                     45.841115                    686.0   \n",
       "2927                     45.598136                    665.0   \n",
       "\n",
       "      Numero_Obito_Infantil  Consumo_Alcool  Gastos_Com_Saude  Hepatite_B  \\\n",
       "0                        62            0.01         71.279624        65.0   \n",
       "1                        64            0.01         73.523582        62.0   \n",
       "2                        66            0.01         73.219243        64.0   \n",
       "3                        69            0.01         78.184215        67.0   \n",
       "4                        71            0.01          7.097109        68.0   \n",
       "...                     ...             ...               ...         ...   \n",
       "2923                     27            4.36          0.000000        68.0   \n",
       "2924                     26            4.06          0.000000         7.0   \n",
       "2925                     25            4.43          0.000000        73.0   \n",
       "2926                     25            1.72          0.000000        76.0   \n",
       "2927                     24            1.68          0.000000        79.0   \n",
       "\n",
       "      ...  Cobertura_Polio  Relacao_GastosSaude/despesasTotais  \\\n",
       "0     ...              6.0                                8.16   \n",
       "1     ...             58.0                                8.18   \n",
       "2     ...             62.0                                8.13   \n",
       "3     ...             67.0                                8.52   \n",
       "4     ...             68.0                                7.87   \n",
       "...   ...              ...                                 ...   \n",
       "2923  ...             67.0                                7.13   \n",
       "2924  ...              7.0                                6.52   \n",
       "2925  ...             73.0                                6.53   \n",
       "2926  ...             76.0                                6.16   \n",
       "2927  ...             78.0                                7.10   \n",
       "\n",
       "      Cobertura_Difeteria  Mortes_criancas_0-4a_Hiv_aids         PIB  \\\n",
       "0                    65.0                            0.1  584.259210   \n",
       "1                    62.0                            0.1  612.696514   \n",
       "2                    64.0                            0.1  631.744976   \n",
       "3                    67.0                            0.1  669.959000   \n",
       "4                    68.0                            0.1   63.537231   \n",
       "...                   ...                            ...         ...   \n",
       "2923                 65.0                           33.6  454.366654   \n",
       "2924                 68.0                           36.7  453.351155   \n",
       "2925                 71.0                           39.8   57.348340   \n",
       "2926                 75.0                           42.1  548.587312   \n",
       "2927                 78.0                           43.5  547.358878   \n",
       "\n",
       "       Populacao  Magreza_1-19anos  Magreza_5-9anos    IDH  \\\n",
       "0     33736494.0              17.2             17.3  0.479   \n",
       "1       327582.0              17.5             17.5  0.476   \n",
       "2     31731688.0              17.7             17.7  0.470   \n",
       "3      3696958.0              17.9             18.0  0.463   \n",
       "4      2978599.0              18.2             18.2  0.454   \n",
       "...          ...               ...              ...    ...   \n",
       "2923  12777511.0               9.4              9.4  0.407   \n",
       "2924  12633897.0               9.8              9.9  0.418   \n",
       "2925    125525.0               1.2              1.3  0.427   \n",
       "2926  12366165.0               1.6              1.7  0.427   \n",
       "2927  12222251.0              11.0             11.2  0.434   \n",
       "\n",
       "      Anos_de_Escolaridade  \n",
       "0                     10.1  \n",
       "1                     10.0  \n",
       "2                      9.9  \n",
       "3                      9.8  \n",
       "4                      9.5  \n",
       "...                    ...  \n",
       "2923                   9.2  \n",
       "2924                   9.5  \n",
       "2925                  10.0  \n",
       "2926                   9.8  \n",
       "2927                   9.8  \n",
       "\n",
       "[2928 rows x 23 columns]"
      ]
     },
     "execution_count": 66,
     "metadata": {},
     "output_type": "execute_result"
    }
   ],
   "source": [
    "df_completo.insert(4,'Expectativa_de_vida_prevista', yhat_completo_full)\n",
    "df_completo"
   ]
  },
  {
   "cell_type": "code",
   "execution_count": 67,
   "metadata": {},
   "outputs": [
    {
     "data": {
      "image/png": "[encoded data removed]",
      "text/plain": [
       "<Figure size 800x600 with 1 Axes>"
      ]
     },
     "metadata": {},
     "output_type": "display_data"
    }
   ],
   "source": [
    "plt.figure(figsize=(8,6))\n",
    "ax = sns.lineplot(data=df_completo,x='Ano', y='Expectativa_de_Vida',ci='sd')\n",
    "ax = sns.lineplot(data=results_full,x='Ano', y='Expectativa_Vida_previsto',color='Green',ci='sd')\n",
    "# Inserindo descritivo na legenda\n",
    "plt.legend(['Expectativa de vida real','desvio padrão','Expectativa de vida Prevista','desvio padrão'],loc=4) \n",
    "plt.title('Modelo de Previsão Dados Completos')\n",
    "ax.get_figure().savefig(\"Previsão_Expectativa_de_vida_completo.png\")"
   ]
  },
  {
   "cell_type": "code",
   "execution_count": 68,
   "metadata": {},
   "outputs": [
    {
     "data": {
      "image/png": "[encoded data removed]",
      "text/plain": [
       "<Figure size 800x600 with 1 Axes>"
      ]
     },
     "metadata": {},
     "output_type": "display_data"
    }
   ],
   "source": [
    "plt.figure(figsize=(8,6))\n",
    "ax1 = sns.lineplot(data=df_des,x='Ano', y='Expectativa_de_Vida',ci='sd', color='Blue')\n",
    "ax1 = sns.lineplot(data=df_emdes,x='Ano', y='Expectativa_de_Vida',ci='sd',color='Blue')\n",
    "#ax = sns.lineplot(data=results_full,x='Ano', y='Expectativa_Vida_previsto',color='Green',ci='sd')\n",
    "ax1 = sns.lineplot(data=results_emdes,x='Ano', y='Expectativa_Vida_previsto',color='Green',ci='sd')\n",
    "ax1 = sns.lineplot(data=results_des,x='Ano', y='Expectativa_Vida_previsto',color='Green',ci='sd')\n",
    "# Inserindo descritivo na legenda\n",
    "plt.legend(['Expectativa de vida real','desvio padrão','Expectativa de vida Prevista','desvio padrão'],loc=4) \n",
    "plt.title('Modelo de Previsão Grupos de Países')\n",
    "ax1.get_figure().savefig(\"Previsão_Expectativa_de_vida.png\")"
   ]
  }
 ],
 "metadata": {
  "kernelspec": {
   "display_name": "expectativa_de_vida",
   "language": "python",
   "name": "python3"
  },
  "language_info": {
   "codemirror_mode": {
    "name": "ipython",
    "version": 3
   },
   "file_extension": ".py",
   "mimetype": "text/x-python",
   "name": "python",
   "nbconvert_exporter": "python",
   "pygments_lexer": "ipython3",
   "version": "3.11.3"
  },
  "orig_nbformat": 4
 },
 "nbformat": 4,
 "nbformat_minor": 2
}
