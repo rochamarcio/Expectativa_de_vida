{
 "cells": [
  {
   "attachments": {},
   "cell_type": "markdown",
   "metadata": {},
   "source": [
    "### Projeto Final Para Conclusão do Curso de Cientista de Dados"
   ]
  },
  {
   "attachments": {},
   "cell_type": "markdown",
   "metadata": {},
   "source": [
    "Instituição: Infnet"
   ]
  },
  {
   "attachments": {},
   "cell_type": "markdown",
   "metadata": {},
   "source": [
    "Aluno: Marcio Carvalho"
   ]
  },
  {
   "attachments": {},
   "cell_type": "markdown",
   "metadata": {},
   "source": [
    "Projeto: Predição da expectativa de vida no mundo de acordo diversos fatores de saúde e sócio econômicos."
   ]
  },
  {
   "attachments": {},
   "cell_type": "markdown",
   "metadata": {},
   "source": [
    "Dados: O repositório de dados é da Global Health Observatory (GHO), portal de conjunto de dados da Organização Mundial da Saúde (OMS) para estatísticas relacionadas à saúde de 183 Estados Membros. Os dados econômicos correspondentes foram coletados do site das Nações Unidas. Inicialmente os respectivos dados foram coletados e organizados no Site: https://www.kaggle.com/datasets/kumarajarshi/life-expectancy-who. pelo responsável KumarRajarshi.\n",
    "             \n"
   ]
  },
  {
   "attachments": {},
   "cell_type": "markdown",
   "metadata": {},
   "source": [
    "Período: 2000-2015"
   ]
  },
  {
   "attachments": {},
   "cell_type": "markdown",
   "metadata": {},
   "source": [
    "As colunas a seguir estão incluídas no conjunto de dados:\n",
    "\n",
    "• Country: país - 193 países\n",
    "\n",
    "• year: Anos (2000 - 2015)\n",
    "\n",
    "• Status: país desenvolvido ou em desenvolvimento\n",
    "\n",
    "• Adult Mortality: Taxas de mortalidade adulta de ambos os sexos (probabilidade de morrer entre 15 e 60 anos por 1000 habitantes)\n",
    "\n",
    "• infant Deaths: Número de óbitos infantis por 1.000 habitantes\n",
    "\n",
    "• Alcohol: Álcool, consumo registrado per capita (15+) (em litros de álcool puro)\n",
    "\n",
    "• percentage expenditure: Despesa percentual - Gastos com saúde como porcentagem do Produto Interno Bruto per capita (%)\n",
    "\n",
    "• Hepatitis B: Cobertura vacinal contra hepatite B (HepB) em crianças de 1 ano (%)\n",
    "\n",
    "• Measles: Sarampo - número de casos notificados por 1000 habitantes\n",
    "\n",
    "• BMI: Índice de Massa Corporal Médio de toda a população\n",
    "\n",
    "• under-five deathes: Número de mortes de menores de cinco anos por 1000 habitantes\n",
    "\n",
    "• Polio: Cobertura vacinal contra pólio (Pol3) em crianças de 1 ano (%)\n",
    "\n",
    "• Total expenditure: Despesas totais - Gastos do governo geral com saúde como porcentagem do gasto total do governo (%)\n",
    "\n",
    "• Polio: Cobertura vacinal contra pólio (Pol3) em crianças de 1 ano (%)\n",
    "\n",
    "• Diphtheria: Difteria - Cobertura vacinal contra difteria, tétano e coqueluche (DTP3) em crianças de 1 ano de idade (%)\n",
    "\n",
    "• HIV/AIDS: Mortes por 1000 nascidos vivos HIV/AIDS (0-4 anos)\n",
    "\n",
    "• GDP: Produto Interno Bruto per capita (em USD)\n",
    "\n",
    "• Population: População do país\n",
    "\n",
    "• thinness 1-19 years: Prevalência de magreza em crianças e adolescentes de 1 a 19 anos (%)\n",
    "\n",
    "• thinness 5-9 years: Prevalência de magreza em crianças de 5 a 9 anos (%)\n",
    "\n",
    "• Income composition of resources: Índice de Desenvolvimento Humano em termos de composição de renda dos recursos (índice variando de 0 a 1)\n",
    "\n",
    "• Schooling: Número de anos de escolaridade (anos)\n",
    "\n",
    "• Life Expectancy: Expectativa de vida em anos (coluna Alvo)\n"
   ]
  },
  {
   "attachments": {},
   "cell_type": "markdown",
   "metadata": {},
   "source": [
    "### Criação do Modelo de Predição"
   ]
  },
  {
   "cell_type": "code",
   "execution_count": 1,
   "metadata": {},
   "outputs": [],
   "source": [
    "import pandas as pd\n",
    "import numpy as np\n",
    "from sklearn.model_selection import train_test_split\n",
    "from sklearn.preprocessing import StandardScaler\n",
    "#from sklearn import tree\n",
    "from sklearn.dummy import DummyRegressor\n",
    "from sklearn.svm import SVR\n",
    "from sklearn.tree import DecisionTreeRegressor\n",
    "from sklearn.ensemble import RandomForestRegressor\n",
    "from sklearn.ensemble import GradientBoostingRegressor\n",
    "from sklearn.neural_network import MLPRegressor\n",
    "from sklearn.model_selection import GridSearchCV\n",
    "from sklearn.model_selection import KFold\n",
    "from sklearn.metrics import mean_squared_error\n",
    "from sklearn.model_selection import cross_val_score\n",
    "#import xgboost\n",
    "import seaborn as sns\n",
    "import matplotlib.pyplot as plt\n",
    "import warnings\n",
    "warnings.filterwarnings('ignore')\n"
   ]
  },
  {
   "cell_type": "code",
   "execution_count": 2,
   "metadata": {},
   "outputs": [],
   "source": [
    "df_completo = pd.read_csv('Expectativa_de_vida_tratado.csv')"
   ]
  },
  {
   "cell_type": "code",
   "execution_count": 3,
   "metadata": {},
   "outputs": [
    {
     "data": {
      "text/html": [
       "<div>\n",
       "<style scoped>\n",
       "    .dataframe tbody tr th:only-of-type {\n",
       "        vertical-align: middle;\n",
       "    }\n",
       "\n",
       "    .dataframe tbody tr th {\n",
       "        vertical-align: top;\n",
       "    }\n",
       "\n",
       "    .dataframe thead th {\n",
       "        text-align: right;\n",
       "    }\n",
       "</style>\n",
       "<table border=\"1\" class=\"dataframe\">\n",
       "  <thead>\n",
       "    <tr style=\"text-align: right;\">\n",
       "      <th></th>\n",
       "      <th>PaIs</th>\n",
       "      <th>Ano</th>\n",
       "      <th>Classificacao</th>\n",
       "      <th>Expectativa_de_Vida</th>\n",
       "      <th>Taxa_Mortalidade_Adulto</th>\n",
       "      <th>Numero_Obito_Infantil</th>\n",
       "      <th>Consumo_Alcool</th>\n",
       "      <th>Gastos_Com_Saude</th>\n",
       "      <th>Hepatite_B</th>\n",
       "      <th>Sarampo</th>\n",
       "      <th>...</th>\n",
       "      <th>Cobertura_Polio</th>\n",
       "      <th>Relacao_GastosSaude/despesasTotais</th>\n",
       "      <th>Cobertura_Difeteria</th>\n",
       "      <th>Mortes_criancas_0-4a_Hiv_aids</th>\n",
       "      <th>PIB</th>\n",
       "      <th>Populacao</th>\n",
       "      <th>Magreza_1-19anos</th>\n",
       "      <th>Magreza_5-9anos</th>\n",
       "      <th>IDH</th>\n",
       "      <th>Anos_de_Escolaridade</th>\n",
       "    </tr>\n",
       "  </thead>\n",
       "  <tbody>\n",
       "    <tr>\n",
       "      <th>0</th>\n",
       "      <td>Afghanistan</td>\n",
       "      <td>2015</td>\n",
       "      <td>Developing</td>\n",
       "      <td>65.0</td>\n",
       "      <td>263.0</td>\n",
       "      <td>62</td>\n",
       "      <td>0.01</td>\n",
       "      <td>71.279624</td>\n",
       "      <td>65.0</td>\n",
       "      <td>1154</td>\n",
       "      <td>...</td>\n",
       "      <td>6.0</td>\n",
       "      <td>8.16</td>\n",
       "      <td>65.0</td>\n",
       "      <td>0.1</td>\n",
       "      <td>584.259210</td>\n",
       "      <td>33736494.0</td>\n",
       "      <td>17.2</td>\n",
       "      <td>17.3</td>\n",
       "      <td>0.479</td>\n",
       "      <td>10.1</td>\n",
       "    </tr>\n",
       "    <tr>\n",
       "      <th>1</th>\n",
       "      <td>Afghanistan</td>\n",
       "      <td>2014</td>\n",
       "      <td>Developing</td>\n",
       "      <td>59.9</td>\n",
       "      <td>271.0</td>\n",
       "      <td>64</td>\n",
       "      <td>0.01</td>\n",
       "      <td>73.523582</td>\n",
       "      <td>62.0</td>\n",
       "      <td>492</td>\n",
       "      <td>...</td>\n",
       "      <td>58.0</td>\n",
       "      <td>8.18</td>\n",
       "      <td>62.0</td>\n",
       "      <td>0.1</td>\n",
       "      <td>612.696514</td>\n",
       "      <td>327582.0</td>\n",
       "      <td>17.5</td>\n",
       "      <td>17.5</td>\n",
       "      <td>0.476</td>\n",
       "      <td>10.0</td>\n",
       "    </tr>\n",
       "    <tr>\n",
       "      <th>2</th>\n",
       "      <td>Afghanistan</td>\n",
       "      <td>2013</td>\n",
       "      <td>Developing</td>\n",
       "      <td>59.9</td>\n",
       "      <td>268.0</td>\n",
       "      <td>66</td>\n",
       "      <td>0.01</td>\n",
       "      <td>73.219243</td>\n",
       "      <td>64.0</td>\n",
       "      <td>430</td>\n",
       "      <td>...</td>\n",
       "      <td>62.0</td>\n",
       "      <td>8.13</td>\n",
       "      <td>64.0</td>\n",
       "      <td>0.1</td>\n",
       "      <td>631.744976</td>\n",
       "      <td>31731688.0</td>\n",
       "      <td>17.7</td>\n",
       "      <td>17.7</td>\n",
       "      <td>0.470</td>\n",
       "      <td>9.9</td>\n",
       "    </tr>\n",
       "  </tbody>\n",
       "</table>\n",
       "<p>3 rows × 22 columns</p>\n",
       "</div>"
      ],
      "text/plain": [
       "          PaIs   Ano Classificacao  Expectativa_de_Vida  \\\n",
       "0  Afghanistan  2015    Developing                 65.0   \n",
       "1  Afghanistan  2014    Developing                 59.9   \n",
       "2  Afghanistan  2013    Developing                 59.9   \n",
       "\n",
       "   Taxa_Mortalidade_Adulto  Numero_Obito_Infantil  Consumo_Alcool  \\\n",
       "0                    263.0                     62            0.01   \n",
       "1                    271.0                     64            0.01   \n",
       "2                    268.0                     66            0.01   \n",
       "\n",
       "   Gastos_Com_Saude  Hepatite_B  Sarampo  ...  Cobertura_Polio  \\\n",
       "0         71.279624        65.0     1154  ...              6.0   \n",
       "1         73.523582        62.0      492  ...             58.0   \n",
       "2         73.219243        64.0      430  ...             62.0   \n",
       "\n",
       "   Relacao_GastosSaude/despesasTotais  Cobertura_Difeteria  \\\n",
       "0                                8.16                 65.0   \n",
       "1                                8.18                 62.0   \n",
       "2                                8.13                 64.0   \n",
       "\n",
       "   Mortes_criancas_0-4a_Hiv_aids         PIB   Populacao  Magreza_1-19anos  \\\n",
       "0                            0.1  584.259210  33736494.0              17.2   \n",
       "1                            0.1  612.696514    327582.0              17.5   \n",
       "2                            0.1  631.744976  31731688.0              17.7   \n",
       "\n",
       "   Magreza_5-9anos    IDH  Anos_de_Escolaridade  \n",
       "0             17.3  0.479                  10.1  \n",
       "1             17.5  0.476                  10.0  \n",
       "2             17.7  0.470                   9.9  \n",
       "\n",
       "[3 rows x 22 columns]"
      ]
     },
     "execution_count": 3,
     "metadata": {},
     "output_type": "execute_result"
    }
   ],
   "source": [
    "df_completo.head(3)"
   ]
  },
  {
   "cell_type": "code",
   "execution_count": 4,
   "metadata": {},
   "outputs": [
    {
     "data": {
      "text/html": [
       "<div>\n",
       "<style scoped>\n",
       "    .dataframe tbody tr th:only-of-type {\n",
       "        vertical-align: middle;\n",
       "    }\n",
       "\n",
       "    .dataframe tbody tr th {\n",
       "        vertical-align: top;\n",
       "    }\n",
       "\n",
       "    .dataframe thead th {\n",
       "        text-align: right;\n",
       "    }\n",
       "</style>\n",
       "<table border=\"1\" class=\"dataframe\">\n",
       "  <thead>\n",
       "    <tr style=\"text-align: right;\">\n",
       "      <th></th>\n",
       "      <th>PaIs</th>\n",
       "      <th>Ano</th>\n",
       "      <th>Classificacao</th>\n",
       "      <th>Expectativa_de_Vida</th>\n",
       "      <th>Taxa_Mortalidade_Adulto</th>\n",
       "      <th>Numero_Obito_Infantil</th>\n",
       "      <th>Consumo_Alcool</th>\n",
       "      <th>Gastos_Com_Saude</th>\n",
       "      <th>Hepatite_B</th>\n",
       "      <th>Sarampo</th>\n",
       "      <th>...</th>\n",
       "      <th>Cobertura_Polio</th>\n",
       "      <th>Relacao_GastosSaude/despesasTotais</th>\n",
       "      <th>Cobertura_Difeteria</th>\n",
       "      <th>Mortes_criancas_0-4a_Hiv_aids</th>\n",
       "      <th>PIB</th>\n",
       "      <th>Populacao</th>\n",
       "      <th>Magreza_1-19anos</th>\n",
       "      <th>Magreza_5-9anos</th>\n",
       "      <th>IDH</th>\n",
       "      <th>Anos_de_Escolaridade</th>\n",
       "    </tr>\n",
       "  </thead>\n",
       "  <tbody>\n",
       "    <tr>\n",
       "      <th>112</th>\n",
       "      <td>Australia</td>\n",
       "      <td>2015</td>\n",
       "      <td>Developed</td>\n",
       "      <td>82.8</td>\n",
       "      <td>59.0</td>\n",
       "      <td>1</td>\n",
       "      <td>10.155333</td>\n",
       "      <td>0.00000</td>\n",
       "      <td>93.0</td>\n",
       "      <td>74</td>\n",
       "      <td>...</td>\n",
       "      <td>93.0</td>\n",
       "      <td>8.836667</td>\n",
       "      <td>93.0</td>\n",
       "      <td>0.1</td>\n",
       "      <td>56554.3876</td>\n",
       "      <td>23789338.0</td>\n",
       "      <td>0.6</td>\n",
       "      <td>0.6</td>\n",
       "      <td>0.937</td>\n",
       "      <td>20.4</td>\n",
       "    </tr>\n",
       "    <tr>\n",
       "      <th>113</th>\n",
       "      <td>Australia</td>\n",
       "      <td>2014</td>\n",
       "      <td>Developed</td>\n",
       "      <td>82.7</td>\n",
       "      <td>6.0</td>\n",
       "      <td>1</td>\n",
       "      <td>9.710000</td>\n",
       "      <td>10769.36305</td>\n",
       "      <td>91.0</td>\n",
       "      <td>340</td>\n",
       "      <td>...</td>\n",
       "      <td>92.0</td>\n",
       "      <td>9.420000</td>\n",
       "      <td>92.0</td>\n",
       "      <td>0.1</td>\n",
       "      <td>62214.6912</td>\n",
       "      <td>2346694.0</td>\n",
       "      <td>0.6</td>\n",
       "      <td>0.6</td>\n",
       "      <td>0.936</td>\n",
       "      <td>20.4</td>\n",
       "    </tr>\n",
       "    <tr>\n",
       "      <th>114</th>\n",
       "      <td>Australia</td>\n",
       "      <td>2013</td>\n",
       "      <td>Developed</td>\n",
       "      <td>82.5</td>\n",
       "      <td>61.0</td>\n",
       "      <td>1</td>\n",
       "      <td>9.870000</td>\n",
       "      <td>11734.85381</td>\n",
       "      <td>91.0</td>\n",
       "      <td>158</td>\n",
       "      <td>...</td>\n",
       "      <td>91.0</td>\n",
       "      <td>9.360000</td>\n",
       "      <td>91.0</td>\n",
       "      <td>0.1</td>\n",
       "      <td>67792.3386</td>\n",
       "      <td>23117353.0</td>\n",
       "      <td>0.6</td>\n",
       "      <td>0.6</td>\n",
       "      <td>0.933</td>\n",
       "      <td>20.3</td>\n",
       "    </tr>\n",
       "  </tbody>\n",
       "</table>\n",
       "<p>3 rows × 22 columns</p>\n",
       "</div>"
      ],
      "text/plain": [
       "          PaIs   Ano Classificacao  Expectativa_de_Vida  \\\n",
       "112  Australia  2015     Developed                 82.8   \n",
       "113  Australia  2014     Developed                 82.7   \n",
       "114  Australia  2013     Developed                 82.5   \n",
       "\n",
       "     Taxa_Mortalidade_Adulto  Numero_Obito_Infantil  Consumo_Alcool  \\\n",
       "112                     59.0                      1       10.155333   \n",
       "113                      6.0                      1        9.710000   \n",
       "114                     61.0                      1        9.870000   \n",
       "\n",
       "     Gastos_Com_Saude  Hepatite_B  Sarampo  ...  Cobertura_Polio  \\\n",
       "112           0.00000        93.0       74  ...             93.0   \n",
       "113       10769.36305        91.0      340  ...             92.0   \n",
       "114       11734.85381        91.0      158  ...             91.0   \n",
       "\n",
       "     Relacao_GastosSaude/despesasTotais  Cobertura_Difeteria  \\\n",
       "112                            8.836667                 93.0   \n",
       "113                            9.420000                 92.0   \n",
       "114                            9.360000                 91.0   \n",
       "\n",
       "     Mortes_criancas_0-4a_Hiv_aids         PIB   Populacao  Magreza_1-19anos  \\\n",
       "112                            0.1  56554.3876  23789338.0               0.6   \n",
       "113                            0.1  62214.6912   2346694.0               0.6   \n",
       "114                            0.1  67792.3386  23117353.0               0.6   \n",
       "\n",
       "     Magreza_5-9anos    IDH  Anos_de_Escolaridade  \n",
       "112              0.6  0.937                  20.4  \n",
       "113              0.6  0.936                  20.4  \n",
       "114              0.6  0.933                  20.3  \n",
       "\n",
       "[3 rows x 22 columns]"
      ]
     },
     "execution_count": 4,
     "metadata": {},
     "output_type": "execute_result"
    }
   ],
   "source": [
    "df_des = df_completo[df_completo['Classificacao']=='Developed']\n",
    "df_des.head(3)"
   ]
  },
  {
   "cell_type": "code",
   "execution_count": 5,
   "metadata": {},
   "outputs": [
    {
     "data": {
      "text/html": [
       "<div>\n",
       "<style scoped>\n",
       "    .dataframe tbody tr th:only-of-type {\n",
       "        vertical-align: middle;\n",
       "    }\n",
       "\n",
       "    .dataframe tbody tr th {\n",
       "        vertical-align: top;\n",
       "    }\n",
       "\n",
       "    .dataframe thead th {\n",
       "        text-align: right;\n",
       "    }\n",
       "</style>\n",
       "<table border=\"1\" class=\"dataframe\">\n",
       "  <thead>\n",
       "    <tr style=\"text-align: right;\">\n",
       "      <th></th>\n",
       "      <th>PaIs</th>\n",
       "      <th>Ano</th>\n",
       "      <th>Classificacao</th>\n",
       "      <th>Expectativa_de_Vida</th>\n",
       "      <th>Taxa_Mortalidade_Adulto</th>\n",
       "      <th>Numero_Obito_Infantil</th>\n",
       "      <th>Consumo_Alcool</th>\n",
       "      <th>Gastos_Com_Saude</th>\n",
       "      <th>Hepatite_B</th>\n",
       "      <th>Sarampo</th>\n",
       "      <th>...</th>\n",
       "      <th>Cobertura_Polio</th>\n",
       "      <th>Relacao_GastosSaude/despesasTotais</th>\n",
       "      <th>Cobertura_Difeteria</th>\n",
       "      <th>Mortes_criancas_0-4a_Hiv_aids</th>\n",
       "      <th>PIB</th>\n",
       "      <th>Populacao</th>\n",
       "      <th>Magreza_1-19anos</th>\n",
       "      <th>Magreza_5-9anos</th>\n",
       "      <th>IDH</th>\n",
       "      <th>Anos_de_Escolaridade</th>\n",
       "    </tr>\n",
       "  </thead>\n",
       "  <tbody>\n",
       "    <tr>\n",
       "      <th>0</th>\n",
       "      <td>Afghanistan</td>\n",
       "      <td>2015</td>\n",
       "      <td>Developing</td>\n",
       "      <td>65.0</td>\n",
       "      <td>263.0</td>\n",
       "      <td>62</td>\n",
       "      <td>0.01</td>\n",
       "      <td>71.279624</td>\n",
       "      <td>65.0</td>\n",
       "      <td>1154</td>\n",
       "      <td>...</td>\n",
       "      <td>6.0</td>\n",
       "      <td>8.16</td>\n",
       "      <td>65.0</td>\n",
       "      <td>0.1</td>\n",
       "      <td>584.259210</td>\n",
       "      <td>33736494.0</td>\n",
       "      <td>17.2</td>\n",
       "      <td>17.3</td>\n",
       "      <td>0.479</td>\n",
       "      <td>10.1</td>\n",
       "    </tr>\n",
       "    <tr>\n",
       "      <th>1</th>\n",
       "      <td>Afghanistan</td>\n",
       "      <td>2014</td>\n",
       "      <td>Developing</td>\n",
       "      <td>59.9</td>\n",
       "      <td>271.0</td>\n",
       "      <td>64</td>\n",
       "      <td>0.01</td>\n",
       "      <td>73.523582</td>\n",
       "      <td>62.0</td>\n",
       "      <td>492</td>\n",
       "      <td>...</td>\n",
       "      <td>58.0</td>\n",
       "      <td>8.18</td>\n",
       "      <td>62.0</td>\n",
       "      <td>0.1</td>\n",
       "      <td>612.696514</td>\n",
       "      <td>327582.0</td>\n",
       "      <td>17.5</td>\n",
       "      <td>17.5</td>\n",
       "      <td>0.476</td>\n",
       "      <td>10.0</td>\n",
       "    </tr>\n",
       "    <tr>\n",
       "      <th>2</th>\n",
       "      <td>Afghanistan</td>\n",
       "      <td>2013</td>\n",
       "      <td>Developing</td>\n",
       "      <td>59.9</td>\n",
       "      <td>268.0</td>\n",
       "      <td>66</td>\n",
       "      <td>0.01</td>\n",
       "      <td>73.219243</td>\n",
       "      <td>64.0</td>\n",
       "      <td>430</td>\n",
       "      <td>...</td>\n",
       "      <td>62.0</td>\n",
       "      <td>8.13</td>\n",
       "      <td>64.0</td>\n",
       "      <td>0.1</td>\n",
       "      <td>631.744976</td>\n",
       "      <td>31731688.0</td>\n",
       "      <td>17.7</td>\n",
       "      <td>17.7</td>\n",
       "      <td>0.470</td>\n",
       "      <td>9.9</td>\n",
       "    </tr>\n",
       "  </tbody>\n",
       "</table>\n",
       "<p>3 rows × 22 columns</p>\n",
       "</div>"
      ],
      "text/plain": [
       "          PaIs   Ano Classificacao  Expectativa_de_Vida  \\\n",
       "0  Afghanistan  2015    Developing                 65.0   \n",
       "1  Afghanistan  2014    Developing                 59.9   \n",
       "2  Afghanistan  2013    Developing                 59.9   \n",
       "\n",
       "   Taxa_Mortalidade_Adulto  Numero_Obito_Infantil  Consumo_Alcool  \\\n",
       "0                    263.0                     62            0.01   \n",
       "1                    271.0                     64            0.01   \n",
       "2                    268.0                     66            0.01   \n",
       "\n",
       "   Gastos_Com_Saude  Hepatite_B  Sarampo  ...  Cobertura_Polio  \\\n",
       "0         71.279624        65.0     1154  ...              6.0   \n",
       "1         73.523582        62.0      492  ...             58.0   \n",
       "2         73.219243        64.0      430  ...             62.0   \n",
       "\n",
       "   Relacao_GastosSaude/despesasTotais  Cobertura_Difeteria  \\\n",
       "0                                8.16                 65.0   \n",
       "1                                8.18                 62.0   \n",
       "2                                8.13                 64.0   \n",
       "\n",
       "   Mortes_criancas_0-4a_Hiv_aids         PIB   Populacao  Magreza_1-19anos  \\\n",
       "0                            0.1  584.259210  33736494.0              17.2   \n",
       "1                            0.1  612.696514    327582.0              17.5   \n",
       "2                            0.1  631.744976  31731688.0              17.7   \n",
       "\n",
       "   Magreza_5-9anos    IDH  Anos_de_Escolaridade  \n",
       "0             17.3  0.479                  10.1  \n",
       "1             17.5  0.476                  10.0  \n",
       "2             17.7  0.470                   9.9  \n",
       "\n",
       "[3 rows x 22 columns]"
      ]
     },
     "execution_count": 5,
     "metadata": {},
     "output_type": "execute_result"
    }
   ],
   "source": [
    "df_emdes = df_completo[df_completo['Classificacao']=='Developing']\n",
    "df_emdes.head(3)"
   ]
  },
  {
   "cell_type": "code",
   "execution_count": 6,
   "metadata": {},
   "outputs": [
    {
     "name": "stdout",
     "output_type": "stream",
     "text": [
      "(2928, 22)\n",
      "(512, 22)\n",
      "(2416, 22)\n"
     ]
    }
   ],
   "source": [
    "print(df_completo.shape)\n",
    "print (df_des.shape)\n",
    "print (df_emdes.shape)"
   ]
  },
  {
   "cell_type": "code",
   "execution_count": 7,
   "metadata": {},
   "outputs": [],
   "source": [
    "def preparacao(def_model):\n",
    "   df_model = def_model.drop(columns=['PaIs','Ano'])\n",
    "   df_model = pd.get_dummies(df_model,columns=['Classificacao'])\n",
    "   x = df_model.drop(columns='Expectativa_de_Vida')\n",
    "   y = df_model.Expectativa_de_Vida\n",
    "   return x , y"
   ]
  },
  {
   "cell_type": "code",
   "execution_count": 8,
   "metadata": {},
   "outputs": [],
   "source": [
    "def treino_teste (X,Y):\n",
    "    X_train, X_test, Y_train, Y_test = train_test_split(X, Y, test_size=0.2, random_state=20) \n",
    "    return X_train, X_test, Y_train, Y_test"
   ]
  },
  {
   "cell_type": "code",
   "execution_count": 9,
   "metadata": {},
   "outputs": [],
   "source": [
    "def normalizacao(X_train, X_test):\n",
    "    scaler = StandardScaler()\n",
    "    scaler_fit = scaler.fit(X_train)\n",
    "    X_train_norm = scaler_fit.transform(X_train)\n",
    "    X_train_dfnorm = pd.DataFrame(X_train_norm,columns=X_train.columns)\n",
    "    X_test_norm = scaler_fit.transform(X_test)\n",
    "    X_test_dfnorm = pd.DataFrame(X_test_norm,columns=X_train.columns)\n",
    "    return X_train_norm , X_train_dfnorm , X_test_norm , X_test_dfnorm, scaler_fit"
   ]
  },
  {
   "cell_type": "code",
   "execution_count": 10,
   "metadata": {},
   "outputs": [],
   "source": [
    "def selecao(X_train , X_test , Y_train , Y_test): \n",
    "    X_rank = pd.concat([X_train, X_test])\n",
    "    Y_rank = pd.concat([Y_train, Y_test])\n",
    "    for model in [DummyRegressor,SVR,DecisionTreeRegressor,RandomForestRegressor,GradientBoostingRegressor,MLPRegressor]:\n",
    "      cls = model()\n",
    "      kfold = KFold(n_splits=10,shuffle=True, random_state=20 )\n",
    "      s = cross_val_score(cls, X_rank, Y_rank, scoring=\"neg_mean_squared_error\", cv=kfold)\n",
    "      print(f\"{model.__name__:22} MSE: \"f\"{s.mean():.3f} STD: {s.std():.2f}\")"
   ]
  },
  {
   "cell_type": "code",
   "execution_count": 11,
   "metadata": {},
   "outputs": [],
   "source": [
    "def modelo (x_train , y_train):\n",
    "   param_grid = {\n",
    "    'bootstrap': [True],\n",
    "    'max_depth': [20],\n",
    "    'max_features': [0.4],\n",
    "    'min_samples_leaf': [1],\n",
    "    'min_samples_split': [2,3],\n",
    "    'n_estimators': [20,700,800],\n",
    "    'random_state': [20],\n",
    "   }\n",
    "   rf = RandomForestRegressor()\n",
    "   grid_search = GridSearchCV(estimator = rf, param_grid = param_grid, \n",
    "                           cv = 10, n_jobs = -1, verbose = 3,scoring='neg_mean_squared_error',return_train_score=True)\n",
    "   grid_search.fit(x_train, y_train)\n",
    "   return grid_search"
   ]
  },
  {
   "cell_type": "code",
   "execution_count": 12,
   "metadata": {},
   "outputs": [],
   "source": [
    "def metrica(y_test,x_test,model):\n",
    "    metrica = mean_squared_error(y_test,model.predict(x_test),squared=False)\n",
    "    return metrica"
   ]
  },
  {
   "cell_type": "code",
   "execution_count": 13,
   "metadata": {},
   "outputs": [],
   "source": [
    "def importante (x_train,feature):\n",
    "   var_importante = []\n",
    "   for col, val in sorted(zip(x_train.columns,feature),  key=lambda x: x[1],reverse=True)[:5]: # explicar código\n",
    "      var_importante.append( f\"{col:10}{val:10.3f}\")\n",
    "   return var_importante"
   ]
  },
  {
   "cell_type": "code",
   "execution_count": 14,
   "metadata": {},
   "outputs": [],
   "source": [
    "def completo(X,modelo):\n",
    "    scaler = StandardScaler()\n",
    "    X_completo = scaler.fit_transform(X)\n",
    "    yhat = modelo.predict(X_completo)\n",
    "    return yhat , X_completo"
   ]
  },
  {
   "cell_type": "code",
   "execution_count": 15,
   "metadata": {},
   "outputs": [],
   "source": [
    "# Preparação dos 3 dataframes\n",
    "x_full , y_full = preparacao (df_completo)\n",
    "x_des , y_des = preparacao (df_des)\n",
    "x_emdes , y_emdes = preparacao (df_emdes)"
   ]
  },
  {
   "cell_type": "code",
   "execution_count": 16,
   "metadata": {},
   "outputs": [
    {
     "name": "stdout",
     "output_type": "stream",
     "text": [
      "(2342, 20)\n",
      "(409, 19)\n",
      "(1932, 19)\n"
     ]
    }
   ],
   "source": [
    "X_train_full, X_test_full, Y_train_full, Y_test_full = treino_teste (x_full , y_full)\n",
    "X_train_des, X_test_des, Y_train_des, Y_test_des = treino_teste (x_des , y_des)\n",
    "X_train_emdes, X_test_emdes, Y_train_emdes, Y_test_emdes = treino_teste (x_emdes , y_emdes)\n",
    "print(X_train_full.shape)\n",
    "print (X_train_des.shape)\n",
    "print (X_train_emdes.shape)"
   ]
  },
  {
   "cell_type": "code",
   "execution_count": 44,
   "metadata": {},
   "outputs": [
    {
     "data": {
      "text/plain": [
       "Text(0.5, 1.0, 'Distribuição de Dados de Treinamento por Dataframe')"
      ]
     },
     "execution_count": 44,
     "metadata": {},
     "output_type": "execute_result"
    },
    {
     "data": {
      "image/png": "[encoded data removed]",
      "text/plain": [
       "<Figure size 1000x800 with 1 Axes>"
      ]
     },
     "metadata": {},
     "output_type": "display_data"
    }
   ],
   "source": [
    "fig, ax = plt.subplots (figsize=(10,8))\n",
    "tamanho = [ X_train_full.shape[0],X_train_emdes.shape[0],X_train_des.shape[0]]\n",
    "dataframe = ['Completo','Em desenvolvimento', 'Desenvolvido']\n",
    "ax1 = ax.bar (dataframe, tamanho, width=-0.4)\n",
    "ax.bar_label(ax1, fmt=\"%.0f\", size=10)\n",
    "plt.ylabel('Quantidade de Dados')\n",
    "plt.xlabel('Grupo de Países')\n",
    "plt.title('Distribuição de Dados de Treinamento por Dataframe')"
   ]
  },
  {
   "cell_type": "code",
   "execution_count": 31,
   "metadata": {},
   "outputs": [],
   "source": [
    "X_train_norm_full , X_train_dfnorm_full , X_test_norm_full , X_test_dfnorm_full, scaler_full = normalizacao(X_train_full, X_test_full)\n",
    "X_train_norm_des , X_train_dfnorm_des , X_test_norm_des , X_test_dfnorm_des,scaler_full = normalizacao(X_train_des, X_test_des)\n",
    "X_train_norm_emdes, X_train_dfnorm_emdes, X_test_norm_emdes, X_test_dfnorm_emdes,scaler_full = normalizacao(X_train_emdes, X_test_emdes)"
   ]
  },
  {
   "cell_type": "code",
   "execution_count": 32,
   "metadata": {},
   "outputs": [
    {
     "name": "stdout",
     "output_type": "stream",
     "text": [
      "Dataset todos os países:\n",
      "DummyRegressor         AUC: -9.523 STD: 0.27\n",
      "SVR                    AUC: -3.451 STD: 0.22\n",
      "DecisionTreeRegressor  AUC: -2.612 STD: 0.19\n",
      "RandomForestRegressor  AUC: -1.776 STD: 0.16\n",
      "GradientBoostingRegressor AUC: -2.231 STD: 0.15\n",
      "MLPRegressor           AUC: -3.858 STD: 0.23\n",
      " Dataset países desenvolvidos:\n",
      "DummyRegressor         AUC: -3.911 STD: 0.39\n",
      "SVR                    AUC: -2.294 STD: 0.31\n",
      "DecisionTreeRegressor  AUC: -2.474 STD: 0.52\n",
      "RandomForestRegressor  AUC: -1.710 STD: 0.24\n",
      "GradientBoostingRegressor AUC: -1.856 STD: 0.22\n",
      "MLPRegressor           AUC: -20.035 STD: 1.38\n",
      " Dataset países em desenvolvimento:\n",
      "DummyRegressor         AUC: -9.008 STD: 0.19\n",
      "SVR                    AUC: -3.595 STD: 0.22\n",
      "DecisionTreeRegressor  AUC: -2.589 STD: 0.24\n",
      "RandomForestRegressor  AUC: -1.820 STD: 0.18\n",
      "GradientBoostingRegressor AUC: -2.223 STD: 0.17\n",
      "MLPRegressor           AUC: -5.848 STD: 0.16\n"
     ]
    }
   ],
   "source": [
    "# Seleção dos melhores modelos configurado como padrão.\n",
    "print(\"Dataset todos os países:\")\n",
    "selecao (X_train_dfnorm_full , X_test_dfnorm_full, Y_train_full, Y_test_full)\n",
    "print(f\" Dataset países desenvolvidos:\")\n",
    "selecao (X_train_dfnorm_des, X_test_dfnorm_des,Y_train_des, Y_test_des)\n",
    "print(f\" Dataset países em desenvolvimento:\")\n",
    "selecao(X_train_dfnorm_emdes, X_test_dfnorm_emdes,Y_train_emdes, Y_test_emdes)"
   ]
  },
  {
   "cell_type": "code",
   "execution_count": 33,
   "metadata": {},
   "outputs": [
    {
     "name": "stdout",
     "output_type": "stream",
     "text": [
      "Fitting 10 folds for each of 6 candidates, totalling 60 fits\n",
      "Fitting 10 folds for each of 6 candidates, totalling 60 fits\n",
      "Fitting 10 folds for each of 6 candidates, totalling 60 fits\n"
     ]
    }
   ],
   "source": [
    "modelo_full = modelo (X_train_dfnorm_full,Y_train_full)\n",
    "modelo_des = modelo (X_train_dfnorm_des,Y_train_des)\n",
    "modelo_emdes = modelo (X_train_dfnorm_emdes,Y_train_emdes)"
   ]
  },
  {
   "cell_type": "code",
   "execution_count": 34,
   "metadata": {},
   "outputs": [
    {
     "name": "stdout",
     "output_type": "stream",
     "text": [
      "Melhores parâmetros dataset todos os países: \n",
      " {'bootstrap': True, 'max_depth': 20, 'max_features': 0.4, 'min_samples_leaf': 1, 'min_samples_split': 3, 'n_estimators': 800, 'random_state': 20}\n",
      "Melhores parâmetros dataset países desenvolvidos: \n",
      " {'bootstrap': True, 'max_depth': 20, 'max_features': 0.4, 'min_samples_leaf': 1, 'min_samples_split': 2, 'n_estimators': 800, 'random_state': 20}\n",
      "Melhores parâmetros dataset países emdesenvolvimento: \n",
      " {'bootstrap': True, 'max_depth': 20, 'max_features': 0.4, 'min_samples_leaf': 1, 'min_samples_split': 2, 'n_estimators': 800, 'random_state': 20}\n"
     ]
    }
   ],
   "source": [
    "print ('Melhores parâmetros dataset todos os países: \\n', modelo_full.best_params_)\n",
    "print('Melhores parâmetros dataset países desenvolvidos: \\n' ,modelo_des.best_params_)\n",
    "print('Melhores parâmetros dataset países emdesenvolvimento: \\n' ,modelo_emdes.best_params_)"
   ]
  },
  {
   "cell_type": "code",
   "execution_count": null,
   "metadata": {},
   "outputs": [],
   "source": [
    "modelo_full.best_index_"
   ]
  },
  {
   "cell_type": "code",
   "execution_count": 35,
   "metadata": {},
   "outputs": [
    {
     "data": {
      "text/plain": [
       "{'mean_fit_time': array([ 0.63645184, 27.53164496, 30.82388957,  0.79529696, 24.68954623,\n",
       "        25.22430112]),\n",
       " 'std_fit_time': array([0.06449649, 3.14776034, 2.75555432, 0.07061297, 2.5540562 ,\n",
       "        2.55174232]),\n",
       " 'mean_score_time': array([0.01146843, 0.25509417, 0.22530015, 0.00960219, 0.19603732,\n",
       "        0.17491026]),\n",
       " 'std_score_time': array([0.00682094, 0.08513767, 0.02912791, 0.0034113 , 0.05251136,\n",
       "        0.04796205]),\n",
       " 'param_bootstrap': masked_array(data=[True, True, True, True, True, True],\n",
       "              mask=[False, False, False, False, False, False],\n",
       "        fill_value='?',\n",
       "             dtype=object),\n",
       " 'param_max_depth': masked_array(data=[20, 20, 20, 20, 20, 20],\n",
       "              mask=[False, False, False, False, False, False],\n",
       "        fill_value='?',\n",
       "             dtype=object),\n",
       " 'param_max_features': masked_array(data=[0.4, 0.4, 0.4, 0.4, 0.4, 0.4],\n",
       "              mask=[False, False, False, False, False, False],\n",
       "        fill_value='?',\n",
       "             dtype=object),\n",
       " 'param_min_samples_leaf': masked_array(data=[1, 1, 1, 1, 1, 1],\n",
       "              mask=[False, False, False, False, False, False],\n",
       "        fill_value='?',\n",
       "             dtype=object),\n",
       " 'param_min_samples_split': masked_array(data=[2, 2, 2, 3, 3, 3],\n",
       "              mask=[False, False, False, False, False, False],\n",
       "        fill_value='?',\n",
       "             dtype=object),\n",
       " 'param_n_estimators': masked_array(data=[20, 700, 800, 20, 700, 800],\n",
       "              mask=[False, False, False, False, False, False],\n",
       "        fill_value='?',\n",
       "             dtype=object),\n",
       " 'param_random_state': masked_array(data=[20, 20, 20, 20, 20, 20],\n",
       "              mask=[False, False, False, False, False, False],\n",
       "        fill_value='?',\n",
       "             dtype=object),\n",
       " 'params': [{'bootstrap': True,\n",
       "   'max_depth': 20,\n",
       "   'max_features': 0.4,\n",
       "   'min_samples_leaf': 1,\n",
       "   'min_samples_split': 2,\n",
       "   'n_estimators': 20,\n",
       "   'random_state': 20},\n",
       "  {'bootstrap': True,\n",
       "   'max_depth': 20,\n",
       "   'max_features': 0.4,\n",
       "   'min_samples_leaf': 1,\n",
       "   'min_samples_split': 2,\n",
       "   'n_estimators': 700,\n",
       "   'random_state': 20},\n",
       "  {'bootstrap': True,\n",
       "   'max_depth': 20,\n",
       "   'max_features': 0.4,\n",
       "   'min_samples_leaf': 1,\n",
       "   'min_samples_split': 2,\n",
       "   'n_estimators': 800,\n",
       "   'random_state': 20},\n",
       "  {'bootstrap': True,\n",
       "   'max_depth': 20,\n",
       "   'max_features': 0.4,\n",
       "   'min_samples_leaf': 1,\n",
       "   'min_samples_split': 3,\n",
       "   'n_estimators': 20,\n",
       "   'random_state': 20},\n",
       "  {'bootstrap': True,\n",
       "   'max_depth': 20,\n",
       "   'max_features': 0.4,\n",
       "   'min_samples_leaf': 1,\n",
       "   'min_samples_split': 3,\n",
       "   'n_estimators': 700,\n",
       "   'random_state': 20},\n",
       "  {'bootstrap': True,\n",
       "   'max_depth': 20,\n",
       "   'max_features': 0.4,\n",
       "   'min_samples_leaf': 1,\n",
       "   'min_samples_split': 3,\n",
       "   'n_estimators': 800,\n",
       "   'random_state': 20}],\n",
       " 'split0_test_score': array([-4.843077  , -4.16549134, -4.15405713, -4.32116712, -4.15798532,\n",
       "        -4.17541826]),\n",
       " 'split1_test_score': array([-4.37213262, -4.16196153, -4.15700815, -4.46036959, -4.09996261,\n",
       "        -4.10363037]),\n",
       " 'split2_test_score': array([-3.9223846 , -3.54971818, -3.54185397, -3.68349603, -3.48085098,\n",
       "        -3.47742384]),\n",
       " 'split3_test_score': array([-3.26642756, -3.06857913, -3.06156585, -3.25755799, -3.07470854,\n",
       "        -3.06024824]),\n",
       " 'split4_test_score': array([-3.38817255, -3.14278165, -3.11961956, -3.41468737, -3.14472566,\n",
       "        -3.13258491]),\n",
       " 'split5_test_score': array([-3.88153648, -3.64053751, -3.63721821, -4.12942931, -3.58179495,\n",
       "        -3.59735733]),\n",
       " 'split6_test_score': array([-4.23849013, -3.65398691, -3.65501248, -3.94765306, -3.64363115,\n",
       "        -3.64218675]),\n",
       " 'split7_test_score': array([-3.22957793, -2.70325736, -2.68196175, -2.87817285, -2.66462648,\n",
       "        -2.65873435]),\n",
       " 'split8_test_score': array([-2.94660003, -2.60841626, -2.59927869, -3.07713152, -2.63555435,\n",
       "        -2.64629751]),\n",
       " 'split9_test_score': array([-4.06869368, -3.88182948, -3.84705314, -4.34532091, -3.91457538,\n",
       "        -3.88534928]),\n",
       " 'mean_test_score': array([-3.81570926, -3.45765593, -3.44546289, -3.75149857, -3.43984154,\n",
       "        -3.43792308]),\n",
       " 'std_test_score': array([0.5662992 , 0.52899143, 0.53029822, 0.54226061, 0.52043031,\n",
       "        0.5220761 ]),\n",
       " 'rank_test_score': array([6, 4, 3, 5, 2, 1]),\n",
       " 'split0_train_score': array([-0.60634905, -0.46333772, -0.46247508, -0.62977488, -0.51795044,\n",
       "        -0.5172692 ]),\n",
       " 'split1_train_score': array([-0.61484517, -0.45447653, -0.45288354, -0.64522704, -0.49981739,\n",
       "        -0.50010239]),\n",
       " 'split2_train_score': array([-0.65707087, -0.47297284, -0.46905359, -0.70597579, -0.52969173,\n",
       "        -0.52688976]),\n",
       " 'split3_train_score': array([-0.66375507, -0.47873757, -0.47778861, -0.7360802 , -0.53180682,\n",
       "        -0.5306639 ]),\n",
       " 'split4_train_score': array([-0.68058659, -0.47975607, -0.47975484, -0.74604276, -0.53921796,\n",
       "        -0.53792083]),\n",
       " 'split5_train_score': array([-0.65950305, -0.47210864, -0.4697218 , -0.66374078, -0.5241314 ,\n",
       "        -0.52333738]),\n",
       " 'split6_train_score': array([-0.64881853, -0.48212734, -0.48024029, -0.68154155, -0.53539728,\n",
       "        -0.53388261]),\n",
       " 'split7_train_score': array([-0.68048139, -0.4910547 , -0.49185097, -0.73071632, -0.54361702,\n",
       "        -0.54405521]),\n",
       " 'split8_train_score': array([-0.65618382, -0.4904994 , -0.49039894, -0.73375083, -0.54252948,\n",
       "        -0.54160941]),\n",
       " 'split9_train_score': array([-0.60174438, -0.4658344 , -0.46499137, -0.67872832, -0.51722989,\n",
       "        -0.51637082]),\n",
       " 'mean_train_score': array([-0.64693379, -0.47509052, -0.4739159 , -0.69515785, -0.52813894,\n",
       "        -0.52721015]),\n",
       " 'std_train_score': array([0.0275856 , 0.011131  , 0.01173277, 0.03917288, 0.01295737,\n",
       "        0.0127613 ])}"
      ]
     },
     "execution_count": 35,
     "metadata": {},
     "output_type": "execute_result"
    }
   ],
   "source": [
    "modelo_full.cv_results_"
   ]
  },
  {
   "cell_type": "code",
   "execution_count": 52,
   "metadata": {},
   "outputs": [
    {
     "name": "stdout",
     "output_type": "stream",
     "text": [
      "Melhor pontuação para dataset de validação todos os países: \n",
      " 3.43792308441983\n",
      "Melhor pontuação para dataset de validação países desenvolvidos: \n",
      " 3.121364981981749\n",
      "Melhor pontuação para dataset de validação países em desenvolvimento: \n",
      " 3.254374366112154\n"
     ]
    }
   ],
   "source": [
    "print ('Melhor pontuação para dataset de validação todos os países: \\n', abs(modelo_full.best_score_))\n",
    "print('Melhor pontuação para dataset de validação países desenvolvidos: \\n', abs(modelo_des.best_score_))\n",
    "print('Melhor pontuação para dataset de validação países em desenvolvimento: \\n', abs(modelo_emdes.best_score_))"
   ]
  },
  {
   "cell_type": "code",
   "execution_count": 53,
   "metadata": {},
   "outputs": [],
   "source": [
    "metrica_full = metrica (Y_test_full,X_test_norm_full,modelo_full)\n",
    "metrica_des = metrica (Y_test_des,X_test_norm_des,modelo_des)\n",
    "metrica_emdes = metrica (Y_test_emdes,X_test_norm_emdes,modelo_emdes)"
   ]
  },
  {
   "cell_type": "code",
   "execution_count": 54,
   "metadata": {},
   "outputs": [
    {
     "name": "stdout",
     "output_type": "stream",
     "text": [
      "Erro médio quadrático dataset todos os países: \n",
      " 1.6772599333335565\n",
      "Erro médio quadrático países desenvolvidos: \n",
      " 2.053013300323541\n",
      "Erro médio quadrático países em desenvolvimento: \n",
      " 1.8969898397950706\n"
     ]
    }
   ],
   "source": [
    "print ('Erro médio quadrático dataset todos os países: \\n', metrica_full)\n",
    "print('Erro médio quadrático países desenvolvidos: \\n', metrica_des)\n",
    "print('Erro médio quadrático países em desenvolvimento: \\n', metrica_emdes)"
   ]
  },
  {
   "cell_type": "code",
   "execution_count": 55,
   "metadata": {},
   "outputs": [],
   "source": [
    "yhat_completo_full, X_completo_full = completo(x_full, modelo_full)\n",
    "yhat_completo_des, X_completo_des = completo(x_des, modelo_des)\n",
    "yhat_completo_emdes, X_completo_emdes = completo(x_emdes, modelo_emdes)"
   ]
  },
  {
   "cell_type": "code",
   "execution_count": 56,
   "metadata": {},
   "outputs": [
    {
     "data": {
      "text/html": [
       "<div>\n",
       "<style scoped>\n",
       "    .dataframe tbody tr th:only-of-type {\n",
       "        vertical-align: middle;\n",
       "    }\n",
       "\n",
       "    .dataframe tbody tr th {\n",
       "        vertical-align: top;\n",
       "    }\n",
       "\n",
       "    .dataframe thead th {\n",
       "        text-align: right;\n",
       "    }\n",
       "</style>\n",
       "<table border=\"1\" class=\"dataframe\">\n",
       "  <thead>\n",
       "    <tr style=\"text-align: right;\">\n",
       "      <th></th>\n",
       "      <th>PaIs</th>\n",
       "      <th>Ano</th>\n",
       "      <th>Classificacao</th>\n",
       "      <th>Expectativa_Vida_real</th>\n",
       "      <th>Expectativa_Vida_previsto</th>\n",
       "      <th>Erro</th>\n",
       "    </tr>\n",
       "  </thead>\n",
       "  <tbody>\n",
       "    <tr>\n",
       "      <th>0</th>\n",
       "      <td>Afghanistan</td>\n",
       "      <td>2015</td>\n",
       "      <td>Developing</td>\n",
       "      <td>65.0</td>\n",
       "      <td>63.348404</td>\n",
       "      <td>1.651596</td>\n",
       "    </tr>\n",
       "    <tr>\n",
       "      <th>1</th>\n",
       "      <td>Afghanistan</td>\n",
       "      <td>2014</td>\n",
       "      <td>Developing</td>\n",
       "      <td>59.9</td>\n",
       "      <td>59.922781</td>\n",
       "      <td>-0.022781</td>\n",
       "    </tr>\n",
       "    <tr>\n",
       "      <th>2</th>\n",
       "      <td>Afghanistan</td>\n",
       "      <td>2013</td>\n",
       "      <td>Developing</td>\n",
       "      <td>59.9</td>\n",
       "      <td>60.171883</td>\n",
       "      <td>-0.271883</td>\n",
       "    </tr>\n",
       "  </tbody>\n",
       "</table>\n",
       "</div>"
      ],
      "text/plain": [
       "          PaIs   Ano Classificacao  Expectativa_Vida_real  \\\n",
       "0  Afghanistan  2015    Developing                   65.0   \n",
       "1  Afghanistan  2014    Developing                   59.9   \n",
       "2  Afghanistan  2013    Developing                   59.9   \n",
       "\n",
       "   Expectativa_Vida_previsto      Erro  \n",
       "0                  63.348404  1.651596  \n",
       "1                  59.922781 -0.022781  \n",
       "2                  60.171883 -0.271883  "
      ]
     },
     "execution_count": 56,
     "metadata": {},
     "output_type": "execute_result"
    }
   ],
   "source": [
    "results_full = pd.DataFrame(zip(df_completo['PaIs'],df_completo['Ano'],df_completo['Classificacao'],y_full, yhat_completo_full, y_full - yhat_completo_full), columns = ['PaIs','Ano','Classificacao','Expectativa_Vida_real', 'Expectativa_Vida_previsto', 'Erro'])\n",
    "results_full.head(3)"
   ]
  },
  {
   "cell_type": "code",
   "execution_count": 57,
   "metadata": {},
   "outputs": [
    {
     "data": {
      "text/html": [
       "<div>\n",
       "<style scoped>\n",
       "    .dataframe tbody tr th:only-of-type {\n",
       "        vertical-align: middle;\n",
       "    }\n",
       "\n",
       "    .dataframe tbody tr th {\n",
       "        vertical-align: top;\n",
       "    }\n",
       "\n",
       "    .dataframe thead th {\n",
       "        text-align: right;\n",
       "    }\n",
       "</style>\n",
       "<table border=\"1\" class=\"dataframe\">\n",
       "  <thead>\n",
       "    <tr style=\"text-align: right;\">\n",
       "      <th></th>\n",
       "      <th>PaIs</th>\n",
       "      <th>Ano</th>\n",
       "      <th>Classificacao</th>\n",
       "      <th>Expectativa_Vida_real</th>\n",
       "      <th>Expectativa_Vida_previsto</th>\n",
       "      <th>Erro</th>\n",
       "    </tr>\n",
       "  </thead>\n",
       "  <tbody>\n",
       "    <tr>\n",
       "      <th>0</th>\n",
       "      <td>Australia</td>\n",
       "      <td>2015</td>\n",
       "      <td>Developed</td>\n",
       "      <td>82.8</td>\n",
       "      <td>82.898163</td>\n",
       "      <td>-0.098163</td>\n",
       "    </tr>\n",
       "    <tr>\n",
       "      <th>1</th>\n",
       "      <td>Australia</td>\n",
       "      <td>2014</td>\n",
       "      <td>Developed</td>\n",
       "      <td>82.7</td>\n",
       "      <td>82.716604</td>\n",
       "      <td>-0.016604</td>\n",
       "    </tr>\n",
       "    <tr>\n",
       "      <th>2</th>\n",
       "      <td>Australia</td>\n",
       "      <td>2013</td>\n",
       "      <td>Developed</td>\n",
       "      <td>82.5</td>\n",
       "      <td>82.637149</td>\n",
       "      <td>-0.137149</td>\n",
       "    </tr>\n",
       "  </tbody>\n",
       "</table>\n",
       "</div>"
      ],
      "text/plain": [
       "        PaIs   Ano Classificacao  Expectativa_Vida_real  \\\n",
       "0  Australia  2015     Developed                   82.8   \n",
       "1  Australia  2014     Developed                   82.7   \n",
       "2  Australia  2013     Developed                   82.5   \n",
       "\n",
       "   Expectativa_Vida_previsto      Erro  \n",
       "0                  82.898163 -0.098163  \n",
       "1                  82.716604 -0.016604  \n",
       "2                  82.637149 -0.137149  "
      ]
     },
     "execution_count": 57,
     "metadata": {},
     "output_type": "execute_result"
    }
   ],
   "source": [
    "results_des = pd.DataFrame(zip(df_des['PaIs'],df_des['Ano'],df_des['Classificacao'],y_des, yhat_completo_des, y_des - yhat_completo_des), columns = ['PaIs','Ano','Classificacao','Expectativa_Vida_real', 'Expectativa_Vida_previsto', 'Erro'])\n",
    "results_des.head(3)"
   ]
  },
  {
   "cell_type": "code",
   "execution_count": 58,
   "metadata": {},
   "outputs": [
    {
     "data": {
      "text/html": [
       "<div>\n",
       "<style scoped>\n",
       "    .dataframe tbody tr th:only-of-type {\n",
       "        vertical-align: middle;\n",
       "    }\n",
       "\n",
       "    .dataframe tbody tr th {\n",
       "        vertical-align: top;\n",
       "    }\n",
       "\n",
       "    .dataframe thead th {\n",
       "        text-align: right;\n",
       "    }\n",
       "</style>\n",
       "<table border=\"1\" class=\"dataframe\">\n",
       "  <thead>\n",
       "    <tr style=\"text-align: right;\">\n",
       "      <th></th>\n",
       "      <th>PaIs</th>\n",
       "      <th>Ano</th>\n",
       "      <th>Classificacao</th>\n",
       "      <th>Expectativa_Vida_real</th>\n",
       "      <th>Expectativa_Vida_previsto</th>\n",
       "      <th>Erro</th>\n",
       "    </tr>\n",
       "  </thead>\n",
       "  <tbody>\n",
       "    <tr>\n",
       "      <th>0</th>\n",
       "      <td>Afghanistan</td>\n",
       "      <td>2015</td>\n",
       "      <td>Developing</td>\n",
       "      <td>65.0</td>\n",
       "      <td>63.398750</td>\n",
       "      <td>1.601250</td>\n",
       "    </tr>\n",
       "    <tr>\n",
       "      <th>1</th>\n",
       "      <td>Afghanistan</td>\n",
       "      <td>2014</td>\n",
       "      <td>Developing</td>\n",
       "      <td>59.9</td>\n",
       "      <td>60.160569</td>\n",
       "      <td>-0.260569</td>\n",
       "    </tr>\n",
       "    <tr>\n",
       "      <th>2</th>\n",
       "      <td>Afghanistan</td>\n",
       "      <td>2013</td>\n",
       "      <td>Developing</td>\n",
       "      <td>59.9</td>\n",
       "      <td>61.139875</td>\n",
       "      <td>-1.239875</td>\n",
       "    </tr>\n",
       "  </tbody>\n",
       "</table>\n",
       "</div>"
      ],
      "text/plain": [
       "          PaIs   Ano Classificacao  Expectativa_Vida_real  \\\n",
       "0  Afghanistan  2015    Developing                   65.0   \n",
       "1  Afghanistan  2014    Developing                   59.9   \n",
       "2  Afghanistan  2013    Developing                   59.9   \n",
       "\n",
       "   Expectativa_Vida_previsto      Erro  \n",
       "0                  63.398750  1.601250  \n",
       "1                  60.160569 -0.260569  \n",
       "2                  61.139875 -1.239875  "
      ]
     },
     "execution_count": 58,
     "metadata": {},
     "output_type": "execute_result"
    }
   ],
   "source": [
    "results_emdes = pd.DataFrame(zip(df_emdes['PaIs'],df_emdes['Ano'],df_emdes['Classificacao'],y_emdes, yhat_completo_emdes, y_emdes - yhat_completo_emdes), columns = ['PaIs','Ano','Classificacao','Expectativa_Vida_real', 'Expectativa_Vida_previsto', 'Erro'])\n",
    "results_emdes.head(3)"
   ]
  },
  {
   "cell_type": "code",
   "execution_count": 59,
   "metadata": {},
   "outputs": [
    {
     "data": {
      "text/plain": [
       "70.02440369371038"
      ]
     },
     "execution_count": 59,
     "metadata": {},
     "output_type": "execute_result"
    }
   ],
   "source": [
    "results_full_des = results_full[results_full['Classificacao']=='Developed']\n",
    "results_full_des['Erro'].abs().mean() "
   ]
  },
  {
   "cell_type": "code",
   "execution_count": 60,
   "metadata": {},
   "outputs": [
    {
     "data": {
      "text/plain": [
       "64.74750446748196"
      ]
     },
     "execution_count": 60,
     "metadata": {},
     "output_type": "execute_result"
    }
   ],
   "source": [
    "results_full_emdes = results_full[results_full['Classificacao']=='Developing']\n",
    "results_full_emdes['Erro'].abs().mean() # resultado anos"
   ]
  },
  {
   "cell_type": "code",
   "execution_count": 61,
   "metadata": {},
   "outputs": [
    {
     "data": {
      "text/plain": [
       "73.66944539277796"
      ]
     },
     "execution_count": 61,
     "metadata": {},
     "output_type": "execute_result"
    }
   ],
   "source": [
    "results_des['Erro'].abs().mean() "
   ]
  },
  {
   "cell_type": "code",
   "execution_count": 62,
   "metadata": {},
   "outputs": [
    {
     "data": {
      "text/plain": [
       "73.10441958651617"
      ]
     },
     "execution_count": 62,
     "metadata": {},
     "output_type": "execute_result"
    }
   ],
   "source": [
    "results_emdes['Erro'].abs().mean() "
   ]
  },
  {
   "cell_type": "code",
   "execution_count": 63,
   "metadata": {},
   "outputs": [],
   "source": [
    "#modelo_full.best_estimator_.feature_importances_\n",
    "importante_full_grid_search = importante (X_train_full,modelo_full.best_estimator_.feature_importances_)\n",
    "importante_des_grid_search = importante (X_train_des,modelo_des.best_estimator_.feature_importances_)\n",
    "importante_emdes_grid_search = importante (X_train_emdes,modelo_emdes.best_estimator_.feature_importances_)\n",
    "#importante_full, rf_full = importante (X_train_full,Y_train_full)\n",
    "#importante_des, rf_des = importante (X_train_des,Y_train_des)\n",
    "#importante_emdes, rf_emdes = importante (X_train_emdes,Y_train_emdes)"
   ]
  },
  {
   "cell_type": "code",
   "execution_count": 64,
   "metadata": {},
   "outputs": [
    {
     "data": {
      "text/plain": [
       "['Mortes_criancas_0-4a_Hiv_aids     0.315',\n",
       " 'IDH       0.236',\n",
       " 'Taxa_Mortalidade_Adulto     0.177',\n",
       " 'Anos_de_Escolaridade     0.097',\n",
       " 'Indice_Massa_Corporal     0.032']"
      ]
     },
     "execution_count": 64,
     "metadata": {},
     "output_type": "execute_result"
    }
   ],
   "source": [
    "importante_full_grid_search"
   ]
  },
  {
   "cell_type": "code",
   "execution_count": 65,
   "metadata": {},
   "outputs": [
    {
     "data": {
      "text/plain": [
       "['Taxa_Mortalidade_Adulto     0.283',\n",
       " 'IDH       0.197',\n",
       " 'Magreza_5-9anos     0.126',\n",
       " 'Magreza_1-19anos     0.093',\n",
       " 'Consumo_Alcool     0.054']"
      ]
     },
     "execution_count": 65,
     "metadata": {},
     "output_type": "execute_result"
    }
   ],
   "source": [
    "importante_des_grid_search"
   ]
  },
  {
   "cell_type": "code",
   "execution_count": 66,
   "metadata": {},
   "outputs": [
    {
     "data": {
      "text/plain": [
       "['Mortes_criancas_0-4a_Hiv_aids     0.333',\n",
       " 'Taxa_Mortalidade_Adulto     0.217',\n",
       " 'IDH       0.177',\n",
       " 'Anos_de_Escolaridade     0.073',\n",
       " 'Indice_Massa_Corporal     0.041']"
      ]
     },
     "execution_count": 66,
     "metadata": {},
     "output_type": "execute_result"
    }
   ],
   "source": [
    "importante_emdes_grid_search"
   ]
  },
  {
   "cell_type": "code",
   "execution_count": 67,
   "metadata": {},
   "outputs": [
    {
     "name": "stdout",
     "output_type": "stream",
     "text": [
      "Fitting 10 folds for each of 6 candidates, totalling 60 fits\n",
      "['Anos_de_Escolaridade    84.000', 'Consumo_Alcool    81.700', 'Numero_Obito_Infantil    81.400', 'Mortes_Menores_5anos    81.400', 'Cobertura_Polio    77.300']\n"
     ]
    }
   ],
   "source": [
    "# Testando influência de colinearidade\n",
    "df_model = df_completo.drop(columns=['PaIs','Ano'])\n",
    "df_model = pd.get_dummies(df_model,columns=['Classificacao'],drop_first=True)\n",
    "x = df_model.drop(columns='Expectativa_de_Vida')\n",
    "y = df_model.Expectativa_de_Vida\n",
    "X_train1, X_test1, Y_train1, Y_test1 = treino_teste (x , y)\n",
    "X_train_norm , X_train_dfnorm , X_test_norm , X_test_dfnorm, sc_full = normalizacao(X_train1, X_test1)\n",
    "modelo1 = modelo (X_train_norm,Y_train1)\n",
    "importante1 = importante (X_train1,modelo1.best_estimator_.feature_importances_)\n",
    "metrica1 = metrica (Y_test1,X_test_norm,modelo1)\n",
    "\n"
   ]
  },
  {
   "cell_type": "code",
   "execution_count": 69,
   "metadata": {},
   "outputs": [
    {
     "data": {
      "text/plain": [
       "['Mortes_criancas_0-4a_Hiv_aids     0.318',\n",
       " 'IDH       0.233',\n",
       " 'Taxa_Mortalidade_Adulto     0.168',\n",
       " 'Anos_de_Escolaridade     0.091',\n",
       " 'Indice_Massa_Corporal     0.034']"
      ]
     },
     "execution_count": 69,
     "metadata": {},
     "output_type": "execute_result"
    }
   ],
   "source": [
    "importante1 = importante (X_train1,modelo1.best_estimator_.feature_importances_)\n",
    "importante1"
   ]
  },
  {
   "cell_type": "code",
   "execution_count": 70,
   "metadata": {},
   "outputs": [
    {
     "data": {
      "text/plain": [
       "1.6794941305960391"
      ]
     },
     "execution_count": 70,
     "metadata": {},
     "output_type": "execute_result"
    }
   ],
   "source": [
    "metrica1"
   ]
  },
  {
   "cell_type": "code",
   "execution_count": 71,
   "metadata": {},
   "outputs": [],
   "source": [
    "X_test1_norm = sc_full.transform(X_test_emdes)\n",
    "#yhat = modelo1.predict(X_test1_norm)\n",
    "metrica_final = metrica (Y_test_emdes,X_test1_norm,modelo1)\n",
    "#Y_pred_full = modelo1.predict(X_test_norm_des)"
   ]
  },
  {
   "cell_type": "code",
   "execution_count": 72,
   "metadata": {},
   "outputs": [
    {
     "data": {
      "text/plain": [
       "1.0045227744433045"
      ]
     },
     "execution_count": 72,
     "metadata": {},
     "output_type": "execute_result"
    }
   ],
   "source": [
    "metrica_final"
   ]
  },
  {
   "cell_type": "code",
   "execution_count": 86,
   "metadata": {},
   "outputs": [
    {
     "name": "stdout",
     "output_type": "stream",
     "text": [
      "Fitting 10 folds for each of 6 candidates, totalling 60 fits\n",
      "['Mortes_criancas_0-4a_Hiv_aids     0.316', 'IDH       0.232', 'Taxa_Mortalidade_Adulto     0.169', 'Anos_de_Escolaridade     0.092', 'Indice_Massa_Corporal     0.035']\n"
     ]
    }
   ],
   "source": [
    "df_model1 = df_completo.drop(columns=['PaIs','Ano'])\n",
    "df_model1 = pd.get_dummies(df_model1,columns=['Classificacao'])\n",
    "x1 = df_model1.drop(columns=['Expectativa_de_Vida','Classificacao_Developing'])\n",
    "y1 = df_model1.Expectativa_de_Vida\n",
    "X_train2, X_test2, Y_train2, Y_test2 = treino_teste (x1 , y1)\n",
    "X_train_norm1 , X_train_dfnorm1 , X_test_norm1 , X_test_dfnorm1, sc_full = normalizacao(X_train2, X_test2)\n",
    "modelo2 = modelo (X_train_norm1,Y_train2)\n",
    "importante2 = importante (X_train2,modelo2.best_estimator_.feature_importances_)\n",
    "metrica2 = metrica (Y_test2,X_test_norm1,modelo2)\n",
    "print (importante2)"
   ]
  },
  {
   "cell_type": "code",
   "execution_count": 91,
   "metadata": {},
   "outputs": [
    {
     "data": {
      "text/plain": [
       "['Mortes_criancas_0-4a_Hiv_aids     0.316',\n",
       " 'IDH       0.232',\n",
       " 'Taxa_Mortalidade_Adulto     0.169',\n",
       " 'Anos_de_Escolaridade     0.092',\n",
       " 'Indice_Massa_Corporal     0.035']"
      ]
     },
     "execution_count": 91,
     "metadata": {},
     "output_type": "execute_result"
    }
   ],
   "source": [
    "importante2 = importante (X_train2,modelo2.best_estimator_.feature_importances_)\n",
    "importante2"
   ]
  },
  {
   "cell_type": "code",
   "execution_count": 88,
   "metadata": {},
   "outputs": [
    {
     "data": {
      "text/plain": [
       "1.682567933227467"
      ]
     },
     "execution_count": 88,
     "metadata": {},
     "output_type": "execute_result"
    }
   ],
   "source": [
    "metrica2"
   ]
  },
  {
   "cell_type": "code",
   "execution_count": 89,
   "metadata": {},
   "outputs": [],
   "source": [
    "X_test2_norm = sc_full.transform(X_test_des)\n",
    "metrica_final = metrica (Y_test_des,X_test2_norm,modelo2)"
   ]
  },
  {
   "cell_type": "code",
   "execution_count": 90,
   "metadata": {},
   "outputs": [
    {
     "data": {
      "text/plain": [
       "0.9412461534361958"
      ]
     },
     "execution_count": 90,
     "metadata": {},
     "output_type": "execute_result"
    }
   ],
   "source": [
    "metrica_final"
   ]
  },
  {
   "cell_type": "code",
   "execution_count": 73,
   "metadata": {},
   "outputs": [
    {
     "data": {
      "text/html": [
       "<div>\n",
       "<style scoped>\n",
       "    .dataframe tbody tr th:only-of-type {\n",
       "        vertical-align: middle;\n",
       "    }\n",
       "\n",
       "    .dataframe tbody tr th {\n",
       "        vertical-align: top;\n",
       "    }\n",
       "\n",
       "    .dataframe thead th {\n",
       "        text-align: right;\n",
       "    }\n",
       "</style>\n",
       "<table border=\"1\" class=\"dataframe\">\n",
       "  <thead>\n",
       "    <tr style=\"text-align: right;\">\n",
       "      <th></th>\n",
       "      <th>PaIs</th>\n",
       "      <th>Ano</th>\n",
       "      <th>Classificacao</th>\n",
       "      <th>Expectativa_de_Vida</th>\n",
       "      <th>Expectativa_de_vida_prevista</th>\n",
       "      <th>Taxa_Mortalidade_Adulto</th>\n",
       "      <th>Numero_Obito_Infantil</th>\n",
       "      <th>Consumo_Alcool</th>\n",
       "      <th>Gastos_Com_Saude</th>\n",
       "      <th>Hepatite_B</th>\n",
       "      <th>...</th>\n",
       "      <th>Cobertura_Polio</th>\n",
       "      <th>Relacao_GastosSaude/despesasTotais</th>\n",
       "      <th>Cobertura_Difeteria</th>\n",
       "      <th>Mortes_criancas_0-4a_Hiv_aids</th>\n",
       "      <th>PIB</th>\n",
       "      <th>Populacao</th>\n",
       "      <th>Magreza_1-19anos</th>\n",
       "      <th>Magreza_5-9anos</th>\n",
       "      <th>IDH</th>\n",
       "      <th>Anos_de_Escolaridade</th>\n",
       "    </tr>\n",
       "  </thead>\n",
       "  <tbody>\n",
       "    <tr>\n",
       "      <th>0</th>\n",
       "      <td>Afghanistan</td>\n",
       "      <td>2015</td>\n",
       "      <td>Developing</td>\n",
       "      <td>65.0</td>\n",
       "      <td>63.348404</td>\n",
       "      <td>263.0</td>\n",
       "      <td>62</td>\n",
       "      <td>0.01</td>\n",
       "      <td>71.279624</td>\n",
       "      <td>65.0</td>\n",
       "      <td>...</td>\n",
       "      <td>6.0</td>\n",
       "      <td>8.16</td>\n",
       "      <td>65.0</td>\n",
       "      <td>0.1</td>\n",
       "      <td>584.259210</td>\n",
       "      <td>33736494.0</td>\n",
       "      <td>17.2</td>\n",
       "      <td>17.3</td>\n",
       "      <td>0.479</td>\n",
       "      <td>10.1</td>\n",
       "    </tr>\n",
       "    <tr>\n",
       "      <th>1</th>\n",
       "      <td>Afghanistan</td>\n",
       "      <td>2014</td>\n",
       "      <td>Developing</td>\n",
       "      <td>59.9</td>\n",
       "      <td>59.922781</td>\n",
       "      <td>271.0</td>\n",
       "      <td>64</td>\n",
       "      <td>0.01</td>\n",
       "      <td>73.523582</td>\n",
       "      <td>62.0</td>\n",
       "      <td>...</td>\n",
       "      <td>58.0</td>\n",
       "      <td>8.18</td>\n",
       "      <td>62.0</td>\n",
       "      <td>0.1</td>\n",
       "      <td>612.696514</td>\n",
       "      <td>327582.0</td>\n",
       "      <td>17.5</td>\n",
       "      <td>17.5</td>\n",
       "      <td>0.476</td>\n",
       "      <td>10.0</td>\n",
       "    </tr>\n",
       "    <tr>\n",
       "      <th>2</th>\n",
       "      <td>Afghanistan</td>\n",
       "      <td>2013</td>\n",
       "      <td>Developing</td>\n",
       "      <td>59.9</td>\n",
       "      <td>60.171883</td>\n",
       "      <td>268.0</td>\n",
       "      <td>66</td>\n",
       "      <td>0.01</td>\n",
       "      <td>73.219243</td>\n",
       "      <td>64.0</td>\n",
       "      <td>...</td>\n",
       "      <td>62.0</td>\n",
       "      <td>8.13</td>\n",
       "      <td>64.0</td>\n",
       "      <td>0.1</td>\n",
       "      <td>631.744976</td>\n",
       "      <td>31731688.0</td>\n",
       "      <td>17.7</td>\n",
       "      <td>17.7</td>\n",
       "      <td>0.470</td>\n",
       "      <td>9.9</td>\n",
       "    </tr>\n",
       "    <tr>\n",
       "      <th>3</th>\n",
       "      <td>Afghanistan</td>\n",
       "      <td>2012</td>\n",
       "      <td>Developing</td>\n",
       "      <td>59.5</td>\n",
       "      <td>59.696894</td>\n",
       "      <td>272.0</td>\n",
       "      <td>69</td>\n",
       "      <td>0.01</td>\n",
       "      <td>78.184215</td>\n",
       "      <td>67.0</td>\n",
       "      <td>...</td>\n",
       "      <td>67.0</td>\n",
       "      <td>8.52</td>\n",
       "      <td>67.0</td>\n",
       "      <td>0.1</td>\n",
       "      <td>669.959000</td>\n",
       "      <td>3696958.0</td>\n",
       "      <td>17.9</td>\n",
       "      <td>18.0</td>\n",
       "      <td>0.463</td>\n",
       "      <td>9.8</td>\n",
       "    </tr>\n",
       "    <tr>\n",
       "      <th>4</th>\n",
       "      <td>Afghanistan</td>\n",
       "      <td>2011</td>\n",
       "      <td>Developing</td>\n",
       "      <td>59.2</td>\n",
       "      <td>59.390079</td>\n",
       "      <td>275.0</td>\n",
       "      <td>71</td>\n",
       "      <td>0.01</td>\n",
       "      <td>7.097109</td>\n",
       "      <td>68.0</td>\n",
       "      <td>...</td>\n",
       "      <td>68.0</td>\n",
       "      <td>7.87</td>\n",
       "      <td>68.0</td>\n",
       "      <td>0.1</td>\n",
       "      <td>63.537231</td>\n",
       "      <td>2978599.0</td>\n",
       "      <td>18.2</td>\n",
       "      <td>18.2</td>\n",
       "      <td>0.454</td>\n",
       "      <td>9.5</td>\n",
       "    </tr>\n",
       "    <tr>\n",
       "      <th>...</th>\n",
       "      <td>...</td>\n",
       "      <td>...</td>\n",
       "      <td>...</td>\n",
       "      <td>...</td>\n",
       "      <td>...</td>\n",
       "      <td>...</td>\n",
       "      <td>...</td>\n",
       "      <td>...</td>\n",
       "      <td>...</td>\n",
       "      <td>...</td>\n",
       "      <td>...</td>\n",
       "      <td>...</td>\n",
       "      <td>...</td>\n",
       "      <td>...</td>\n",
       "      <td>...</td>\n",
       "      <td>...</td>\n",
       "      <td>...</td>\n",
       "      <td>...</td>\n",
       "      <td>...</td>\n",
       "      <td>...</td>\n",
       "      <td>...</td>\n",
       "    </tr>\n",
       "    <tr>\n",
       "      <th>2923</th>\n",
       "      <td>Zimbabwe</td>\n",
       "      <td>2004</td>\n",
       "      <td>Developing</td>\n",
       "      <td>44.3</td>\n",
       "      <td>44.814115</td>\n",
       "      <td>723.0</td>\n",
       "      <td>27</td>\n",
       "      <td>4.36</td>\n",
       "      <td>0.000000</td>\n",
       "      <td>68.0</td>\n",
       "      <td>...</td>\n",
       "      <td>67.0</td>\n",
       "      <td>7.13</td>\n",
       "      <td>65.0</td>\n",
       "      <td>33.6</td>\n",
       "      <td>454.366654</td>\n",
       "      <td>12777511.0</td>\n",
       "      <td>9.4</td>\n",
       "      <td>9.4</td>\n",
       "      <td>0.407</td>\n",
       "      <td>9.2</td>\n",
       "    </tr>\n",
       "    <tr>\n",
       "      <th>2924</th>\n",
       "      <td>Zimbabwe</td>\n",
       "      <td>2003</td>\n",
       "      <td>Developing</td>\n",
       "      <td>44.5</td>\n",
       "      <td>45.184442</td>\n",
       "      <td>715.0</td>\n",
       "      <td>26</td>\n",
       "      <td>4.06</td>\n",
       "      <td>0.000000</td>\n",
       "      <td>7.0</td>\n",
       "      <td>...</td>\n",
       "      <td>7.0</td>\n",
       "      <td>6.52</td>\n",
       "      <td>68.0</td>\n",
       "      <td>36.7</td>\n",
       "      <td>453.351155</td>\n",
       "      <td>12633897.0</td>\n",
       "      <td>9.8</td>\n",
       "      <td>9.9</td>\n",
       "      <td>0.418</td>\n",
       "      <td>9.5</td>\n",
       "    </tr>\n",
       "    <tr>\n",
       "      <th>2925</th>\n",
       "      <td>Zimbabwe</td>\n",
       "      <td>2002</td>\n",
       "      <td>Developing</td>\n",
       "      <td>44.8</td>\n",
       "      <td>50.362138</td>\n",
       "      <td>73.0</td>\n",
       "      <td>25</td>\n",
       "      <td>4.43</td>\n",
       "      <td>0.000000</td>\n",
       "      <td>73.0</td>\n",
       "      <td>...</td>\n",
       "      <td>73.0</td>\n",
       "      <td>6.53</td>\n",
       "      <td>71.0</td>\n",
       "      <td>39.8</td>\n",
       "      <td>57.348340</td>\n",
       "      <td>125525.0</td>\n",
       "      <td>1.2</td>\n",
       "      <td>1.3</td>\n",
       "      <td>0.427</td>\n",
       "      <td>10.0</td>\n",
       "    </tr>\n",
       "    <tr>\n",
       "      <th>2926</th>\n",
       "      <td>Zimbabwe</td>\n",
       "      <td>2001</td>\n",
       "      <td>Developing</td>\n",
       "      <td>45.3</td>\n",
       "      <td>45.607344</td>\n",
       "      <td>686.0</td>\n",
       "      <td>25</td>\n",
       "      <td>1.72</td>\n",
       "      <td>0.000000</td>\n",
       "      <td>76.0</td>\n",
       "      <td>...</td>\n",
       "      <td>76.0</td>\n",
       "      <td>6.16</td>\n",
       "      <td>75.0</td>\n",
       "      <td>42.1</td>\n",
       "      <td>548.587312</td>\n",
       "      <td>12366165.0</td>\n",
       "      <td>1.6</td>\n",
       "      <td>1.7</td>\n",
       "      <td>0.427</td>\n",
       "      <td>9.8</td>\n",
       "    </tr>\n",
       "    <tr>\n",
       "      <th>2927</th>\n",
       "      <td>Zimbabwe</td>\n",
       "      <td>2000</td>\n",
       "      <td>Developing</td>\n",
       "      <td>46.0</td>\n",
       "      <td>45.833838</td>\n",
       "      <td>665.0</td>\n",
       "      <td>24</td>\n",
       "      <td>1.68</td>\n",
       "      <td>0.000000</td>\n",
       "      <td>79.0</td>\n",
       "      <td>...</td>\n",
       "      <td>78.0</td>\n",
       "      <td>7.10</td>\n",
       "      <td>78.0</td>\n",
       "      <td>43.5</td>\n",
       "      <td>547.358878</td>\n",
       "      <td>12222251.0</td>\n",
       "      <td>11.0</td>\n",
       "      <td>11.2</td>\n",
       "      <td>0.434</td>\n",
       "      <td>9.8</td>\n",
       "    </tr>\n",
       "  </tbody>\n",
       "</table>\n",
       "<p>2928 rows × 23 columns</p>\n",
       "</div>"
      ],
      "text/plain": [
       "             PaIs   Ano Classificacao  Expectativa_de_Vida  \\\n",
       "0     Afghanistan  2015    Developing                 65.0   \n",
       "1     Afghanistan  2014    Developing                 59.9   \n",
       "2     Afghanistan  2013    Developing                 59.9   \n",
       "3     Afghanistan  2012    Developing                 59.5   \n",
       "4     Afghanistan  2011    Developing                 59.2   \n",
       "...           ...   ...           ...                  ...   \n",
       "2923     Zimbabwe  2004    Developing                 44.3   \n",
       "2924     Zimbabwe  2003    Developing                 44.5   \n",
       "2925     Zimbabwe  2002    Developing                 44.8   \n",
       "2926     Zimbabwe  2001    Developing                 45.3   \n",
       "2927     Zimbabwe  2000    Developing                 46.0   \n",
       "\n",
       "      Expectativa_de_vida_prevista  Taxa_Mortalidade_Adulto  \\\n",
       "0                        63.348404                    263.0   \n",
       "1                        59.922781                    271.0   \n",
       "2                        60.171883                    268.0   \n",
       "3                        59.696894                    272.0   \n",
       "4                        59.390079                    275.0   \n",
       "...                            ...                      ...   \n",
       "2923                     44.814115                    723.0   \n",
       "2924                     45.184442                    715.0   \n",
       "2925                     50.362138                     73.0   \n",
       "2926                     45.607344                    686.0   \n",
       "2927                     45.833838                    665.0   \n",
       "\n",
       "      Numero_Obito_Infantil  Consumo_Alcool  Gastos_Com_Saude  Hepatite_B  \\\n",
       "0                        62            0.01         71.279624        65.0   \n",
       "1                        64            0.01         73.523582        62.0   \n",
       "2                        66            0.01         73.219243        64.0   \n",
       "3                        69            0.01         78.184215        67.0   \n",
       "4                        71            0.01          7.097109        68.0   \n",
       "...                     ...             ...               ...         ...   \n",
       "2923                     27            4.36          0.000000        68.0   \n",
       "2924                     26            4.06          0.000000         7.0   \n",
       "2925                     25            4.43          0.000000        73.0   \n",
       "2926                     25            1.72          0.000000        76.0   \n",
       "2927                     24            1.68          0.000000        79.0   \n",
       "\n",
       "      ...  Cobertura_Polio  Relacao_GastosSaude/despesasTotais  \\\n",
       "0     ...              6.0                                8.16   \n",
       "1     ...             58.0                                8.18   \n",
       "2     ...             62.0                                8.13   \n",
       "3     ...             67.0                                8.52   \n",
       "4     ...             68.0                                7.87   \n",
       "...   ...              ...                                 ...   \n",
       "2923  ...             67.0                                7.13   \n",
       "2924  ...              7.0                                6.52   \n",
       "2925  ...             73.0                                6.53   \n",
       "2926  ...             76.0                                6.16   \n",
       "2927  ...             78.0                                7.10   \n",
       "\n",
       "      Cobertura_Difeteria  Mortes_criancas_0-4a_Hiv_aids         PIB  \\\n",
       "0                    65.0                            0.1  584.259210   \n",
       "1                    62.0                            0.1  612.696514   \n",
       "2                    64.0                            0.1  631.744976   \n",
       "3                    67.0                            0.1  669.959000   \n",
       "4                    68.0                            0.1   63.537231   \n",
       "...                   ...                            ...         ...   \n",
       "2923                 65.0                           33.6  454.366654   \n",
       "2924                 68.0                           36.7  453.351155   \n",
       "2925                 71.0                           39.8   57.348340   \n",
       "2926                 75.0                           42.1  548.587312   \n",
       "2927                 78.0                           43.5  547.358878   \n",
       "\n",
       "       Populacao  Magreza_1-19anos  Magreza_5-9anos    IDH  \\\n",
       "0     33736494.0              17.2             17.3  0.479   \n",
       "1       327582.0              17.5             17.5  0.476   \n",
       "2     31731688.0              17.7             17.7  0.470   \n",
       "3      3696958.0              17.9             18.0  0.463   \n",
       "4      2978599.0              18.2             18.2  0.454   \n",
       "...          ...               ...              ...    ...   \n",
       "2923  12777511.0               9.4              9.4  0.407   \n",
       "2924  12633897.0               9.8              9.9  0.418   \n",
       "2925    125525.0               1.2              1.3  0.427   \n",
       "2926  12366165.0               1.6              1.7  0.427   \n",
       "2927  12222251.0              11.0             11.2  0.434   \n",
       "\n",
       "      Anos_de_Escolaridade  \n",
       "0                     10.1  \n",
       "1                     10.0  \n",
       "2                      9.9  \n",
       "3                      9.8  \n",
       "4                      9.5  \n",
       "...                    ...  \n",
       "2923                   9.2  \n",
       "2924                   9.5  \n",
       "2925                  10.0  \n",
       "2926                   9.8  \n",
       "2927                   9.8  \n",
       "\n",
       "[2928 rows x 23 columns]"
      ]
     },
     "execution_count": 73,
     "metadata": {},
     "output_type": "execute_result"
    }
   ],
   "source": [
    "df_completo.insert(4,'Expectativa_de_vida_prevista', yhat_completo_full)\n",
    "df_completo"
   ]
  },
  {
   "cell_type": "code",
   "execution_count": 92,
   "metadata": {},
   "outputs": [
    {
     "data": {
      "image/png": "[encoded data removed]",
      "text/plain": [
       "<Figure size 800x600 with 1 Axes>"
      ]
     },
     "metadata": {},
     "output_type": "display_data"
    }
   ],
   "source": [
    "plt.figure(figsize=(8,6))\n",
    "ax = sns.lineplot(data=df_completo,x='Ano', y='Expectativa_de_Vida',ci='sd')\n",
    "ax = sns.lineplot(data=results_full,x='Ano', y='Expectativa_Vida_previsto',color='Green',ci='sd')\n",
    "# Inserindo descritivo na legenda\n",
    "plt.legend(['Expectativa de vida real','desvio padrão','Expectativa de vida Prevista','desvio padrão'],loc=4) \n",
    "plt.title('Modelo de Previsão Dados Completos')\n",
    "ax.get_figure().savefig(\"Previsão_Expectativa_de_vida_completo.png\")"
   ]
  },
  {
   "cell_type": "code",
   "execution_count": 93,
   "metadata": {},
   "outputs": [
    {
     "data": {
      "image/png": "[encoded data removed]",
      "text/plain": [
       "<Figure size 800x600 with 1 Axes>"
      ]
     },
     "metadata": {},
     "output_type": "display_data"
    }
   ],
   "source": [
    "plt.figure(figsize=(8,6))\n",
    "ax1 = sns.lineplot(data=df_des,x='Ano', y='Expectativa_de_Vida',ci='sd', color='Blue')\n",
    "ax1 = sns.lineplot(data=df_emdes,x='Ano', y='Expectativa_de_Vida',ci='sd',color='Blue')\n",
    "#ax = sns.lineplot(data=results_full,x='Ano', y='Expectativa_Vida_previsto',color='Green',ci='sd')\n",
    "ax1 = sns.lineplot(data=results_emdes,x='Ano', y='Expectativa_Vida_previsto',color='Green',ci='sd')\n",
    "ax1 = sns.lineplot(data=results_des,x='Ano', y='Expectativa_Vida_previsto',color='Green',ci='sd')\n",
    "# Inserindo descritivo na legenda\n",
    "plt.legend(['Expectativa de vida real','desvio padrão','Expectativa de vida Prevista','desvio padrão'],loc=4) \n",
    "plt.title('Resultado do Modelo de Previsão com separação de Classe')\n",
    "ax1.get_figure().savefig(\"Previsão_Expectativa_de_vida.png\")"
   ]
  }
 ],
 "metadata": {
  "kernelspec": {
   "display_name": "expectativa_de_vida",
   "language": "python",
   "name": "python3"
  },
  "language_info": {
   "codemirror_mode": {
    "name": "ipython",
    "version": 3
   },
   "file_extension": ".py",
   "mimetype": "text/x-python",
   "name": "python",
   "nbconvert_exporter": "python",
   "pygments_lexer": "ipython3",
   "version": "3.11.3"
  },
  "orig_nbformat": 4
 },
 "nbformat": 4,
 "nbformat_minor": 2
}
